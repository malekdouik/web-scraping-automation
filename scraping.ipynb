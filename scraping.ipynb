{
 "cells": [
  {
   "cell_type": "markdown",
   "metadata": {},
   "source": [
    "# <center> Scraping </center>"
   ]
  },
  {
   "cell_type": "markdown",
   "metadata": {},
   "source": [
    "# Article newspaper3K"
   ]
  },
  {
   "cell_type": "code",
   "execution_count": 2,
   "metadata": {},
   "outputs": [],
   "source": [
    "import requests\n",
    "from bs4 import BeautifulSoup\n",
    "from newspaper import Article"
   ]
  },
  {
   "cell_type": "code",
   "execution_count": null,
   "metadata": {},
   "outputs": [],
   "source": [
    "url=''\n",
    "page = requests.get(url)"
   ]
  },
  {
   "cell_type": "code",
   "execution_count": 3,
   "metadata": {},
   "outputs": [],
   "source": []
  },
  {
   "cell_type": "code",
   "execution_count": 11,
   "metadata": {},
   "outputs": [],
   "source": [
    "url = 'https://www.bbc.com/news/election-us-2020-53858149'\n",
    "article = Article(url)\n",
    "article.download()\n",
    "article.parse()"
   ]
  },
  {
   "cell_type": "code",
   "execution_count": 12,
   "metadata": {},
   "outputs": [
    {
     "data": {
      "text/plain": [
       "[]"
      ]
     },
     "execution_count": 12,
     "metadata": {},
     "output_type": "execute_result"
    }
   ],
   "source": [
    "article.authors"
   ]
  },
  {
   "cell_type": "code",
   "execution_count": 14,
   "metadata": {},
   "outputs": [],
   "source": [
    "article.publish_date"
   ]
  },
  {
   "cell_type": "code",
   "execution_count": 15,
   "metadata": {},
   "outputs": [
    {
     "data": {
      "text/plain": [
       "'Media playback is unsupported on your device Media caption Biden takes a swipe at Trump: \\'Character and decency are on the ballot\\'\\n\\nNewly minted Democratic White House nominee Joe Biden said US President Donald Trump has \"cloaked America in darkness for much too long\".\\n\\nThe former US vice-president said his rival has unleashed \"too much anger, too much fear, too much division\".\\n\\nHis impassioned speech was the capstone of a political career spanning nearly half a century.\\n\\nMr Biden, 77, heads into the general election campaign with a clear lead in opinion polls over Mr Trump, 74.\\n\\nBut with 75 days to go until the election the Republican president has plenty of time to narrow the gap.\\n\\nWhat did Biden say?\\n\\nMr Biden\\'s live speech marked the grand finale of the four-night Democratic party conference.\\n\\nBut there was no balloon drop, cheering throngs, or any of the other fanfare and razzamatazz of the typical American party conference, because of the coronavirus pandemic.\\n\\nOrganisers opted instead for a virtual set piece of mostly pre-recorded speeches crunched into two hours of highly produced programming each evening.\\n\\nMedia playback is unsupported on your device Media caption Joe Biden: Will it be third time lucky in 2020?\\n\\nIn his address from his hometown of Wilmington, Delaware, Mr Biden said: \"Here and now, I give you my word, if you entrust me with the presidency, I will draw on the best of us, not the worst.\\n\\n\"I\\'ll be an ally of the light, not the darkness.\\n\\n\"It\\'s time for us, for we the people, to come together. And make no mistake, united we can and will overcome this season of darkness in America.\\n\\n\"We\\'ll choose hope over fear, facts over fiction, fairness over privilege.\"\\n\\nMr Biden said \"character is on the ballot\" this November.\\n\\nMedia playback is unsupported on your device Media caption How did voters react to Joe Biden\\'s speech?\\n\\n\"We can choose a path of becoming angrier, less hopeful, more divided, a path of shadow and suspicion,\" he said.\\n\\n\"Or, or, we can choose a different path and together take this chance to heal, to reform, to unite. A path of hope and light.\\n\\n\"This is a life-changing election. This will determine what America is going to look like for a long, long time.\"\\n\\nMr Biden vowed to heal a country crippled by a deadly pandemic and economic catastrophe and riven by a reckoning on race.\\n\\nHe continued: \"What we know about this president is that if he\\'s given four more years, he\\'ll be what he\\'s been for the last four years.\\n\\n\"A president who takes no responsibility, refuses to lead, blames others, cosies up to dictators and fan the flames of hate and division.\\n\\nImage copyright Reuters Image caption Mr Biden was joined on stage after the speech by his wife, Jill, and Kamala Harris - who is running for vice-president - and her husband, Doug Emhoff\\n\\n\"He\\'ll wake up every day believing the job is all about him, never about you.\\n\\n\"Is that the America you want for you, your family and your children?\"\\n\\nReferring to America\\'s coronavirus death toll, Mr Biden said: \"Our current president has failed in his most basic duty to the nation: he has failed to protect us.\"\\n\\nParaphrasing the Irish poet Seamus Heaney, he concluded: \"This is our moment to make hope and history rhyme.\"\\n\\nBiden delivers\\n\\nCall it Joe Biden\\'s \"return to normalcy\" speech.\\n\\nThat was Warren G Harding\\'s campaign slogan when he ran for president in 1920, with a campaign centred around healing and calming Americans after the trauma of World War One.\\n\\nIn his winning presidential bid, he preached healing, serenity and restoration. To put it in modern terms, an end to all the drama.\\n\\nMr Biden bills his campaign as a \"battle for the soul of this nation\", but his message on Thursday night - the message of many of the Democratic speakers this week - was not so different from Harding\\'s.\\n\\nThere was a lot of pressure on Mr Biden to deliver with this speech, particularly when Republicans have suggested the 77-year-old was in decline or \"diminished\".\\n\\nAt least for one night, the former vice-president, who has given rousing stemwinders in the past, hit all his marks. He was angry when he had to be, and reassuring when needed to be.\\n\\nMr Biden gave a powerful speech, delivered powerfully. If he loses in November, it won\\'t be because of anything that happened on Thursday night or at the convention this entire week - which is exactly what a party currently leading in the polls wants.\\n\\nWhat else happened at the convention?\\n\\nMedia playback is unsupported on your device Media caption Watch Veep star Julia Louis Dreyfus take aim at President Trump\\n\\nThursday night\\'s climax was hosted by actress Julia Louis-Dreyfus, the star of US political satire Veep and a vocal critic of Mr Trump.\\n\\nThroughout the evening, Democrats who had challenged Mr Biden for the nomination praised his leadership in a taped messages.\\n\\nSome of those former rivals - US Senators Bernie Sanders, Elizabeth Warren, Amy Klobuchar and Cory Booker; former congressman Beto O\\'Rourke, former South Bend, Indiana, mayor Pete Buttigieg and entrepreneur Andrew Yang - could be in line for jobs in a Biden administration.\\n\\nMedia playback is unsupported on your device Media caption Brayden Harrington: \\'Joe Biden made me more confident about my stutter\\'\\n\\nSpeakers at the convention over the past three nights have depicted Mr Trump as incompetent, selfish and a danger to democracy, imploring Americans to vote him out of office - a tone that Mr Biden echoed.\\n\\nOn Wednesday his running mate, California Senator Kamala Harris, became the first black woman to accept a major party\\'s vice-presidential nomination.\\n\\nThe daughter of Indian and Jamaican immigrants assailed Mr Trump\\'s \"failure of leadership\" and amplified the cries for racial justice that have convulsed the nation.\\n\\nMedia playback is unsupported on your device Media caption Who is Kamala Harris? A look at the life and career of a historic VP pick\\n\\n\"There is no vaccine for racism. We have got to do the work,\" the 55-year-old said, adding: \"None of us are free until all of us are free.\"\\n\\nHow is Trump responding?\\n\\nEarlier on Thursday, Mr Trump - who has nicknamed his challenger \"slow Joe\" and \"sleepy Joe\" - visited Mr Biden\\'s birthplace of Scranton in the presidential swing-voting state of Pennsylvania.\\n\\n\"Biden is no friend of Pennsylvania,\" Mr Trump said, accusing his opponent of destroying American jobs through global trade deals, the Paris climate accord and clean energy plans.\\n\\nMedia playback is unsupported on your device Media caption President Trump praises a bizarre internet conspiracy theory on Wednesday\\n\\nHe said: \"If you want a vision of your life under a Biden presidency, think of the smouldering ruins in Minneapolis, the violent anarchy of Portland, the blood-stained sidewalks of Chicago and imagine the mayhem coming to our town and every single town in America.\"\\n\\nAs the Democratic nominee was still speaking on Thursday, the Trump 2020 campaign issued a statement, dismissing Mr Biden as \"a pawn of the radical leftists\".\\n\\nSpokesman Tim Murtaugh said: \"His name is on the campaign logo, but the ideas come from the socialist extremists.\"\\n\\nNext week, Mr Trump is expected to accept his nomination as the Republican candidate from the White House lawn during his party\\'s convention, which has been drastically scaled down because of the pandemic.\\n\\nWho is Joe Biden?\\n\\nMr Biden became a US senator from Delaware in 1973, working his way up to the chairmanship of the chamber\\'s judiciary and foreign relations committees.\\n\\nAfter two unsuccessful White House campaigns, in 1988 and 2008, he became vice-president to Barack Obama, the nation\\'s first black president, serving as his deputy from 2009-17.\\n\\nMedia playback is unsupported on your device Media caption On Wednesday night at the Democratic convention, Barack Obama excoriated Mr Trump\\n\\nOnly in February this year, Mr Biden\\'s third run to become the Democratic White House nominee seemed on the verge of collapse.\\n\\nThen black voters in South Carolina\\'s primary rewarded him with a victory that made his candidacy seem all but inevitable virtually overnight.\\n\\nMr Biden has faced questions about his age - he would be the oldest president ever elected. And his lengthy centrist record has come under heavy scrutiny in a party that has been gravitating leftwards.\\n\\nBut he was able to rally the unruly progressive and moderate wings of his party to his banner by persuading Democratic voters that he has the best chance of defeating Mr Trump.'"
      ]
     },
     "execution_count": 15,
     "metadata": {},
     "output_type": "execute_result"
    }
   ],
   "source": [
    "article.text"
   ]
  },
  {
   "cell_type": "code",
   "execution_count": 16,
   "metadata": {},
   "outputs": [
    {
     "data": {
      "text/plain": [
       "'https://ichef.bbci.co.uk/images/ic/1024x576/p08p786f.jpg'"
      ]
     },
     "execution_count": 16,
     "metadata": {},
     "output_type": "execute_result"
    }
   ],
   "source": [
    "article.top_image"
   ]
  },
  {
   "cell_type": "code",
   "execution_count": 17,
   "metadata": {},
   "outputs": [],
   "source": [
    "article.nlp()"
   ]
  },
  {
   "cell_type": "code",
   "execution_count": 18,
   "metadata": {},
   "outputs": [
    {
     "data": {
      "text/plain": [
       "['vows',\n",
       " 'end',\n",
       " 'media',\n",
       " 'device',\n",
       " 'caption',\n",
       " '2020',\n",
       " 'unsupported',\n",
       " 'joe',\n",
       " 'mr',\n",
       " 'trump',\n",
       " 'dnc',\n",
       " 'biden',\n",
       " 'president',\n",
       " 'playback',\n",
       " 'trumps',\n",
       " 'season',\n",
       " 'darkness']"
      ]
     },
     "execution_count": 18,
     "metadata": {},
     "output_type": "execute_result"
    }
   ],
   "source": [
    "article.keywords"
   ]
  },
  {
   "cell_type": "code",
   "execution_count": 19,
   "metadata": {},
   "outputs": [
    {
     "data": {
      "text/plain": [
       "\"Mr Biden, 77, heads into the general election campaign with a clear lead in opinion polls over Mr Trump, 74.\\nMedia playback is unsupported on your device Media caption Joe Biden: Will it be third time lucky in 2020?\\nMr Biden vowed to heal a country crippled by a deadly pandemic and economic catastrophe and riven by a reckoning on race.\\nThroughout the evening, Democrats who had challenged Mr Biden for the nomination praised his leadership in a taped messages.\\nMr Biden became a US senator from Delaware in 1973, working his way up to the chairmanship of the chamber's judiciary and foreign relations committees.\""
      ]
     },
     "execution_count": 19,
     "metadata": {},
     "output_type": "execute_result"
    }
   ],
   "source": [
    "article.summary"
   ]
  },
  {
   "cell_type": "markdown",
   "metadata": {},
   "source": [
    "# configparser : read params from config file "
   ]
  },
  {
   "cell_type": "code",
   "execution_count": null,
   "metadata": {},
   "outputs": [],
   "source": [
    "# read params from config file \n",
    "from configparser import ConfigParser\n",
    "config = ConfigParser()\n",
    "config.read('test.ini')\n",
    "\n",
    "print(config.sections())\n",
    "print('-----------------------')\n",
    "print(config['https://www.bbc.com/news/world-europe-53802045'])\n",
    "print('-----------------------')\n",
    "print(list(config['https://www.bbc.com/news/world-europe-53802045']))\n",
    "print('------------------------')\n",
    "print(config['https://www.bbc.com/news/world-europe-53802045']['baliz'])\n",
    "print('------------------------')\n",
    "print(config['https://www.bbc.com/news/world-europe-53802045']['class_name'])\n",
    "\n",
    "# write in file\n",
    "config.add_section('https://www.youtube.com/watch?v=Gdw0-QGq-z0')\n",
    "config.set('https://www.youtube.com/watch?v=Gdw0-QGq-z0','url','https://www.youtube.com/watch?v=Gdw0-QGq-z0')\n",
    "\n",
    "config.set('https://www.youtube.com/watch?v=Gdw0-QGq-z0','baliz',\"['h3','h2']\")\n",
    "\n",
    "config.set('https://www.youtube.com/watch?v=Gdw0-QGq-z0','class_name',\"['bold-image-promo__title','blue-tit__title']\")\n",
    "\n",
    "##\n",
    "with open('test.ini','w') as configfile:\n",
    "    config.write(configfile)"
   ]
  },
  {
   "cell_type": "markdown",
   "metadata": {},
   "source": [
    "# <center> <b> 1. [ Web Scraping ] </b> </center>"
   ]
  },
  {
   "cell_type": "code",
   "execution_count": 3,
   "metadata": {},
   "outputs": [],
   "source": [
    "from newspaper import Article\n",
    "import pandas as pd\n",
    "import requests\n",
    "from bs4 import BeautifulSoup\n",
    "import urllib\n",
    "from lxml import html"
   ]
  },
  {
   "cell_type": "code",
   "execution_count": 73,
   "metadata": {},
   "outputs": [],
   "source": [
    "def write_infile_webpage(url,baliz=[],class_name=[]):\n",
    "    # write data in a file\n",
    "    a=\"[\"+url+\"]\"\n",
    "    with open(\"test1.ini\", \"a\") as file1:\n",
    "        file1.write(a)\n",
    "        file1.write(\"\\n\")\n",
    "        file1.write(\"url =\" + url+'\\n')\n",
    "        file1.write('baliz = '+str(baliz)) \n",
    "        file1.write(\"\\n\")\n",
    "        file1.write(\"class_name = \"+ str(class_name)) \n",
    "        file1.write(\"\\n \\n\")"
   ]
  },
  {
   "cell_type": "code",
   "execution_count": 74,
   "metadata": {},
   "outputs": [],
   "source": [
    "# read params from config file \n",
    "def read_file_function(url):\n",
    "    from configparser import ConfigParser\n",
    "    import ast \n",
    "\n",
    "    ## read file config\n",
    "    config = ConfigParser()\n",
    "    config.read('test1.ini') \n",
    "    \n",
    "    ### read entity\n",
    "    baliz= config[url]['baliz']\n",
    "    class_name=config[url]['class_name']\n",
    "    lien = config[url]['url']\n",
    "\n",
    "  # url test = 'https://www.bbc.com/news/world-europe-53802045' \n",
    "\n",
    "  # Convert str to list\n",
    "    baliz=ast.literal_eval(baliz) \n",
    "    class_name=ast.literal_eval(class_name) \n",
    "    \n",
    "    return baliz,class_name,lien"
   ]
  },
  {
   "cell_type": "code",
   "execution_count": 60,
   "metadata": {},
   "outputs": [],
   "source": [
    "def scraping_function(lien,baliz=[], class_name=[],xpath=[]):    \n",
    "    url = lien\n",
    "    article = Article(url)\n",
    "    article.download()\n",
    "    article.parse()\n",
    "#bfs4\n",
    "    \n",
    "    page = urllib.request.urlopen(url)\n",
    "    soup = BeautifulSoup(page, 'html.parser')\n",
    "\n",
    "# Newspaper3K :\n",
    "    authors=article.authors\n",
    "    publish_date=article.publish_date\n",
    "    text=article.text\n",
    "    top_image=article.top_image\n",
    "    resultat=[]\n",
    "\n",
    "# Beautifulsoup\n",
    "    for i in zip(baliz, class_name):\n",
    "    # resultat.append(soup.findAll(baliz, {\"class\": class_name}))\n",
    "        resultat.append(soup.findAll(baliz,class_=class_name))\n",
    "\n",
    "# Beautifulsoup + Xpath\n",
    "    page2 = requests.get(url)\n",
    "    tree = html.fromstring(page2.content)\n",
    "    buyers = tree.xpath('//*[@id=\"page\"]/div[1]/div[2]/div/div[1]/div[1]/div[2]/p[1]'+'/text()')\n",
    "\n",
    " ########   \n",
    "    df1 = pd.DataFrame({'result_scraping':resultat[0] })  \n",
    "\n",
    "\n",
    "# Storage data in dataframe \n",
    "    df = pd.DataFrame({\n",
    "    'Authors':[authors],\n",
    "    'Publish_date':[publish_date],\n",
    "    'Text':[text],\n",
    "    'image':[top_image]\n",
    "    })\n",
    "    df.head()\n",
    "\n",
    "# Sentiment analysis with textBlob    \n",
    "    #df['Sentiment'][i] = df[i].apply(lambda row : sentiment_scores(row['Text']), axis = 1)\n",
    "\n",
    "# NLP : system NER    \n",
    "\n",
    "    return df\n",
    "# Manajamech naamel return lel df whed "
   ]
  },
  {
   "cell_type": "code",
   "execution_count": 34,
   "metadata": {},
   "outputs": [],
   "source": [
    "url='https://www.bbc.com/news/world-europe-53802045'\n",
    "df=scraping_function(read_file_function(url)[2],read_file_function(url)[0],read_file_function(url)[1])"
   ]
  },
  {
   "cell_type": "code",
   "execution_count": 35,
   "metadata": {
    "tags": []
   },
   "outputs": [
    {
     "data": {
      "text/html": [
       "<div>\n",
       "<style scoped>\n",
       "    .dataframe tbody tr th:only-of-type {\n",
       "        vertical-align: middle;\n",
       "    }\n",
       "\n",
       "    .dataframe tbody tr th {\n",
       "        vertical-align: top;\n",
       "    }\n",
       "\n",
       "    .dataframe thead th {\n",
       "        text-align: right;\n",
       "    }\n",
       "</style>\n",
       "<table border=\"1\" class=\"dataframe\">\n",
       "  <thead>\n",
       "    <tr style=\"text-align: right;\">\n",
       "      <th></th>\n",
       "      <th>Authors</th>\n",
       "      <th>Publish_date</th>\n",
       "      <th>Text</th>\n",
       "      <th>image</th>\n",
       "    </tr>\n",
       "  </thead>\n",
       "  <tbody>\n",
       "    <tr>\n",
       "      <th>0</th>\n",
       "      <td>[]</td>\n",
       "      <td>None</td>\n",
       "      <td>Image copyright EPA Image caption MSC Cruises ...</td>\n",
       "      <td>https://ichef.bbci.co.uk/news/1024/branded_new...</td>\n",
       "    </tr>\n",
       "  </tbody>\n",
       "</table>\n",
       "</div>"
      ],
      "text/plain": [
       "  Authors Publish_date                                               Text  \\\n",
       "0      []         None  Image copyright EPA Image caption MSC Cruises ...   \n",
       "\n",
       "                                               image  \n",
       "0  https://ichef.bbci.co.uk/news/1024/branded_new...  "
      ]
     },
     "execution_count": 35,
     "metadata": {},
     "output_type": "execute_result"
    }
   ],
   "source": [
    "df.head()"
   ]
  },
  {
   "cell_type": "code",
   "execution_count": 593,
   "metadata": {},
   "outputs": [],
   "source": [
    "df.head()\n",
    "json = df.to_json() "
   ]
  },
  {
   "cell_type": "code",
   "execution_count": 594,
   "metadata": {},
   "outputs": [
    {
     "data": {
      "text/plain": [
       "'{\"Authors\":{\"0\":[]},\"Publish_date\":{\"0\":null},\"Text\":{\"0\":\"Image copyright EPA Image caption MSC Cruises says all passengers and crew have been tested for coronavirus before boarding\\\\n\\\\nThe first major cruise ship to set sail in the Mediterranean in almost five months has left from the Italian city of Genoa.\\\\n\\\\nThe MSC Grandiosa will stop at three Italian ports and the Maltese capital Valletta in a seven-day voyage.\\\\n\\\\nOperator MSC Cruises, say all passengers and crew have been tested for coronavirus before boarding.\\\\n\\\\nIt comes as virus cases continue to rise around Italy, with more than 600 reported by authorities yesterday.\\\\n\\\\nIn response, Italian authorities have ordered the closure of all dance halls and night clubs from Monday. Face masks will also be mandatory from 18:00 to 06:00 local time in public spaces where social distancing isn\\'t possible.\\\\n\\\\nMSC Cruises said it will also be operating the MSC Grandiosa at around 70% of its normal operations, with approximately 2,500 passengers onboard, to ensure safety protocols.\\\\n\\\\nIts launch is seen as a first step towards rebooting an industry that generates an estimated $150bn (\\\\u00a3114bn) for the world economy, according to the Cruise Lines International Association (CLIA).\\\\n\\\\nFor Italy, badly hit by coronavirus, it is particularly important. It ranks seventh among the cruise ship operating nations, carrying more than 800,000 passengers in 2018.\\\\n\\\\nLast week Italy\\'s government gave permission for cruise lines to resume operations in the country from 15 August.\\\\n\\\\nMSC Cruises, which operates the MSC Grandiosa, will launch another cruise from the Italian port of Bari on 29 August, but has otherwise suspended its Mediterranean cruises until mid-October.\\\\n\\\\nThe international cruise industry has taken huge financial losses due to the pandemic. Several carriers have also been criticised for leaving thousands of passengers stranded aboard ships in Asia and the US in the early months of the pandemic. As of 11 June, 3,047 people were infected and 73 died while aboard 48 cruise ships affiliated with CLIA, according to data from Johns Hopkins University.\\\\n\\\\nThe company said its new security protocols - including daily temperature checks for those onboard - exceed national and industry standards. But the sailing of MSC Grandiosa represents a key test for the industry amid lingering concerns over passenger safety.\\\\n\\\\nAt the end of July, a small Norwegian operator, Hurtigruten, was forced to suspend its newly restarted service after dozens of passengers and crew tested positive for coronavirus.\"},\"image\":{\"0\":\"https:\\\\/\\\\/ichef.bbci.co.uk\\\\/news\\\\/1024\\\\/branded_news\\\\/54DE\\\\/production\\\\/_113962712_hi062933166.jpg\"}}'"
      ]
     },
     "execution_count": 594,
     "metadata": {},
     "output_type": "execute_result"
    }
   ],
   "source": [
    "json"
   ]
  },
  {
   "cell_type": "code",
   "execution_count": 533,
   "metadata": {},
   "outputs": [],
   "source": [
    "urlpage = 'https://www.bbc.com/news/world-europe-53802045'\n",
    "page = urllib.request.urlopen(urlpage)\n",
    "soup = BeautifulSoup(page, 'html.parser')\n",
    "\n",
    "resultat=[]\n",
    "baliz=['h3','h2']\n",
    "class_name=['bold-image-promo__title','blue-tit__title']\n",
    "\n",
    "for i in zip(baliz, class_name):\n",
    "    resultat.append(soup.findAll(baliz,class_=class_name))\n",
    "\n",
    "df1 = pd.DataFrame({'result_scraping':resultat[0] })\n",
    "#df1= df1.transpose()"
   ]
  },
  {
   "cell_type": "code",
   "execution_count": 535,
   "metadata": {},
   "outputs": [],
   "source": [
    "df2= df1.transpose()"
   ]
  },
  {
   "cell_type": "code",
   "execution_count": 536,
   "metadata": {},
   "outputs": [
    {
     "data": {
      "text/html": [
       "<div>\n",
       "<style scoped>\n",
       "    .dataframe tbody tr th:only-of-type {\n",
       "        vertical-align: middle;\n",
       "    }\n",
       "\n",
       "    .dataframe tbody tr th {\n",
       "        vertical-align: top;\n",
       "    }\n",
       "\n",
       "    .dataframe thead th {\n",
       "        text-align: right;\n",
       "    }\n",
       "</style>\n",
       "<table border=\"1\" class=\"dataframe\">\n",
       "  <thead>\n",
       "    <tr style=\"text-align: right;\">\n",
       "      <th></th>\n",
       "      <th>0</th>\n",
       "      <th>1</th>\n",
       "      <th>2</th>\n",
       "      <th>3</th>\n",
       "      <th>4</th>\n",
       "      <th>5</th>\n",
       "      <th>6</th>\n",
       "      <th>7</th>\n",
       "      <th>8</th>\n",
       "      <th>9</th>\n",
       "    </tr>\n",
       "  </thead>\n",
       "  <tbody>\n",
       "    <tr>\n",
       "      <th>result_scraping</th>\n",
       "      <td>[A 100-year milestone for women... and what co...</td>\n",
       "      <td>[Now I have the courage to say 'enough']</td>\n",
       "      <td>[How many Covid-19 deaths is India missing?]</td>\n",
       "      <td>[Israel opens tentative new chapter with Gulf ...</td>\n",
       "      <td>[Microsoft puts the entire world in a game]</td>\n",
       "      <td>[Why Egypt's troops might get caught up in Lib...</td>\n",
       "      <td>[BBC Travel: The cold land obsessed with swimm...</td>\n",
       "      <td>['Why was my sister jailed for dancing on TikT...</td>\n",
       "      <td>[What are the rules in France and other parts ...</td>\n",
       "      <td>[BBC News Services]</td>\n",
       "    </tr>\n",
       "  </tbody>\n",
       "</table>\n",
       "</div>"
      ],
      "text/plain": [
       "                                                                 0  \\\n",
       "result_scraping  [A 100-year milestone for women... and what co...   \n",
       "\n",
       "                                                        1  \\\n",
       "result_scraping  [Now I have the courage to say 'enough']   \n",
       "\n",
       "                                                            2  \\\n",
       "result_scraping  [How many Covid-19 deaths is India missing?]   \n",
       "\n",
       "                                                                 3  \\\n",
       "result_scraping  [Israel opens tentative new chapter with Gulf ...   \n",
       "\n",
       "                                                           4  \\\n",
       "result_scraping  [Microsoft puts the entire world in a game]   \n",
       "\n",
       "                                                                 5  \\\n",
       "result_scraping  [Why Egypt's troops might get caught up in Lib...   \n",
       "\n",
       "                                                                 6  \\\n",
       "result_scraping  [BBC Travel: The cold land obsessed with swimm...   \n",
       "\n",
       "                                                                 7  \\\n",
       "result_scraping  ['Why was my sister jailed for dancing on TikT...   \n",
       "\n",
       "                                                                 8  \\\n",
       "result_scraping  [What are the rules in France and other parts ...   \n",
       "\n",
       "                                   9  \n",
       "result_scraping  [BBC News Services]  "
      ]
     },
     "execution_count": 536,
     "metadata": {},
     "output_type": "execute_result"
    }
   ],
   "source": [
    "df2"
   ]
  },
  {
   "cell_type": "code",
   "execution_count": 532,
   "metadata": {},
   "outputs": [
    {
     "data": {
      "text/html": [
       "<div>\n",
       "<style scoped>\n",
       "    .dataframe tbody tr th:only-of-type {\n",
       "        vertical-align: middle;\n",
       "    }\n",
       "\n",
       "    .dataframe tbody tr th {\n",
       "        vertical-align: top;\n",
       "    }\n",
       "\n",
       "    .dataframe thead th {\n",
       "        text-align: right;\n",
       "    }\n",
       "</style>\n",
       "<table border=\"1\" class=\"dataframe\">\n",
       "  <thead>\n",
       "    <tr style=\"text-align: right;\">\n",
       "      <th></th>\n",
       "      <th>0</th>\n",
       "      <th>1</th>\n",
       "      <th>2</th>\n",
       "      <th>3</th>\n",
       "      <th>4</th>\n",
       "      <th>5</th>\n",
       "      <th>6</th>\n",
       "      <th>7</th>\n",
       "      <th>8</th>\n",
       "      <th>9</th>\n",
       "    </tr>\n",
       "  </thead>\n",
       "  <tbody>\n",
       "    <tr>\n",
       "      <th>result_scraping</th>\n",
       "      <td>[A 100-year milestone for women... and what co...</td>\n",
       "      <td>[Now I have the courage to say 'enough']</td>\n",
       "      <td>[How many Covid-19 deaths is India missing?]</td>\n",
       "      <td>[Israel opens tentative new chapter with Gulf ...</td>\n",
       "      <td>[Microsoft puts the entire world in a game]</td>\n",
       "      <td>[Why Egypt's troops might get caught up in Lib...</td>\n",
       "      <td>[BBC Travel: The cold land obsessed with swimm...</td>\n",
       "      <td>['Why was my sister jailed for dancing on TikT...</td>\n",
       "      <td>[What are the rules in France and other parts ...</td>\n",
       "      <td>[BBC News Services]</td>\n",
       "    </tr>\n",
       "  </tbody>\n",
       "</table>\n",
       "</div>"
      ],
      "text/plain": [
       "                                                                 0  \\\n",
       "result_scraping  [A 100-year milestone for women... and what co...   \n",
       "\n",
       "                                                        1  \\\n",
       "result_scraping  [Now I have the courage to say 'enough']   \n",
       "\n",
       "                                                            2  \\\n",
       "result_scraping  [How many Covid-19 deaths is India missing?]   \n",
       "\n",
       "                                                                 3  \\\n",
       "result_scraping  [Israel opens tentative new chapter with Gulf ...   \n",
       "\n",
       "                                                           4  \\\n",
       "result_scraping  [Microsoft puts the entire world in a game]   \n",
       "\n",
       "                                                                 5  \\\n",
       "result_scraping  [Why Egypt's troops might get caught up in Lib...   \n",
       "\n",
       "                                                                 6  \\\n",
       "result_scraping  [BBC Travel: The cold land obsessed with swimm...   \n",
       "\n",
       "                                                                 7  \\\n",
       "result_scraping  ['Why was my sister jailed for dancing on TikT...   \n",
       "\n",
       "                                                                 8  \\\n",
       "result_scraping  [What are the rules in France and other parts ...   \n",
       "\n",
       "                                   9  \n",
       "result_scraping  [BBC News Services]  "
      ]
     },
     "execution_count": 532,
     "metadata": {},
     "output_type": "execute_result"
    }
   ],
   "source": [
    "df1.dropna(how='all', axis='columns')"
   ]
  },
  {
   "cell_type": "markdown",
   "metadata": {},
   "source": [
    "# <center> <b> 2. [ FLASK DEPLOY ] </b> </center>"
   ]
  },
  {
   "cell_type": "code",
   "execution_count": 7,
   "metadata": {
    "tags": []
   },
   "outputs": [
    {
     "name": "stdout",
     "output_type": "stream",
     "text": [
      "* Serving Flask app \"__main__\" (lazy loading)\n",
      " * Environment: production\n",
      "   WARNING: This is a development server. Do not use it in a production deployment.\n",
      "   Use a production WSGI server instead.\n",
      " * Debug mode: off\n",
      " * Running on http://127.0.0.1:5000/ (Press CTRL+C to quit)\n",
      "127.0.0.1 - - [21/Aug/2020 14:31:29] \"\u001b[37mGET / HTTP/1.1\u001b[0m\" 200 -\n",
      "127.0.0.1 - - [21/Aug/2020 14:32:03] \"\u001b[37mGET / HTTP/1.1\u001b[0m\" 200 -\n"
     ]
    }
   ],
   "source": [
    "# FLASK\n",
    "import flask\n",
    "from flask import Flask,render_template,request,request, jsonify\n",
    "\n",
    "app = flask.Flask(__name__)\n",
    "@app.route('/')\n",
    "def home():\n",
    "    return render_template('testButton.html')\n",
    "\n",
    "@app.route('/predict',methods=['POST'])\n",
    "def predict():\n",
    "    lien = request.form['lien']\n",
    "    \n",
    "    div = request.form['baliz']\n",
    "    classe = request.form['class_name']\n",
    "\n",
    "    # put stings in list \n",
    "    div=div.split()\n",
    "    classe=classe.split()\n",
    "\n",
    "    write_infile_webpage(lien,div,classe)\n",
    "    read_file_function(lien)\n",
    "\n",
    "    df=scraping_function(read_file_function(lien)[2],read_file_function(lien)[0],read_file_function(lien)[1])\n",
    "    print(df.head())\n",
    "\n",
    "    return render_template('testButton.html')\n",
    "\n",
    "if __name__ == '__main__':\n",
    "    app.run()     "
   ]
  },
  {
   "cell_type": "code",
   "execution_count": 43,
   "metadata": {},
   "outputs": [],
   "source": [
    "a=['h1','div']\n",
    "b=['headline','article-meta article-meta-lower']\n",
    "\n",
    "write_infile_webpage('https://www.foxnews.com/health/bill-gates-us-masks-freedom',a,b)"
   ]
  },
  {
   "cell_type": "code",
   "execution_count": 82,
   "metadata": {},
   "outputs": [
    {
     "data": {
      "text/plain": [
       "['headline']"
      ]
     },
     "execution_count": 82,
     "metadata": {},
     "output_type": "execute_result"
    }
   ],
   "source": [
    "read_file_function('https://www.foxnews.com/health/bill-gates-us-masks-freedom')[1]"
   ]
  },
  {
   "cell_type": "code",
   "execution_count": 2,
   "metadata": {},
   "outputs": [
    {
     "ename": "NameError",
     "evalue": "name 'df' is not defined",
     "output_type": "error",
     "traceback": [
      "\u001b[1;31m---------------------------------------------------------------------------\u001b[0m",
      "\u001b[1;31mNameError\u001b[0m                                 Traceback (most recent call last)",
      "\u001b[1;32m<ipython-input-2-00cf07b74dcd>\u001b[0m in \u001b[0;36m<module>\u001b[1;34m\u001b[0m\n\u001b[1;32m----> 1\u001b[1;33m \u001b[0mdf\u001b[0m\u001b[1;33m\u001b[0m\u001b[1;33m\u001b[0m\u001b[0m\n\u001b[0m",
      "\u001b[1;31mNameError\u001b[0m: name 'df' is not defined"
     ]
    }
   ],
   "source": [
    "df"
   ]
  },
  {
   "cell_type": "code",
   "execution_count": 25,
   "metadata": {},
   "outputs": [],
   "source": [
    "def scraping_function(lien,baliz=[], class_name=[],xpath=[]):    \n",
    "    url = lien\n",
    "    article = Article(url)\n",
    "    article.download()\n",
    "    article.parse()\n",
    "#bfs4\n",
    "    \n",
    "    page = urllib.request.urlopen(url)\n",
    "    soup = BeautifulSoup(page, 'html.parser')\n",
    "\n",
    "# Newspaper3K :\n",
    "    authors=article.authors\n",
    "    publish_date=article.publish_date\n",
    "    text=article.text\n",
    "    top_image=article.top_image\n",
    "    resultat=[]\n",
    "\n",
    "# Beautifulsoup\n",
    "    for i in zip(baliz, class_name):\n",
    "    # resultat.append(soup.findAll(baliz, {\"class\": class_name}))\n",
    "        resultat.append(soup.findAll(baliz,class_=class_name))\n",
    "\n",
    "# Beautifulsoup + Xpath\n",
    "    page2 = requests.get(url)\n",
    "    tree = html.fromstring(page2.content)\n",
    "    buyers = tree.xpath('//*[@id=\"page\"]/div[1]/div[2]/div/div[1]/div[1]/div[2]/p[1]'+'/text()')\n",
    "\n",
    " ########   \n",
    "    df1 = pd.DataFrame({'result_scraping':resultat[0] })  \n",
    "\n",
    "\n",
    "# Storage data in dataframe \n",
    "    df = pd.DataFrame({\n",
    "    'Authors':[authors],\n",
    "    'Publish_date':[publish_date],\n",
    "    'Text':[text],\n",
    "    'image':[top_image]\n",
    "    })\n",
    "    df.head()\n",
    "\n",
    "# Sentiment analysis with textBlob    \n",
    "    #df['Sentiment'][i] = df[i].apply(lambda row : sentiment_scores(row['Text']), axis = 1)\n",
    "\n",
    "# NLP : system NER    \n",
    "\n",
    "    return df1\n",
    "# Manajamech naamel return lel df whed "
   ]
  },
  {
   "cell_type": "code",
   "execution_count": 30,
   "metadata": {},
   "outputs": [],
   "source": [
    "baliz=['table']\n",
    "class_name=['BordCollapseYear2']\n",
    "df1=scraping_function('https://www.zonebourse.com/cours/action/FACEBOOK-10547141/fondamentaux',baliz, class_name)"
   ]
  },
  {
   "cell_type": "code",
   "execution_count": 31,
   "metadata": {},
   "outputs": [
    {
     "data": {
      "text/html": [
       "<div>\n",
       "<style scoped>\n",
       "    .dataframe tbody tr th:only-of-type {\n",
       "        vertical-align: middle;\n",
       "    }\n",
       "\n",
       "    .dataframe tbody tr th {\n",
       "        vertical-align: top;\n",
       "    }\n",
       "\n",
       "    .dataframe thead th {\n",
       "        text-align: right;\n",
       "    }\n",
       "</style>\n",
       "<table border=\"1\" class=\"dataframe\">\n",
       "  <thead>\n",
       "    <tr style=\"text-align: right;\">\n",
       "      <th></th>\n",
       "      <th>result_scraping</th>\n",
       "    </tr>\n",
       "  </thead>\n",
       "  <tbody>\n",
       "  </tbody>\n",
       "</table>\n",
       "</div>"
      ],
      "text/plain": [
       "Empty DataFrame\n",
       "Columns: [result_scraping]\n",
       "Index: []"
      ]
     },
     "execution_count": 31,
     "metadata": {},
     "output_type": "execute_result"
    }
   ],
   "source": [
    "df1.head()"
   ]
  },
  {
   "cell_type": "code",
   "execution_count": 32,
   "metadata": {},
   "outputs": [
    {
     "ename": "OSError",
     "evalue": "[Errno 22] Invalid argument: 'https://www.zonebourse.com/cours/action/FACEBOOK-10547141/fondamentaux'",
     "output_type": "error",
     "traceback": [
      "\u001b[1;31m---------------------------------------------------------------------------\u001b[0m",
      "\u001b[1;31mOSError\u001b[0m                                   Traceback (most recent call last)",
      "\u001b[1;32m<ipython-input-32-73a8cae6738a>\u001b[0m in \u001b[0;36m<module>\u001b[1;34m\u001b[0m\n\u001b[0;32m      5\u001b[0m \u001b[1;33m\u001b[0m\u001b[0m\n\u001b[0;32m      6\u001b[0m \u001b[1;31m# File handling\u001b[0m\u001b[1;33m\u001b[0m\u001b[1;33m\u001b[0m\u001b[1;33m\u001b[0m\u001b[0m\n\u001b[1;32m----> 7\u001b[1;33m \u001b[1;32mwith\u001b[0m \u001b[0mopen\u001b[0m\u001b[1;33m(\u001b[0m\u001b[1;34m'https://www.zonebourse.com/cours/action/FACEBOOK-10547141/fondamentaux'\u001b[0m\u001b[1;33m,\u001b[0m \u001b[1;34m'r'\u001b[0m\u001b[1;33m)\u001b[0m \u001b[1;32mas\u001b[0m \u001b[0mfp\u001b[0m\u001b[1;33m:\u001b[0m\u001b[1;33m\u001b[0m\u001b[1;33m\u001b[0m\u001b[0m\n\u001b[0m\u001b[0;32m      8\u001b[0m     \u001b[0mhtml_content\u001b[0m \u001b[1;33m=\u001b[0m \u001b[0mfp\u001b[0m\u001b[1;33m.\u001b[0m\u001b[0mread\u001b[0m\u001b[1;33m(\u001b[0m\u001b[1;33m)\u001b[0m\u001b[1;33m\u001b[0m\u001b[1;33m\u001b[0m\u001b[0m\n\u001b[0;32m      9\u001b[0m \u001b[1;33m\u001b[0m\u001b[0m\n",
      "\u001b[1;31mOSError\u001b[0m: [Errno 22] Invalid argument: 'https://www.zonebourse.com/cours/action/FACEBOOK-10547141/fondamentaux'"
     ]
    }
   ],
   "source": [
    "from bs4 import BeautifulSoup\n",
    "\n",
    "# Empty List\n",
    "tabs = []\n",
    "\n",
    "# File handling\n",
    "with open('https://www.zonebourse.com/cours/action/FACEBOOK-10547141/fondamentaux', 'r') as fp:\n",
    "    html_content = fp.read()\n",
    "\n",
    "    table_doc = BeautifulSoup(html_content, 'html.parser')\n",
    "    # parsing html content\n",
    "    for tr in table_doc.table.find_all('tr'):\n",
    "        tabs.append({\n",
    "            'Nome': tr.find_all('td')[0].string,\n",
    "            'Cogname': tr.find_all('td')[1].string,\n",
    "            'Email': tr.find_all('td')[2].string\n",
    "            })\n",
    "\n",
    "    print(tabs)"
   ]
  },
  {
   "cell_type": "code",
   "execution_count": 34,
   "metadata": {},
   "outputs": [
    {
     "ename": "AttributeError",
     "evalue": "'NoneType' object has no attribute 'find'",
     "output_type": "error",
     "traceback": [
      "\u001b[1;31m---------------------------------------------------------------------------\u001b[0m",
      "\u001b[1;31mAttributeError\u001b[0m                            Traceback (most recent call last)",
      "\u001b[1;32m<ipython-input-34-235fae5469fa>\u001b[0m in \u001b[0;36m<module>\u001b[1;34m\u001b[0m\n\u001b[0;32m      5\u001b[0m \u001b[0mtable\u001b[0m \u001b[1;33m=\u001b[0m \u001b[0msoup\u001b[0m\u001b[1;33m.\u001b[0m\u001b[0mfind\u001b[0m\u001b[1;33m(\u001b[0m\u001b[1;34m'table'\u001b[0m\u001b[1;33m,\u001b[0m\u001b[1;33m{\u001b[0m\u001b[1;34m'class'\u001b[0m\u001b[1;33m:\u001b[0m\u001b[1;34m'BordCollapseYear2'\u001b[0m\u001b[1;33m}\u001b[0m\u001b[1;33m)\u001b[0m\u001b[1;33m\u001b[0m\u001b[1;33m\u001b[0m\u001b[0m\n\u001b[0;32m      6\u001b[0m \u001b[1;33m\u001b[0m\u001b[0m\n\u001b[1;32m----> 7\u001b[1;33m \u001b[0mrows\u001b[0m \u001b[1;33m=\u001b[0m \u001b[0mtable\u001b[0m\u001b[1;33m.\u001b[0m\u001b[0mfind\u001b[0m\u001b[1;33m(\u001b[0m\u001b[1;34m'tr'\u001b[0m\u001b[1;33m)\u001b[0m\u001b[1;33m\u001b[0m\u001b[1;33m\u001b[0m\u001b[0m\n\u001b[0m\u001b[0;32m      8\u001b[0m \u001b[1;33m\u001b[0m\u001b[0m\n\u001b[0;32m      9\u001b[0m \u001b[1;32mfor\u001b[0m \u001b[0mrow\u001b[0m \u001b[1;32min\u001b[0m \u001b[0mrows\u001b[0m\u001b[1;33m:\u001b[0m\u001b[1;33m\u001b[0m\u001b[1;33m\u001b[0m\u001b[0m\n",
      "\u001b[1;31mAttributeError\u001b[0m: 'NoneType' object has no attribute 'find'"
     ]
    }
   ],
   "source": [
    "from urllib.request import urlopen\n",
    "from bs4 import BeautifulSoup\n",
    "html = urlopen('https://www.zonebourse.com/cours/action/FACEBOOK-10547141/fondamentaux').read()\n",
    "soup = BeautifulSoup(html, 'lxml')\n",
    "table = soup.find('table',{'class':'BordCollapseYear2'})\n",
    "\n",
    "\n",
    "rows = table.find_all('tr')\n",
    "\n",
    "for row in rows:\n",
    "    data = row.find_all('td')\n",
    "\n",
    "    if (len(data) > 0):\n",
    "        cell = data[0]\n",
    "        print(cell.text)"
   ]
  },
  {
   "cell_type": "code",
   "execution_count": 36,
   "metadata": {},
   "outputs": [
    {
     "data": {
      "text/plain": [
       "NoneType"
      ]
     },
     "execution_count": 36,
     "metadata": {},
     "output_type": "execute_result"
    }
   ],
   "source": [
    "type(table)"
   ]
  },
  {
   "cell_type": "code",
   "execution_count": 40,
   "metadata": {
    "tags": [
     "outputPrepend"
    ]
   },
   "outputs": [
    {
     "name": "stdout",
     "output_type": "stream",
     "text": [
      "o-dms\" title=\"Maps, aerial photos, and other data for this location\"><span class=\"latitude\">32°31′04″N</span> <span class=\"longitude\">93°45′26″W</span></span></span><span class=\"geo-multi-punct\">﻿ / ﻿</span><span class=\"geo-nondefault\"><span class=\"vcard\"><span class=\"geo-dec\" title=\"Maps, aerial photos, and other data for this location\">32.51769°N 93.7571°W</span><span style=\"display:none\">﻿ / <span class=\"geo\">32.51769; -93.7571</span></span><span style=\"display:none\">﻿ (<span class=\"fn org\">Shreveport Water Works Company, Pump Station</span>)</span></span></span></a></span></small>\n",
      "</td><td width=\"8%\"> <a href=\"/wiki/Caddo_Parish,_Louisiana\" title=\"Caddo Parish, Louisiana\">Caddo</a></td>\n",
      "<td class=\"note\">An engineering landmark.\n",
      "</td></tr>\n",
      "<tr class=\"vcard\">\n",
      "<th style=\"background-color: #87CEEB;\"><small>49</small>\n",
      "</th>\n",
      "<td><a class=\"mw-redirect\" href=\"/wiki/U.S._Custom_House_(New_Orleans)\" title=\"U.S. Custom House (New Orleans)\">United States Customhouse</a>\n",
      "</td>\n",
      "<td><div class=\"center\"><div class=\"floatnone\"><a class=\"image\" href=\"/wiki/File:Customhouse1892NOLA.jpg\" title=\"United States Customhouse\"><img alt=\"United States Customhouse\" class=\"thumbborder\" data-file-height=\"439\" data-file-width=\"640\" decoding=\"async\" height=\"82\" src=\"//upload.wikimedia.org/wikipedia/commons/thumb/a/a7/Customhouse1892NOLA.jpg/120px-Customhouse1892NOLA.jpg\" srcset=\"//upload.wikimedia.org/wikipedia/commons/thumb/a/a7/Customhouse1892NOLA.jpg/180px-Customhouse1892NOLA.jpg 1.5x, //upload.wikimedia.org/wikipedia/commons/thumb/a/a7/Customhouse1892NOLA.jpg/240px-Customhouse1892NOLA.jpg 2x\" width=\"120\"/></a></div></div><div class=\"noprint\" style=\"text-align:center;\"><a class=\"image\" href=\"/wiki/File:Commons-logo.svg\"><img alt=\"\" class=\"noviewer\" data-file-height=\"1376\" data-file-width=\"1024\" decoding=\"async\" height=\"16\" src=\"//upload.wikimedia.org/wikipedia/en/thumb/4/4a/Commons-logo.svg/12px-Commons-logo.svg.png\" srcset=\"//upload.wikimedia.org/wikipedia/en/thumb/4/4a/Commons-logo.svg/18px-Commons-logo.svg.png 1.5x, //upload.wikimedia.org/wikipedia/en/thumb/4/4a/Commons-logo.svg/24px-Commons-logo.svg.png 2x\" width=\"12\"/></a> <a class=\"extiw\" href=\"https://commons.wikimedia.org/wiki/Category:Custom_House,_New_Orleans\" title=\"commons:Category:Custom House, New Orleans\">More images</a></div>\n",
      "</td>\n",
      "<td style=\"text-align: center;\"><span data-sort-value=\"000000001974-12-02-0000\" style=\"white-space:nowrap\">December 2, 1974</span><br/><span class=\"refnum\"><small>(<a class=\"external text\" href=\"https://npgallery.nps.gov/AssetDetail/NRIS/74000938\" rel=\"nofollow\">#74000938</a>)</small></span>\n",
      "</td>\n",
      "<td class=\"adr\"><span class=\"label\"><a href=\"/wiki/New_Orleans\" title=\"New Orleans\">New Orleans</a></span><br/> <small><span class=\"plainlinks nourlexpansion\"><a class=\"external text\" href=\"//geohack.toolforge.org/geohack.php?pagename=List_of_National_Historic_Landmarks_in_Louisiana&amp;params=29.951414_N_90.066254_W_&amp;title=United+States+Customhouse\" rel=\"nofollow\"><span class=\"geo-default\"><span class=\"geo-dms\" title=\"Maps, aerial photos, and other data for this location\"><span class=\"latitude\">29°57′05″N</span> <span class=\"longitude\">90°03′59″W</span></span></span><span class=\"geo-multi-punct\">﻿ / ﻿</span><span class=\"geo-nondefault\"><span class=\"vcard\"><span class=\"geo-dec\" title=\"Maps, aerial photos, and other data for this location\">29.951414°N 90.066254°W</span><span style=\"display:none\">﻿ / <span class=\"geo\">29.951414; -90.066254</span></span><span style=\"display:none\">﻿ (<span class=\"fn org\">United States Customhouse</span>)</span></span></span></a></span></small>\n",
      "</td><td width=\"8%\"> <a href=\"/wiki/New_Orleans\" title=\"New Orleans\">Orleans</a></td>\n",
      "<td class=\"note\">\n",
      "</td></tr>\n",
      "<tr class=\"vcard\">\n",
      "<th style=\"background-color: #87CEEB;\"><small>50</small>\n",
      "</th>\n",
      "<td><a href=\"/wiki/John_Minor_Wisdom_United_States_Court_of_Appeals_Building\" title=\"John Minor Wisdom United States Court of Appeals Building\">United States Court of Appeals—Fifth Circuit</a>\n",
      "</td>\n",
      "<td><div class=\"center\"><div class=\"floatnone\"><a class=\"image\" href=\"/wiki/File:053107-5thCircuit.jpg\" title=\"United States Court of Appeals—Fifth Circuit\"><img alt=\"United States Court of Appeals—Fifth Circuit\" class=\"thumbborder\" data-file-height=\"2304\" data-file-width=\"2772\" decoding=\"async\" height=\"100\" src=\"//upload.wikimedia.org/wikipedia/commons/thumb/2/26/053107-5thCircuit.jpg/120px-053107-5thCircuit.jpg\" srcset=\"//upload.wikimedia.org/wikipedia/commons/thumb/2/26/053107-5thCircuit.jpg/180px-053107-5thCircuit.jpg 1.5x, //upload.wikimedia.org/wikipedia/commons/thumb/2/26/053107-5thCircuit.jpg/240px-053107-5thCircuit.jpg 2x\" width=\"120\"/></a></div></div><div class=\"noprint\" style=\"text-align:center;\"><a class=\"image\" href=\"/wiki/File:Commons-logo.svg\"><img alt=\"\" class=\"noviewer\" data-file-height=\"1376\" data-file-width=\"1024\" decoding=\"async\" height=\"16\" src=\"//upload.wikimedia.org/wikipedia/en/thumb/4/4a/Commons-logo.svg/12px-Commons-logo.svg.png\" srcset=\"//upload.wikimedia.org/wikipedia/en/thumb/4/4a/Commons-logo.svg/18px-Commons-logo.svg.png 1.5x, //upload.wikimedia.org/wikipedia/en/thumb/4/4a/Commons-logo.svg/24px-Commons-logo.svg.png 2x\" width=\"12\"/></a> <a class=\"extiw\" href=\"https://commons.wikimedia.org/wiki/Category:John_Minor_Wisdom_U.S._Courthouse\" title=\"commons:Category:John Minor Wisdom U.S. Courthouse\">More images</a></div>\n",
      "</td>\n",
      "<td style=\"text-align: center;\"><span data-sort-value=\"000000002015-07-21-0000\" style=\"white-space:nowrap\">July 21, 2015</span><br/><span class=\"refnum\"><small>(<a class=\"external text\" href=\"https://npgallery.nps.gov/AssetDetail/NRIS/74000937\" rel=\"nofollow\">#74000937</a>)</small></span>\n",
      "</td>\n",
      "<td class=\"adr\"><span class=\"label\"><a href=\"/wiki/New_Orleans\" title=\"New Orleans\">New Orleans</a></span><br/> <small><span class=\"plainlinks nourlexpansion\"><a class=\"external text\" href=\"//geohack.toolforge.org/geohack.php?pagename=List_of_National_Historic_Landmarks_in_Louisiana&amp;params=29.94778_N_90.07917_W_&amp;title=United+States+Court+of+Appeals%E2%80%94Fifth+Circuit\" rel=\"nofollow\"><span class=\"geo-default\"><span class=\"geo-dms\" title=\"Maps, aerial photos, and other data for this location\"><span class=\"latitude\">29°56′52″N</span> <span class=\"longitude\">90°04′45″W</span></span></span><span class=\"geo-multi-punct\">﻿ / ﻿</span><span class=\"geo-nondefault\"><span class=\"vcard\"><span class=\"geo-dec\" title=\"Maps, aerial photos, and other data for this location\">29.94778°N 90.07917°W</span><span style=\"display:none\">﻿ / <span class=\"geo\">29.94778; -90.07917</span></span><span style=\"display:none\">﻿ (<span class=\"fn org\">United States Court of Appeals—Fifth Circuit</span>)</span></span></span></a></span></small>\n",
      "</td><td width=\"8%\"> <a href=\"/wiki/New_Orleans\" title=\"New Orleans\">Orleans</a></td>\n",
      "<td class=\"note\">1909 courthouse was where many key court cases brought during the <a class=\"mw-redirect\" href=\"/wiki/Civil_Rights_Movement\" title=\"Civil Rights Movement\">Civil Rights Movement</a> were decided\n",
      "</td></tr>\n",
      "<tr class=\"vcard\">\n",
      "<th style=\"background-color: #87CEEB;\"><small>51</small>\n",
      "</th>\n",
      "<td><a href=\"/wiki/New_Orleans_Mint\" title=\"New Orleans Mint\">United States Mint, New Orleans Branch</a>\n",
      "</td>\n",
      "<td><div class=\"center\"><div class=\"floatnone\"><a class=\"image\" href=\"/wiki/File:1907_NOMintpostcard.jpg\" title=\"United States Mint, New Orleans Branch\"><img alt=\"United States Mint, New Orleans Branch\" class=\"thumbborder\" data-file-height=\"346\" data-file-width=\"550\" decoding=\"async\" height=\"75\" src=\"//upload.wikimedia.org/wikipedia/commons/thumb/a/a4/1907_NOMintpostcard.jpg/120px-1907_NOMintpostcard.jpg\" srcset=\"//upload.wikimedia.org/wikipedia/commons/thumb/a/a4/1907_NOMintpostcard.jpg/180px-1907_NOMintpostcard.jpg 1.5x, //upload.wikimedia.org/wikipedia/commons/thumb/a/a4/1907_NOMintpostcard.jpg/240px-1907_NOMintpostcard.jpg 2x\" width=\"120\"/></a></div></div><div class=\"noprint\" style=\"text-align:center;\"><a class=\"image\" href=\"/wiki/File:Commons-logo.svg\"><img alt=\"\" class=\"noviewer\" data-file-height=\"1376\" data-file-width=\"1024\" decoding=\"async\" height=\"16\" src=\"//upload.wikimedia.org/wikipedia/en/thumb/4/4a/Commons-logo.svg/12px-Commons-logo.svg.png\" srcset=\"//upload.wikimedia.org/wikipedia/en/thumb/4/4a/Commons-logo.svg/18px-Commons-logo.svg.png 1.5x, //upload.wikimedia.org/wikipedia/en/thumb/4/4a/Commons-logo.svg/24px-Commons-logo.svg.png 2x\" width=\"12\"/></a> <a class=\"extiw\" href=\"https://commons.wikimedia.org/wiki/Category:New_Orleans_Mint\" title=\"commons:Category:New Orleans Mint\">More images</a></div>\n",
      "</td>\n",
      "<td style=\"text-align: center;\"><span data-sort-value=\"000000001975-05-15-0000\" style=\"white-space:nowrap\">May 15, 1975</span><br/><span class=\"refnum\"><small>(<a class=\"external text\" href=\"https://npgallery.nps.gov/AssetDetail/NRIS/73000875\" rel=\"nofollow\">#73000875</a>)</small></span>\n",
      "</td>\n",
      "<td class=\"adr\"><span class=\"label\"><a href=\"/wiki/New_Orleans\" title=\"New Orleans\">New Orleans</a></span><br/> <small><span class=\"plainlinks nourlexpansion\"><a class=\"external text\" href=\"//geohack.toolforge.org/geohack.php?pagename=List_of_National_Historic_Landmarks_in_Louisiana&amp;params=29.961436_N_90.057266_W_&amp;title=United+States+Mint%2C+New+Orleans+Branch\" rel=\"nofollow\"><span class=\"geo-default\"><span class=\"geo-dms\" title=\"Maps, aerial photos, and other data for this location\"><span class=\"latitude\">29°57′41″N</span> <span class=\"longitude\">90°03′26″W</span></span></span><span class=\"geo-multi-punct\">﻿ / ﻿</span><span class=\"geo-nondefault\"><span class=\"vcard\"><span class=\"geo-dec\" title=\"Maps, aerial photos, and other data for this location\">29.961436°N 90.057266°W</span><span style=\"display:none\">﻿ / <span class=\"geo\">29.961436; -90.057266</span></span><span style=\"display:none\">﻿ (<span class=\"fn org\">United States Mint, New Orleans Branch</span>)</span></span></span></a></span></small>\n",
      "</td><td width=\"8%\"> <a href=\"/wiki/New_Orleans\" title=\"New Orleans\">Orleans</a></td>\n",
      "<td class=\"note\">Minted both <a href=\"/wiki/Gold\" title=\"Gold\">gold</a> and <a href=\"/wiki/Silver\" title=\"Silver\">silver</a> coinage during the antebellum years of the 19th century; also served briefly as a <a href=\"/wiki/Confederate_States_of_America\" title=\"Confederate States of America\">C.S.A.</a> mint.\n",
      "</td></tr>\n",
      "<tr class=\"vcard\">\n",
      "<th style=\"background-color: #87CEEB;\"><small>52</small>\n",
      "</th>\n",
      "<td><a href=\"/wiki/Old_Ursuline_Convent,_New_Orleans\" title=\"Old Ursuline Convent, New Orleans\">Old Ursuline Convent</a>\n",
      "</td>\n",
      "<td><div class=\"center\"><div class=\"floatnone\"><a class=\"image\" href=\"/wiki/File:Chartres14Jan2008UrsulineConvent.jpg\" title=\"Old Ursuline Convent\"><img alt=\"Old Ursuline Convent\" class=\"thumbborder\" data-file-height=\"2112\" data-file-width=\"2816\" decoding=\"async\" height=\"90\" src=\"//upload.wikimedia.org/wikipedia/commons/thumb/9/95/Chartres14Jan2008UrsulineConvent.jpg/120px-Chartres14Jan2008UrsulineConvent.jpg\" srcset=\"//upload.wikimedia.org/wikipedia/commons/thumb/9/95/Chartres14Jan2008UrsulineConvent.jpg/180px-Chartres14Jan2008UrsulineConvent.jpg 1.5x, //upload.wikimedia.org/wikipedia/commons/thumb/9/95/Chartres14Jan2008UrsulineConvent.jpg/240px-Chartres14Jan2008UrsulineConvent.jpg 2x\" width=\"120\"/></a></div></div><div class=\"noprint\" style=\"text-align:center;\"><a class=\"image\" href=\"/wiki/File:Commons-logo.svg\"><img alt=\"\" class=\"noviewer\" data-file-height=\"1376\" data-file-width=\"1024\" decoding=\"async\" height=\"16\" src=\"//upload.wikimedia.org/wikipedia/en/thumb/4/4a/Commons-logo.svg/12px-Commons-logo.svg.png\" srcset=\"//upload.wikimedia.org/wikipedia/en/thumb/4/4a/Commons-logo.svg/18px-Commons-logo.svg.png 1.5x, //upload.wikimedia.org/wikipedia/en/thumb/4/4a/Commons-logo.svg/24px-Commons-logo.svg.png 2x\" width=\"12\"/></a> <a class=\"extiw\" href=\"https://commons.wikimedia.org/wiki/Category:Ursuline_Convent,_French_Quarter\" title=\"commons:Category:Ursuline Convent, French Quarter\">More images</a></div>\n",
      "</td>\n",
      "<td style=\"text-align: center;\"><span data-sort-value=\"000000001960-10-09-0000\" style=\"white-space:nowrap\">October 9, 1960</span><br/><span class=\"refnum\"><small>(<a class=\"external text\" href=\"https://npgallery.nps.gov/AssetDetail/NRIS/66000376\" rel=\"nofollow\">#66000376</a>)</small></span>\n",
      "</td>\n",
      "<td class=\"adr\"><span class=\"label\"><a href=\"/wiki/New_Orleans\" title=\"New Orleans\">New Orleans</a></span><br/> <small><span class=\"plainlinks nourlexpansion\"><a class=\"external text\" href=\"//geohack.toolforge.org/geohack.php?pagename=List_of_National_Historic_Landmarks_in_Louisiana&amp;params=29.960753_N_90.060813_W_&amp;title=Old+Ursuline+Convent\" rel=\"nofollow\"><span class=\"geo-default\"><span class=\"geo-dms\" title=\"Maps, aerial photos, and other data for this location\"><span class=\"latitude\">29°57′39″N</span> <span class=\"longitude\">90°03′39″W</span></span></span><span class=\"geo-multi-punct\">﻿ / ﻿</span><span class=\"geo-nondefault\"><span class=\"vcard\"><span class=\"geo-dec\" title=\"Maps, aerial photos, and other data for this location\">29.960753°N 90.060813°W</span><span style=\"display:none\">﻿ / <span class=\"geo\">29.960753; -90.060813</span></span><span style=\"display:none\">﻿ (<span class=\"fn org\">Old Ursuline Convent</span>)</span></span></span></a></span></small>\n",
      "</td><td width=\"8%\"> <a href=\"/wiki/New_Orleans\" title=\"New Orleans\">Orleans</a></td>\n",
      "<td class=\"note\"><a href=\"/wiki/Convent\" title=\"Convent\">Convent</a> established early in the colonial era by <a href=\"/wiki/Ursulines\" title=\"Ursulines\">Ursuline nuns</a> and New Orleans' oldest-surviving <a href=\"/wiki/French_Colonial\" title=\"French Colonial\">French Colonial</a> building (1752).\n",
      "</td></tr>\n",
      "<tr class=\"vcard\">\n",
      "<th style=\"background:DarkTurquoise\"><small>53</small><sup><img alt=\"National Historic Landmark District\" data-file-height=\"14\" data-file-width=\"9\" decoding=\"async\" height=\"14\" src=\"//upload.wikimedia.org/wikipedia/commons/3/37/Dagger-14-plain.png\" width=\"9\"/></sup>\n",
      "</th>\n",
      "<td><a href=\"/wiki/French_Quarter\" title=\"French Quarter\">Vieux Carre Historic District</a>\n",
      "</td>\n",
      "<td><div class=\"center\"><div class=\"floatnone\"><a class=\"image\" href=\"/wiki/File:French_Quarter-Upper_Chartres_Street_looking_towards_Jackson_Square_and_the_spires_of_St._Louis_Cathedral.jpg\" title=\"Vieux Carre Historic District\"><img alt=\"Upper Chartres Street\" class=\"thumbborder\" data-file-height=\"238\" data-file-width=\"363\" decoding=\"async\" height=\"79\" src=\"//upload.wikimedia.org/wikipedia/commons/thumb/d/de/French_Quarter-Upper_Chartres_Street_looking_towards_Jackson_Square_and_the_spires_of_St._Louis_Cathedral.jpg/120px-French_Quarter-Upper_Chartres_Street_looking_towards_Jackson_Square_and_the_spires_of_St._Louis_Cathedral.jpg\" srcset=\"//upload.wikimedia.org/wikipedia/commons/thumb/d/de/French_Quarter-Upper_Chartres_Street_looking_towards_Jackson_Square_and_the_spires_of_St._Louis_Cathedral.jpg/180px-French_Quarter-Upper_Chartres_Street_looking_towards_Jackson_Square_and_the_spires_of_St._Louis_Cathedral.jpg 1.5x, //upload.wikimedia.org/wikipedia/commons/thumb/d/de/French_Quarter-Upper_Chartres_Street_looking_towards_Jackson_Square_and_the_spires_of_St._Louis_Cathedral.jpg/240px-French_Quarter-Upper_Chartres_Street_looking_towards_Jackson_Square_and_the_spires_of_St._Louis_Cathedral.jpg 2x\" width=\"120\"/></a></div></div><div class=\"noprint\" style=\"text-align:center;\"><a class=\"image\" href=\"/wiki/File:Commons-logo.svg\"><img alt=\"\" class=\"noviewer\" data-file-height=\"1376\" data-file-width=\"1024\" decoding=\"async\" height=\"16\" src=\"//upload.wikimedia.org/wikipedia/en/thumb/4/4a/Commons-logo.svg/12px-Commons-logo.svg.png\" srcset=\"//upload.wikimedia.org/wikipedia/en/thumb/4/4a/Commons-logo.svg/18px-Commons-logo.svg.png 1.5x, //upload.wikimedia.org/wikipedia/en/thumb/4/4a/Commons-logo.svg/24px-Commons-logo.svg.png 2x\" width=\"12\"/></a> <a class=\"extiw\" href=\"https://commons.wikimedia.org/wiki/Category:French_Quarter\" title=\"commons:Category:French Quarter\">More images</a></div>\n",
      "</td>\n",
      "<td style=\"text-align: center;\"><span data-sort-value=\"000000001965-12-21-0000\" style=\"white-space:nowrap\">December 21, 1965</span><br/><span class=\"refnum\"><small>(<a class=\"external text\" href=\"https://npgallery.nps.gov/AssetDetail/NRIS/66000377\" rel=\"nofollow\">#66000377</a>)</small></span>\n",
      "</td>\n",
      "<td class=\"adr\"><span class=\"label\"><a href=\"/wiki/New_Orleans\" title=\"New Orleans\">New Orleans</a></span><br/> <small><span class=\"plainlinks nourlexpansion\"><a class=\"external text\" href=\"//geohack.toolforge.org/geohack.php?pagename=List_of_National_Historic_Landmarks_in_Louisiana&amp;params=29.9586_N_90.065_W_&amp;title=Vieux+Carre+Historic+District\" rel=\"nofollow\"><span class=\"geo-default\"><span class=\"geo-dms\" title=\"Maps, aerial photos, and other data for this location\"><span class=\"latitude\">29°57′31″N</span> <span class=\"longitude\">90°03′54″W</span></span></span><span class=\"geo-multi-punct\">﻿ / ﻿</span><span class=\"geo-nondefault\"><span class=\"vcard\"><span class=\"geo-dec\" title=\"Maps, aerial photos, and other data for this location\">29.9586°N 90.065°W</span><span style=\"display:none\">﻿ / <span class=\"geo\">29.9586; -90.065</span></span><span style=\"display:none\">﻿ (<span class=\"fn org\">Vieux Carre Historic District</span>)</span></span></span></a></span></small>\n",
      "</td><td width=\"8%\"> <a href=\"/wiki/New_Orleans\" title=\"New Orleans\">Orleans</a></td>\n",
      "<td class=\"note\">Meaning \"Old Square,\" the original 18th-century town of New Orleans, laid out in a <a href=\"/wiki/Grid_plan\" title=\"Grid plan\">grid plan</a> and known today as the <a href=\"/wiki/French_Quarter\" title=\"French Quarter\">French Quarter</a>.\n",
      "</td></tr>\n",
      "<tr class=\"vcard\">\n",
      "<th style=\"background-color: #87CEEB;\"><small>54</small>\n",
      "</th>\n",
      "<td><a href=\"/wiki/Edward_Douglass_White_House\" title=\"Edward Douglass White House\">Edward Douglass White House</a>\n",
      "</td>\n",
      "<td><div class=\"center\"><div class=\"floatnone\"><a class=\"image\" href=\"/wiki/File:EDWhite.jpg\" title=\"Edward Douglass White House\"><img alt=\"Edward Douglass White House\" class=\"thumbborder\" data-file-height=\"851\" data-file-width=\"1280\" decoding=\"async\" height=\"80\" src=\"//upload.wikimedia.org/wikipedia/commons/thumb/0/08/EDWhite.jpg/120px-EDWhite.jpg\" srcset=\"//upload.wikimedia.org/wikipedia/commons/thumb/0/08/EDWhite.jpg/180px-EDWhite.jpg 1.5x, //upload.wikimedia.org/wikipedia/commons/thumb/0/08/EDWhite.jpg/240px-EDWhite.jpg 2x\" width=\"120\"/></a></div></div>\n",
      "</td>\n",
      "<td style=\"text-align: center;\"><span data-sort-value=\"000000001976-12-08-0000\" style=\"white-space:nowrap\">December 8, 1976</span><br/><span class=\"refnum\"><small>(<a class=\"external text\" href=\"https://npgallery.nps.gov/AssetDetail/NRIS/76000964\" rel=\"nofollow\">#76000964</a>)</small></span>\n",
      "</td>\n",
      "<td class=\"adr\"><span class=\"label\"><a href=\"/wiki/Thibodaux,_Louisiana\" title=\"Thibodaux, Louisiana\">Thibodaux</a></span><br/> <small><span class=\"plainlinks nourlexpansion\"><a class=\"external text\" href=\"//geohack.toolforge.org/geohack.php?pagename=List_of_National_Historic_Landmarks_in_Louisiana&amp;params=29.754028_N_90.72931_W_&amp;title=Edward+Douglass+White+House\" rel=\"nofollow\"><span class=\"geo-default\"><span class=\"geo-dms\" title=\"Maps, aerial photos, and other data for this location\"><span class=\"latitude\">29°45′15″N</span> <span class=\"longitude\">90°43′46″W</span></span></span><span class=\"geo-multi-punct\">﻿ / ﻿</span><span class=\"geo-nondefault\"><span class=\"vcard\"><span class=\"geo-dec\" title=\"Maps, aerial photos, and other data for this location\">29.754028°N 90.72931°W</span><span style=\"display:none\">﻿ / <span class=\"geo\">29.754028; -90.72931</span></span><span style=\"display:none\">﻿ (<span class=\"fn org\">Edward Douglass White House</span>)</span></span></span></a></span></small>\n",
      "</td><td width=\"8%\"> <a href=\"/wiki/Lafourche_Parish,_Louisiana\" title=\"Lafourche Parish, Louisiana\">Lafourche</a></td>\n",
      "<td class=\"note\">Home of <a href=\"/wiki/Edward_Douglass_White\" title=\"Edward Douglass White\">Edward Douglass White</a>, his home has been rumored to be haunted. They say who ever goes inside at exactly 11:00pm on December 8, comes out with almost no memory.\n",
      "</td></tr></tbody></table>\n"
     ]
    }
   ],
   "source": [
    "import pandas as pd\n",
    "lst = pd.read_html(\"https://www.zonebourse.com/cours/action/FACEBOOK-10547141/fondamentaux/\",header=0)"
   ]
  },
  {
   "cell_type": "code",
   "execution_count": null,
   "metadata": {},
   "outputs": [],
   "source": []
  }
 ],
 "metadata": {
  "kernelspec": {
   "display_name": "Python 3",
   "language": "python",
   "name": "python3"
  },
  "language_info": {
   "codemirror_mode": {
    "name": "ipython",
    "version": 3
   },
   "file_extension": ".py",
   "mimetype": "text/x-python",
   "name": "python",
   "nbconvert_exporter": "python",
   "pygments_lexer": "ipython3",
   "version": "3.7.1"
  }
 },
 "nbformat": 4,
 "nbformat_minor": 4
}
