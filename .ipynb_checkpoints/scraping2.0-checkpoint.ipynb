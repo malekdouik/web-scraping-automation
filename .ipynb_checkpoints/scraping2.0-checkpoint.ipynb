{
 "metadata": {
  "language_info": {
   "codemirror_mode": {
    "name": "ipython",
    "version": 3
   },
   "file_extension": ".py",
   "mimetype": "text/x-python",
   "name": "python",
   "nbconvert_exporter": "python",
   "pygments_lexer": "ipython3",
   "version": "3.7.1-final"
  },
  "orig_nbformat": 2,
  "kernelspec": {
   "name": "python3",
   "display_name": "Python 3"
  }
 },
 "nbformat": 4,
 "nbformat_minor": 2,
 "cells": [
  {
   "cell_type": "markdown",
   "metadata": {},
   "source": [
    "# <center> SCRAPING 2.0</center>"
   ]
  },
  {
   "cell_type": "code",
   "execution_count": 1,
   "metadata": {},
   "outputs": [],
   "source": [
    "from newspaper import Article\n",
    "import pandas as pd\n",
    "import requests\n",
    "from bs4 import BeautifulSoup\n",
    "import urllib\n",
    "from lxml import html\n",
    "import requests"
   ]
  },
  {
   "cell_type": "code",
   "execution_count": 2,
   "metadata": {},
   "outputs": [],
   "source": [
    "def write_infile_webpage(url,baliz=[],class_name=[],xpath=[]):\n",
    "    # write data in a file\n",
    "    a=\"[\"+url+\"]\"\n",
    "    with open(\"test1.ini\", \"a\") as file1:\n",
    "        file1.write(a)\n",
    "        file1.write(\"\\n\")\n",
    "        file1.write(\"url =\" + url+'\\n')\n",
    "        file1.write('baliz = '+str(baliz)) \n",
    "        file1.write(\"\\n\")\n",
    "        file1.write(\"class_name = \"+ str(class_name))\n",
    "        file1.write(\"\\n\")\n",
    "        file1.write(\"xpath =\" + str(xpath)+'\\n')\n",
    "        file1.write(\"\\n \\n\")"
   ]
  },
  {
   "cell_type": "code",
   "execution_count": 3,
   "metadata": {},
   "outputs": [],
   "source": [
    "from configparser import ConfigParser\n",
    "import ast \n",
    "\n",
    "# read params from config file \n",
    "def read_file_function(url):\n",
    "    ## read file config\n",
    "    config = ConfigParser()\n",
    "    config.read('test1.ini') \n",
    "    \n",
    "    ### read entity\n",
    "    baliz= config[url]['baliz']\n",
    "    class_name=config[url]['class_name']\n",
    "    lien = config[url]['url']\n",
    "\n",
    "  # Convert str to list\n",
    "    baliz=ast.literal_eval(baliz) \n",
    "    class_name=ast.literal_eval(class_name) \n",
    "    \n",
    "    return baliz,class_name,lien"
   ]
  },
  {
   "cell_type": "code",
   "execution_count": 42,
   "metadata": {},
   "outputs": [],
   "source": [
    "def scraping_function(lien,tags=[],class_name=[],xpath=[]):    \n",
    "    url = lien\n",
    "    article = Article(url)\n",
    "    article.download()\n",
    "    article.parse()\n",
    "\n",
    "#- Bfs4\n",
    "    page = urllib.request.urlopen(url)\n",
    "    soup = BeautifulSoup(page, 'html.parser')\n",
    "\n",
    "# - Newspaper3K :\n",
    "    authors=article.authors\n",
    "    publish_date=article.publish_date\n",
    "    text=article.text\n",
    "    top_image=article.top_image\n",
    "    summary=article.summary\n",
    "\n",
    "# - Beautifulsoup\n",
    "    resultat=[]\n",
    "    \n",
    "    df1 = pd.DataFrame({'' : []})\n",
    "    for i in zip(tags, class_name):\n",
    "    # resultat.append(soup.findAll(tags, {\"class\": class_name}))\n",
    "        for each in soup.findAll(tags, class_=class_name):\n",
    "            resultat.append([each.text.strip()])\n",
    "            if not(len(resultat) == 0):\n",
    "                df1 = pd.DataFrame({'result_scraping':resultat[0] })\n",
    "\n",
    "# - Beautifulsoup + Xpath\n",
    "    r = requests.get(url)\n",
    "    doc = html.fromstring(r.content)\n",
    "    resultat_xpaths=[]\n",
    "\n",
    "    # convert lower case\n",
    "    xpath = [x.lower() for x in xpath]\n",
    "    for i in xpath:\n",
    "        link = doc.xpath(i)  \n",
    "        for j in link:\n",
    "            resultat_xpaths.append(j.text)\n",
    "            if not(len(resultat_xpaths) == 0):\n",
    "                df2 = pd.DataFrame({'xpaths':resultat_xpaths })\n",
    "\n",
    "# - Storage data in dataframe \n",
    "    df = pd.DataFrame({\n",
    "    'Authors':[authors],\n",
    "    'Publish_date':[publish_date],\n",
    "    'Text':[text],\n",
    "    'image':[top_image],\n",
    "    'Summary':[summary]\n",
    "    })\n",
    "\n",
    "    return df,df1,df2"
   ]
  },
  {
   "cell_type": "code",
   "execution_count": 44,
   "metadata": {
    "tags": []
   },
   "outputs": [
    {
     "output_type": "stream",
     "name": "stdout",
     "text": "* Serving Flask app \"__main__\" (lazy loading)\n * Environment: production\n   WARNING: This is a development server. Do not use it in a production deployment.\n   Use a production WSGI server instead.\n * Debug mode: off\n * Running on http://127.0.0.1:5000/ (Press CTRL+C to quit)\n127.0.0.1 - - [25/Aug/2020 14:36:36] \"\u001b[37mGET / HTTP/1.1\u001b[0m\" 200 -\n127.0.0.1 - - [25/Aug/2020 14:36:36] \"\u001b[33mGET /style.css HTTP/1.1\u001b[0m\" 404 -\n127.0.0.1 - - [25/Aug/2020 14:36:36] \"\u001b[33mGET /script.js HTTP/1.1\u001b[0m\" 404 -\n127.0.0.1 - - [25/Aug/2020 14:36:39] \"\u001b[33mGET /script.js HTTP/1.1\u001b[0m\" 404 -\n127.0.0.1 - - [25/Aug/2020 14:36:39] \"\u001b[33mGET /style.css HTTP/1.1\u001b[0m\" 404 -\n[2020-08-25 14:37:59,451] ERROR in app: Exception on /api/resultat [POST]\nTraceback (most recent call last):\n  File \"D:\\Anaconda\\lib\\site-packages\\flask\\app.py\", line 2447, in wsgi_app\n    response = self.full_dispatch_request()\n  File \"D:\\Anaconda\\lib\\site-packages\\flask\\app.py\", line 1952, in full_dispatch_request\n    rv = self.handle_user_exception(e)\n  File \"D:\\Anaconda\\lib\\site-packages\\flask\\app.py\", line 1821, in handle_user_exception\n    reraise(exc_type, exc_value, tb)\n  File \"D:\\Anaconda\\lib\\site-packages\\flask\\_compat.py\", line 39, in reraise\n    raise value\n  File \"D:\\Anaconda\\lib\\site-packages\\flask\\app.py\", line 1950, in full_dispatch_request\n    rv = self.dispatch_request()\n  File \"D:\\Anaconda\\lib\\site-packages\\flask\\app.py\", line 1936, in dispatch_request\n    return self.view_functions[rule.endpoint](**req.view_args)\n  File \"<ipython-input-44-7212a805cf89>\", line 26, in predict\n    read_file_function(lien)\n  File \"<ipython-input-41-c7cc90252921>\", line 8, in read_file_function\n    config.read('test1.ini')\n  File \"D:\\Anaconda\\lib\\configparser.py\", line 696, in read\n    self._read(fp, filename)\n  File \"D:\\Anaconda\\lib\\configparser.py\", line 1065, in _read\n    lineno)\nconfigparser.DuplicateSectionError: While reading from 'test1.ini' [line 16]: section 'https://stackoverflow.com/questions/42456043/web-scraping-xpath' already exists\n127.0.0.1 - - [25/Aug/2020 14:37:59] \"\u001b[35m\u001b[1mPOST /api/resultat HTTP/1.1\u001b[0m\" 500 -\n127.0.0.1 - - [25/Aug/2020 14:53:42] \"\u001b[37mGET / HTTP/1.1\u001b[0m\" 200 -\n127.0.0.1 - - [25/Aug/2020 14:53:42] \"\u001b[33mGET /style.css HTTP/1.1\u001b[0m\" 404 -\n127.0.0.1 - - [25/Aug/2020 14:53:42] \"\u001b[33mGET /script.js HTTP/1.1\u001b[0m\" 404 -\n127.0.0.1 - - [25/Aug/2020 14:53:42] \"\u001b[33mGET /script.js HTTP/1.1\u001b[0m\" 404 -\n127.0.0.1 - - [25/Aug/2020 14:53:42] \"\u001b[33mGET /style.css HTTP/1.1\u001b[0m\" 404 -\n"
    }
   ],
   "source": [
    "# FLASK\n",
    "import flask\n",
    "from flask import Flask,render_template,request,request, jsonify\n",
    "\n",
    "app = flask.Flask(__name__)\n",
    "@app.route('/')\n",
    "def home():\n",
    "    return render_template('index2.0.html')\n",
    "\n",
    "@app.route('/api/resultat',methods=['POST'])\n",
    "def predict():\n",
    "    \n",
    "    lien = request.form['url']\n",
    "    classe = request.form['class_name']\n",
    "    html_tag = request.form['html_tag']\n",
    "    xpath = request.form['x_path']\n",
    "    #table_tag = request.form['table_tag']\n",
    "\n",
    "    # put stings in list \n",
    "    html_tag=html_tag.split('/')\n",
    "    classe=classe.split('/')\n",
    "    xpath=xpath.split(' ')\n",
    "    #table_tag=table_tag.split('/')\n",
    "\n",
    "    write_infile_webpage(lien,html_tag,classe,xpath)\n",
    "    read_file_function(lien)\n",
    "\n",
    "    #print(read_file_function(lien)[2])\n",
    "\n",
    "    #df=scraping_function(read_file_function(lien)[2],read_file_function(lien)[0],read_file_function(lien)[1])\n",
    "\n",
    "    df=scraping_function(lien,classe,html_tag,xpath)[0]\n",
    "    print(df)\n",
    "\n",
    "    \n",
    "    df=df.to_json(orient='split')\n",
    "    #return render_template('index2.0.html')\n",
    "\n",
    "    return jsonify(df)\n",
    "\n",
    "if __name__ == '__main__':\n",
    "    app.run()   "
   ]
  },
  {
   "cell_type": "code",
   "execution_count": 69,
   "metadata": {
    "tags": []
   },
   "outputs": [
    {
     "output_type": "stream",
     "name": "stdout",
     "text": "[]\n"
    }
   ],
   "source": [
    "import requests\n",
    "from lxml import html\n",
    "\n",
    "url = 'https://www.zonebourse.com/cours/action/FACEBOOK-10547141/fondamentaux/'\n",
    "page = requests.get(url)\n",
    "tree = html.fromstring(page.content)\n",
    "\n",
    "data = tree.xpath('/html/body/div[6]/table/tbody/tr/td[1]/table/tbody/tr[2]/td/div/span/table[2]/tbody/tr/td[2]/a/h1')\n",
    "\n",
    "print(data)"
   ]
  },
  {
   "cell_type": "code",
   "execution_count": 61,
   "metadata": {
    "tags": []
   },
   "outputs": [
    {
     "output_type": "stream",
     "name": "stdout",
     "text": "<Element html at 0x13acd03dc28>\n"
    }
   ],
   "source": [
    "print(tree)"
   ]
  },
  {
   "cell_type": "code",
   "execution_count": null,
   "metadata": {},
   "outputs": [],
   "source": [
    "list_category_elements = driver.find_element(By.XPATH,'//*[@id=\"J_icms-5000498-1511516689962\"]/div/ul')\n",
    "links = list_category_elements.find_elements(By.CLASS_NAME,\"lzd-site-menu-root-item\")\n",
    "for i in range(len(links)):\n",
    "    print(\"element in list \",links[i].text)\n",
    "#result {Electronic Devices, Electronic Accessories, etc}"
   ]
  },
  {
   "cell_type": "code",
   "execution_count": 9,
   "metadata": {},
   "outputs": [],
   "source": [
    "# TAG   /   Class\n",
    "\n",
    "page = urllib.request.urlopen('https://www.foxnews.com/us/kenosha-protesters-police-clash-for-second-night')\n",
    "soup = BeautifulSoup(page, 'html.parser')\n",
    "\n",
    "tags=['ul']\n",
    "class_name=['story-body__unordered-list']\n",
    "\n",
    "resultat=[]\n",
    "    \n",
    "df1 = pd.DataFrame({'' : []})\n",
    "for i in zip(tags, class_name):\n",
    "# resultat.append(soup.findAll(tags, {\"class\": class_name}))\n",
    "    for each in soup.findAll(tags, class_=class_name):\n",
    "        resultat.append([each.text.strip() ])\n",
    "\n",
    "        if not(len(resultat) == 0):\n",
    "            df1 = pd.DataFrame({'result_scraping':resultat[0] })"
   ]
  },
  {
   "cell_type": "code",
   "execution_count": 10,
   "metadata": {
    "tags": []
   },
   "outputs": [
    {
     "output_type": "stream",
     "name": "stdout",
     "text": "[]\n"
    }
   ],
   "source": [
    "print(resultat)"
   ]
  },
  {
   "cell_type": "code",
   "execution_count": 40,
   "metadata": {
    "tags": []
   },
   "outputs": [
    {
     "output_type": "stream",
     "name": "stdout",
     "text": "[<Element a at 0x1473f0e6ef8>]\n"
    }
   ],
   "source": [
    "# XPATH\n",
    "\n",
    "r = requests.get('HTTPS://STACKOVERFLOW.COM/QUESTIONS/42456043/WEB-SCRAPING-XPATH')\n",
    "doc = html.fromstring(r.content)\n",
    "resultat_xpaths=[]\n",
    "xpath=['//*[@ID=\"ANSWER-42456415\"]/DIV/DIV[2]/DIV[1]/P/A']\n",
    "\n",
    "# convert lower case\n",
    "xpath = [x.lower() for x in xpath]\n",
    "\n",
    "for i in xpath:\n",
    "    link = doc.xpath(i)  \n",
    "    print(link)           \n",
    "    for j in link:\n",
    "        resultat_xpaths.append(j.text)\n",
    "        if not(len(resultat_xpaths) == 0):\n",
    "            df2 = pd.DataFrame({'xpaths':resultat_xpaths })"
   ]
  },
  {
   "cell_type": "markdown",
   "metadata": {},
   "source": [
    "# ----------------------------------------------------------------------------------------"
   ]
  },
  {
   "cell_type": "markdown",
   "metadata": {},
   "source": [
    "# <center> Selenium : Get url of articles</center> "
   ]
  },
  {
   "cell_type": "code",
   "execution_count": 2,
   "metadata": {},
   "outputs": [],
   "source": [
    "from selenium.webdriver.common.by import By\n",
    "from selenium.webdriver.support.ui import WebDriverWait\n",
    "from selenium.webdriver import ActionChains\n",
    "from selenium import webdriver\n",
    "from selenium.webdriver.common.keys import Keys\n",
    "import time\n",
    "from re import search"
   ]
  },
  {
   "cell_type": "code",
   "execution_count": 6,
   "metadata": {},
   "outputs": [],
   "source": [
    "from selenium.webdriver.support import expected_conditions as EC"
   ]
  },
  {
   "cell_type": "markdown",
   "metadata": {},
   "source": [
    "## 1. Newyork times"
   ]
  },
  {
   "cell_type": "code",
   "execution_count": 19,
   "metadata": {
    "tags": []
   },
   "outputs": [
    {
     "output_type": "error",
     "ename": "NoSuchElementException",
     "evalue": "Message: no such element: Unable to locate element: {\"method\":\"xpath\",\"selector\":\"//*[@id=\"app\"]/div[2]/div/header/section[1]/div[1]/div[2]/div/form/div/input\"}\n  (Session info: chrome=84.0.4147.135)\n",
     "traceback": [
      "\u001b[1;31m---------------------------------------------------------------------------\u001b[0m",
      "\u001b[1;31mNoSuchElementException\u001b[0m                    Traceback (most recent call last)",
      "\u001b[1;32m<ipython-input-19-f4100dfcb562>\u001b[0m in \u001b[0;36m<module>\u001b[1;34m\u001b[0m\n\u001b[0;32m     19\u001b[0m \u001b[1;31m#button = driver.find_elements_by_xpath('//*[@id=\"app\"]/div[2]/div/header/section[1]/div[1]/div[2]/button')[0]\u001b[0m\u001b[1;33m\u001b[0m\u001b[1;33m\u001b[0m\u001b[1;33m\u001b[0m\u001b[0m\n\u001b[0;32m     20\u001b[0m \u001b[1;31m#button.click()\u001b[0m\u001b[1;33m\u001b[0m\u001b[1;33m\u001b[0m\u001b[1;33m\u001b[0m\u001b[0m\n\u001b[1;32m---> 21\u001b[1;33m \u001b[0mdriver\u001b[0m\u001b[1;33m.\u001b[0m\u001b[0mfind_element_by_xpath\u001b[0m\u001b[1;33m(\u001b[0m\u001b[1;34m'//*[@id=\"app\"]/div[2]/div/header/section[1]/div[1]/div[2]/div/form/div/input'\u001b[0m\u001b[1;33m)\u001b[0m\u001b[1;33m.\u001b[0m\u001b[0msend_keys\u001b[0m\u001b[1;33m(\u001b[0m\u001b[1;34m'Trump'\u001b[0m\u001b[1;33m,\u001b[0m\u001b[0mKeys\u001b[0m\u001b[1;33m.\u001b[0m\u001b[0mENTER\u001b[0m\u001b[1;33m)\u001b[0m\u001b[1;33m\u001b[0m\u001b[1;33m\u001b[0m\u001b[0m\n\u001b[0m\u001b[0;32m     22\u001b[0m \u001b[1;33m\u001b[0m\u001b[0m\n\u001b[0;32m     23\u001b[0m \u001b[1;33m\u001b[0m\u001b[0m\n",
      "\u001b[1;32mD:\\Anaconda\\lib\\site-packages\\selenium\\webdriver\\remote\\webdriver.py\u001b[0m in \u001b[0;36mfind_element_by_xpath\u001b[1;34m(self, xpath)\u001b[0m\n\u001b[0;32m    392\u001b[0m             \u001b[0melement\u001b[0m \u001b[1;33m=\u001b[0m \u001b[0mdriver\u001b[0m\u001b[1;33m.\u001b[0m\u001b[0mfind_element_by_xpath\u001b[0m\u001b[1;33m(\u001b[0m\u001b[1;34m'//div/td[1]'\u001b[0m\u001b[1;33m)\u001b[0m\u001b[1;33m\u001b[0m\u001b[1;33m\u001b[0m\u001b[0m\n\u001b[0;32m    393\u001b[0m         \"\"\"\n\u001b[1;32m--> 394\u001b[1;33m         \u001b[1;32mreturn\u001b[0m \u001b[0mself\u001b[0m\u001b[1;33m.\u001b[0m\u001b[0mfind_element\u001b[0m\u001b[1;33m(\u001b[0m\u001b[0mby\u001b[0m\u001b[1;33m=\u001b[0m\u001b[0mBy\u001b[0m\u001b[1;33m.\u001b[0m\u001b[0mXPATH\u001b[0m\u001b[1;33m,\u001b[0m \u001b[0mvalue\u001b[0m\u001b[1;33m=\u001b[0m\u001b[0mxpath\u001b[0m\u001b[1;33m)\u001b[0m\u001b[1;33m\u001b[0m\u001b[1;33m\u001b[0m\u001b[0m\n\u001b[0m\u001b[0;32m    395\u001b[0m \u001b[1;33m\u001b[0m\u001b[0m\n\u001b[0;32m    396\u001b[0m     \u001b[1;32mdef\u001b[0m \u001b[0mfind_elements_by_xpath\u001b[0m\u001b[1;33m(\u001b[0m\u001b[0mself\u001b[0m\u001b[1;33m,\u001b[0m \u001b[0mxpath\u001b[0m\u001b[1;33m)\u001b[0m\u001b[1;33m:\u001b[0m\u001b[1;33m\u001b[0m\u001b[1;33m\u001b[0m\u001b[0m\n",
      "\u001b[1;32mD:\\Anaconda\\lib\\site-packages\\selenium\\webdriver\\remote\\webdriver.py\u001b[0m in \u001b[0;36mfind_element\u001b[1;34m(self, by, value)\u001b[0m\n\u001b[0;32m    976\u001b[0m         return self.execute(Command.FIND_ELEMENT, {\n\u001b[0;32m    977\u001b[0m             \u001b[1;34m'using'\u001b[0m\u001b[1;33m:\u001b[0m \u001b[0mby\u001b[0m\u001b[1;33m,\u001b[0m\u001b[1;33m\u001b[0m\u001b[1;33m\u001b[0m\u001b[0m\n\u001b[1;32m--> 978\u001b[1;33m             'value': value})['value']\n\u001b[0m\u001b[0;32m    979\u001b[0m \u001b[1;33m\u001b[0m\u001b[0m\n\u001b[0;32m    980\u001b[0m     \u001b[1;32mdef\u001b[0m \u001b[0mfind_elements\u001b[0m\u001b[1;33m(\u001b[0m\u001b[0mself\u001b[0m\u001b[1;33m,\u001b[0m \u001b[0mby\u001b[0m\u001b[1;33m=\u001b[0m\u001b[0mBy\u001b[0m\u001b[1;33m.\u001b[0m\u001b[0mID\u001b[0m\u001b[1;33m,\u001b[0m \u001b[0mvalue\u001b[0m\u001b[1;33m=\u001b[0m\u001b[1;32mNone\u001b[0m\u001b[1;33m)\u001b[0m\u001b[1;33m:\u001b[0m\u001b[1;33m\u001b[0m\u001b[1;33m\u001b[0m\u001b[0m\n",
      "\u001b[1;32mD:\\Anaconda\\lib\\site-packages\\selenium\\webdriver\\remote\\webdriver.py\u001b[0m in \u001b[0;36mexecute\u001b[1;34m(self, driver_command, params)\u001b[0m\n\u001b[0;32m    319\u001b[0m         \u001b[0mresponse\u001b[0m \u001b[1;33m=\u001b[0m \u001b[0mself\u001b[0m\u001b[1;33m.\u001b[0m\u001b[0mcommand_executor\u001b[0m\u001b[1;33m.\u001b[0m\u001b[0mexecute\u001b[0m\u001b[1;33m(\u001b[0m\u001b[0mdriver_command\u001b[0m\u001b[1;33m,\u001b[0m \u001b[0mparams\u001b[0m\u001b[1;33m)\u001b[0m\u001b[1;33m\u001b[0m\u001b[1;33m\u001b[0m\u001b[0m\n\u001b[0;32m    320\u001b[0m         \u001b[1;32mif\u001b[0m \u001b[0mresponse\u001b[0m\u001b[1;33m:\u001b[0m\u001b[1;33m\u001b[0m\u001b[1;33m\u001b[0m\u001b[0m\n\u001b[1;32m--> 321\u001b[1;33m             \u001b[0mself\u001b[0m\u001b[1;33m.\u001b[0m\u001b[0merror_handler\u001b[0m\u001b[1;33m.\u001b[0m\u001b[0mcheck_response\u001b[0m\u001b[1;33m(\u001b[0m\u001b[0mresponse\u001b[0m\u001b[1;33m)\u001b[0m\u001b[1;33m\u001b[0m\u001b[1;33m\u001b[0m\u001b[0m\n\u001b[0m\u001b[0;32m    322\u001b[0m             response['value'] = self._unwrap_value(\n\u001b[0;32m    323\u001b[0m                 response.get('value', None))\n",
      "\u001b[1;32mD:\\Anaconda\\lib\\site-packages\\selenium\\webdriver\\remote\\errorhandler.py\u001b[0m in \u001b[0;36mcheck_response\u001b[1;34m(self, response)\u001b[0m\n\u001b[0;32m    240\u001b[0m                 \u001b[0malert_text\u001b[0m \u001b[1;33m=\u001b[0m \u001b[0mvalue\u001b[0m\u001b[1;33m[\u001b[0m\u001b[1;34m'alert'\u001b[0m\u001b[1;33m]\u001b[0m\u001b[1;33m.\u001b[0m\u001b[0mget\u001b[0m\u001b[1;33m(\u001b[0m\u001b[1;34m'text'\u001b[0m\u001b[1;33m)\u001b[0m\u001b[1;33m\u001b[0m\u001b[1;33m\u001b[0m\u001b[0m\n\u001b[0;32m    241\u001b[0m             \u001b[1;32mraise\u001b[0m \u001b[0mexception_class\u001b[0m\u001b[1;33m(\u001b[0m\u001b[0mmessage\u001b[0m\u001b[1;33m,\u001b[0m \u001b[0mscreen\u001b[0m\u001b[1;33m,\u001b[0m \u001b[0mstacktrace\u001b[0m\u001b[1;33m,\u001b[0m \u001b[0malert_text\u001b[0m\u001b[1;33m)\u001b[0m\u001b[1;33m\u001b[0m\u001b[1;33m\u001b[0m\u001b[0m\n\u001b[1;32m--> 242\u001b[1;33m         \u001b[1;32mraise\u001b[0m \u001b[0mexception_class\u001b[0m\u001b[1;33m(\u001b[0m\u001b[0mmessage\u001b[0m\u001b[1;33m,\u001b[0m \u001b[0mscreen\u001b[0m\u001b[1;33m,\u001b[0m \u001b[0mstacktrace\u001b[0m\u001b[1;33m)\u001b[0m\u001b[1;33m\u001b[0m\u001b[1;33m\u001b[0m\u001b[0m\n\u001b[0m\u001b[0;32m    243\u001b[0m \u001b[1;33m\u001b[0m\u001b[0m\n\u001b[0;32m    244\u001b[0m     \u001b[1;32mdef\u001b[0m \u001b[0m_value_or_default\u001b[0m\u001b[1;33m(\u001b[0m\u001b[0mself\u001b[0m\u001b[1;33m,\u001b[0m \u001b[0mobj\u001b[0m\u001b[1;33m,\u001b[0m \u001b[0mkey\u001b[0m\u001b[1;33m,\u001b[0m \u001b[0mdefault\u001b[0m\u001b[1;33m)\u001b[0m\u001b[1;33m:\u001b[0m\u001b[1;33m\u001b[0m\u001b[1;33m\u001b[0m\u001b[0m\n",
      "\u001b[1;31mNoSuchElementException\u001b[0m: Message: no such element: Unable to locate element: {\"method\":\"xpath\",\"selector\":\"//*[@id=\"app\"]/div[2]/div/header/section[1]/div[1]/div[2]/div/form/div/input\"}\n  (Session info: chrome=84.0.4147.135)\n"
     ]
    }
   ],
   "source": [
    "# New York Times\n",
    "\n",
    "#search = input('Your search')\n",
    "\n",
    "options =webdriver.ChromeOptions()\n",
    "options.headless=False\n",
    "prefs={\"profile.default_content_setting_values.notifications\" :2}\n",
    "options.add_experimental_option(\"prefs\",prefs)\n",
    "driver = webdriver.Chrome('C:/chromedriver/chromedriver.exe')\n",
    "\n",
    "driver.get(\"https://www.nytimes.com/\")\n",
    "\n",
    "# click loop button\n",
    "button = driver.find_elements_by_xpath('//*[@id=\"app\"]/div[2]/div/header/section[1]/div[1]/div[2]/button')[0]\n",
    "button.click()\n",
    "driver.find_element_by_xpath('//*[@id=\"app\"]/div[2]/div/header/section[1]/div[1]/div[2]/div/form/div/input').send_keys('Trump',Keys.ENTER)\n",
    "\n",
    "\n",
    "\n",
    "# Select date\n",
    "time.sleep(10)\n",
    "button=driver.find_elements_by_xpath('//*[@id=\"site-content\"]/div/div[1]/div[2]/div/div/div[1]/div/div/button')[0]\n",
    "button.click()\n",
    "\n",
    "dateRannge ='yesterday'\n",
    "\n",
    "if(dateRannge =='yesterday'):\n",
    "    #click on yesterday\n",
    "    driver.find_element_by_xpath('/html/body/div[1]/div[2]/main/div/div[1]/div[2]/div/div/div[1]/div/div/div/ul/li[2]/button')[0].click()\n",
    "\n",
    "if(dateRannge =='Past week'):\n",
    "    #click on yesterday\n",
    "    driver.find_element_by_xpath('/html/body/div[1]/div[2]/main/div/div[1]/div[2]/div/div/div[1]/div/div/div/ul/li[3]/button')[0].click()\n",
    "\n",
    "if(dateRannge == 'Past month'):\n",
    "    #click on yesterday\n",
    "    driver.find_element_by_xpath('/html/body/div[1]/div[2]/main/div/div[1]/div[2]/div/div/div[1]/div/div/div/ul/li[4]/button')[0].click()\n",
    "\n",
    "if(dateRannge == 'Past year'):\n",
    "    #click on yesterday\n",
    "    driver.find_element_by_xpath('/html/body/div[1]/div[2]/main/div/div[1]/div[2]/div/div/div[1]/div/div/div/ul/li[5]/button')[0].click()\n",
    "\n",
    "# click on show more\n",
    "\n",
    "i=10\n",
    "while i< 30 :\n",
    "    driver.find_element_by_xpath('//*[@id=\"site-content\"]/div/div[2]/div[2]/div/button').click()\n",
    "    i+=1\n",
    "    print(i)\n",
    "\n",
    "# Get all href\n",
    "elems = driver.find_elements_by_xpath(\"//a[@href]\")\n",
    "for elem in elems:\n",
    "    print(elem.get_attribute(\"href\"))\n"
   ]
  },
  {
   "cell_type": "code",
   "execution_count": 93,
   "metadata": {
    "tags": []
   },
   "outputs": [],
   "source": [
    "def getUrls_NewyorkTimes(search,nbe_articles,dateRannge):\n",
    "    options =webdriver.ChromeOptions()\n",
    "    options.headless=False\n",
    "    prefs={\"profile.default_content_setting_values.notifications\" :2}\n",
    "    options.add_experimental_option(\"prefs\",prefs)\n",
    "    driver = webdriver.Chrome('C:/chromedriver/chromedriver.exe')\n",
    "\n",
    "    driver.get(\"https://www.nytimes.com/\")\n",
    "    #time.sleep(10)\n",
    "\n",
    "    # click loop button\n",
    "    button = driver.find_elements_by_xpath('//*[@id=\"app\"]/div[2]/div/header/section[1]/div[1]/div[2]/button')[0]\n",
    "    button.click()\n",
    "    driver.find_element_by_xpath('//*[@id=\"app\"]/div[2]/div/header/section[1]/div[1]/div[2]/div/form/div/input').send_keys(search,Keys.ENTER)\n",
    "\n",
    "\n",
    "    time.sleep(5)\n",
    "    # Select date button click \n",
    "    button = driver.find_element_by_xpath('//*[@id=\"site-content\"]/div/div[1]/div[2]/div/div/div[1]/div/div/button')\n",
    "    button.click()\n",
    "\n",
    "    if(dateRannge =='yesterday'):\n",
    "        #click on yesterday\n",
    "        button = driver.find_elements_by_xpath('/html/body/div[4]/div[2]/div[2]/div/div/div/div/div[1]/div[1]/ul/li[2]/div/ul/li[2]/a')[0]\n",
    "        button.click()\n",
    "\n",
    "    elif(dateRannge =='Past week'):\n",
    "        #click on Past week\n",
    "        driver.implicitly_wait(15)\n",
    "        button = driver.find_elements_by_xpath('//*[@id=\"site-content\"]/div/div[1]/div[2]/div/div/div[1]/div/div/div/ul/li[3]/button')[0]\n",
    "        button.click()\n",
    "    elif(dateRannge == 'Past month'):\n",
    "        #click on Past month\n",
    "        button = driver.find_elements_by_xpath('//*[@id=\"site-content\"]/div/div[1]/div[2]/div/div/div[1]/div/div/div/ul/li[4]/button')[0]\n",
    "        button.click()\n",
    "    elif(dateRannge == 'Past year'):\n",
    "        #click on Past year\n",
    "        button = driver.find_elements_by_xpath('//*[@id=\"site-content\"]/div/div[1]/div[2]/div/div/div[1]/div/div/div/ul/li[5]/button')[0]\n",
    "        button.click()\n",
    "\n",
    "    elif(dateRannge == 'Specific Dates'): \n",
    "        # MM/DD/YYYY\n",
    "        start_date='08/04/2020'\n",
    "        end_date='08/22/2020'\n",
    "        button = driver.find_elements_by_xpath('//*[@id=\"site-content\"]/div/div[1]/div[2]/div/div/div[1]/div/div/div/ul/li[6]/button')[0]\n",
    "        button.click()\n",
    "\n",
    "        driver.find_element_by_xpath('//*[@id=\"startDate\"]').send_keys(start_date,Keys.ENTER)   \n",
    "        driver.find_element_by_xpath('//*[@id=\"endDate\"]').send_keys(end_date,Keys.ENTER)  \n",
    "\n",
    "    # click on button show more \n",
    "    i=10\n",
    "    while i< nbe_articles :\n",
    "        driver.find_element_by_xpath('//*[@id=\"site-content\"]/div/div[2]/div[2]/div/button').click()\n",
    "        i+=1\n",
    "        print(i)\n",
    "\n",
    "    time.sleep(5)\n",
    "    liste=[]\n",
    "    elems = driver.find_elements_by_xpath(\"//a[@href]\")\n",
    "    for elem in elems:\n",
    "        print(elem.get_attribute(\"href\"))\n",
    "        if search(\"searchResultPosition=\", elem.get_attribute(\"href\")):\n",
    "            liste.append(elem.get_attribute(\"href\"))\n",
    "        \n",
    "    return liste\n",
    "  "
   ]
  },
  {
   "cell_type": "code",
   "execution_count": 94,
   "metadata": {
    "tags": []
   },
   "outputs": [
    {
     "output_type": "stream",
     "name": "stdout",
     "text": "11\n12\n13\n14\n15\n16\n17\n18\n19\n20\n21\n22\n23\n24\n25\n26\n27\n28\n29\n30\nhttps://www.nytimes.com/search?dropmab=true&endDate=20200826&query=Trump&sort=best&startDate=20200819#site-content\n"
    },
    {
     "output_type": "error",
     "ename": "TypeError",
     "evalue": "'str' object is not callable",
     "traceback": [
      "\u001b[1;31m---------------------------------------------------------------------------\u001b[0m",
      "\u001b[1;31mTypeError\u001b[0m                                 Traceback (most recent call last)",
      "\u001b[1;32m<ipython-input-94-9fbdf31191fb>\u001b[0m in \u001b[0;36m<module>\u001b[1;34m\u001b[0m\n\u001b[1;32m----> 1\u001b[1;33m \u001b[0mliste\u001b[0m \u001b[1;33m=\u001b[0m \u001b[0mgetUrls_NewyorkTimes\u001b[0m\u001b[1;33m(\u001b[0m\u001b[1;34m'Trump'\u001b[0m\u001b[1;33m,\u001b[0m\u001b[1;36m30\u001b[0m\u001b[1;33m,\u001b[0m\u001b[1;34m'Past week'\u001b[0m\u001b[1;33m)\u001b[0m\u001b[1;33m\u001b[0m\u001b[1;33m\u001b[0m\u001b[0m\n\u001b[0m\u001b[0;32m      2\u001b[0m \u001b[0mprint\u001b[0m\u001b[1;33m(\u001b[0m\u001b[0mliste\u001b[0m\u001b[1;33m)\u001b[0m\u001b[1;33m\u001b[0m\u001b[1;33m\u001b[0m\u001b[0m\n",
      "\u001b[1;32m<ipython-input-93-25eb2997aeca>\u001b[0m in \u001b[0;36mgetUrls_NewyorkTimes\u001b[1;34m(search, nbe_articles, dateRannge)\u001b[0m\n\u001b[0;32m     61\u001b[0m     \u001b[1;32mfor\u001b[0m \u001b[0melem\u001b[0m \u001b[1;32min\u001b[0m \u001b[0melems\u001b[0m\u001b[1;33m:\u001b[0m\u001b[1;33m\u001b[0m\u001b[1;33m\u001b[0m\u001b[0m\n\u001b[0;32m     62\u001b[0m         \u001b[0mprint\u001b[0m\u001b[1;33m(\u001b[0m\u001b[0melem\u001b[0m\u001b[1;33m.\u001b[0m\u001b[0mget_attribute\u001b[0m\u001b[1;33m(\u001b[0m\u001b[1;34m\"href\"\u001b[0m\u001b[1;33m)\u001b[0m\u001b[1;33m)\u001b[0m\u001b[1;33m\u001b[0m\u001b[1;33m\u001b[0m\u001b[0m\n\u001b[1;32m---> 63\u001b[1;33m         \u001b[1;32mif\u001b[0m \u001b[0msearch\u001b[0m\u001b[1;33m(\u001b[0m\u001b[1;34m\"searchResultPosition=\"\u001b[0m\u001b[1;33m,\u001b[0m \u001b[0melem\u001b[0m\u001b[1;33m.\u001b[0m\u001b[0mget_attribute\u001b[0m\u001b[1;33m(\u001b[0m\u001b[1;34m\"href\"\u001b[0m\u001b[1;33m)\u001b[0m\u001b[1;33m)\u001b[0m\u001b[1;33m:\u001b[0m\u001b[1;33m\u001b[0m\u001b[1;33m\u001b[0m\u001b[0m\n\u001b[0m\u001b[0;32m     64\u001b[0m             \u001b[0mliste\u001b[0m\u001b[1;33m.\u001b[0m\u001b[0mappend\u001b[0m\u001b[1;33m(\u001b[0m\u001b[0melem\u001b[0m\u001b[1;33m.\u001b[0m\u001b[0mget_attribute\u001b[0m\u001b[1;33m(\u001b[0m\u001b[1;34m\"href\"\u001b[0m\u001b[1;33m)\u001b[0m\u001b[1;33m)\u001b[0m\u001b[1;33m\u001b[0m\u001b[1;33m\u001b[0m\u001b[0m\n\u001b[0;32m     65\u001b[0m \u001b[1;33m\u001b[0m\u001b[0m\n",
      "\u001b[1;31mTypeError\u001b[0m: 'str' object is not callable"
     ]
    }
   ],
   "source": [
    "liste = getUrls_NewyorkTimes('Trump',30,'Past week')\n",
    "print(liste)"
   ]
  },
  {
   "cell_type": "markdown",
   "metadata": {},
   "source": [
    "### ----------------------------------------------------------------------------------------------------------------------------------------------------------------------------------------------------------------------------------------------------------------------------"
   ]
  },
  {
   "cell_type": "code",
   "execution_count": 64,
   "metadata": {
    "tags": []
   },
   "outputs": [
    {
     "output_type": "stream",
     "name": "stdout",
     "text": "11\n12\n13\n14\n15\n16\n17\n18\n19\n20\n21\n22\n23\n24\n25\n26\n27\n28\n29\n30\n"
    }
   ],
   "source": [
    "dateRannge='yesterday'\n",
    "\n",
    "options =webdriver.ChromeOptions()\n",
    "options.headless=False\n",
    "prefs={\"profile.default_content_setting_values.notifications\" :2}\n",
    "options.add_experimental_option(\"prefs\",prefs)\n",
    "driver = webdriver.Chrome('C:/chromedriver/chromedriver.exe')\n",
    "\n",
    "driver.get(\"https://www.nytimes.com/\")\n",
    "time.sleep(5)\n",
    "\n",
    "# click loop button\n",
    "button = driver.find_elements_by_xpath('//*[@id=\"app\"]/div[2]/div/header/section[1]/div[1]/div[2]/button')[0]\n",
    "button.click()\n",
    "driver.find_element_by_xpath('//*[@id=\"app\"]/div[2]/div/header/section[1]/div[1]/div[2]/div/form/div/input').send_keys('Trump',Keys.ENTER)\n",
    "\n",
    "\n",
    "time.sleep(5)\n",
    "# Select date button click \n",
    "button = driver.find_element_by_xpath('//*[@id=\"site-content\"]/div/div[1]/div[2]/div/div/div[1]/div/div/button')\n",
    "button.click()\n",
    "\n",
    "if(dateRannge ==\"yesterday\"):\n",
    "    #click on yesterday\n",
    "    button = driver.find_elements_by_xpath('//*[@id=\"site-content\"]/div/div[1]/div[2]/div/div/div[1]/div/div/div/ul/li[2]')[0]\n",
    "    button.click()\n",
    "\n",
    "elif(dateRannge ==\"Past week\"):\n",
    "    #click on Past week\n",
    "    button = driver.find_elements_by_xpath('//*[@id=\"site-content\"]/div/div[1]/div[2]/div/div/div[1]/div/div/div/ul/li[3]/button')[0]\n",
    "    button.click()\n",
    "\n",
    "elif(dateRannge == \"Past month\"):\n",
    "    #click on Past month\n",
    "    button = driver.find_elements_by_xpath('//*[@id=\"site-content\"]/div/div[1]/div[2]/div/div/div[1]/div/div/div/ul/li[4]/button')[0]\n",
    "    button.click()\n",
    "elif(dateRannge == \"Past year\"):\n",
    "    #click on Past year\n",
    "    button = driver.find_elements_by_xpath('//*[@id=\"site-content\"]/div/div[1]/div[2]/div/div/div[1]/div/div/div/ul/li[5]/button')[0]\n",
    "    button.click()\n",
    "\n",
    "elif(dateRannge == \"Specific Dates\"): \n",
    "    # MM/DD/YYYY\n",
    "    start_date='08/04/2020'\n",
    "    end_date='08/22/2020'\n",
    "    button = driver.find_elements_by_xpath('//*[@id=\"site-content\"]/div/div[1]/div[2]/div/div/div[1]/div/div/div/ul/li[6]/button')[0]\n",
    "    button.click()\n",
    "\n",
    "    driver.find_element_by_xpath('//*[@id=\"startDate\"]').send_keys(start_date,Keys.ENTER)   \n",
    "    driver.find_element_by_xpath('//*[@id=\"endDate\"]').send_keys(end_date,Keys.ENTER)  \n",
    "\n",
    "# click on button show more \n",
    "i=10\n",
    "while i< 30 :\n",
    "    driver.find_element_by_xpath('//*[@id=\"site-content\"]/div/div[2]/div[2]/div/button').click()\n",
    "    i+=1\n",
    "    print(i)\n",
    "\n",
    "time.sleep(5)\n",
    "liste=[]\n",
    "elems = driver.find_elements_by_xpath(\"//a[@href]\")\n",
    "for elem in elems:\n",
    "    if search(\"searchResultPosition=\", elem.get_attribute(\"href\")):\n",
    "        liste.append(elem.get_attribute(\"href\"))"
   ]
  },
  {
   "cell_type": "code",
   "execution_count": 63,
   "metadata": {},
   "outputs": [
    {
     "output_type": "execute_result",
     "data": {
      "text/plain": "aland-mosque-shooter-sentenced-to-life-without-parole-for-killing-51/',\n 'https://www.cbsnews.com/news/lezmond-mitchell-execution-only-native-american-man-on-death-row-executed-for-2001-murders/',\n 'https://www.cbsnews.com/news/hurricane-laura-winds-storm-surge-damage-texas-louisiana/',\n 'https://www.cbsnews.com/news/cbs-news-2020-battleground-tracker-5-things-to-know/',\n 'https://www.cbsnews.com/news/republican-national-convention-night-3-watch-live/',\n 'https://www.cbsnews.com/news/republicans-economy-coronavirus-opinion-poll-cbs-news-battleground-tracker/',\n 'https://www.cbsnews.com/news/democratic-national-convention-takeaways-moments/',\n 'https://www.cbsnews.com/news/2020-election-mail-in-voting-ballots-results/',\n 'https://www.cbsnews.com/news/voting-rights-americans-cast-ballot-ease/',\n 'https://www.cbsnews.com/news/joe-biden-kamala-harris-democratic-convention-opinion-poll-08-16-2020/',\n 'https://www.cbsnews.com/news/why-mail-in-ballot-rejected-voting-counts/',\n 'https://www.cbsnews.com/news/what-happens-if-the-president-doesnt-accept-the-election-results/',\n 'https://www.cbsnews.com/news/election-day-mail-in-voting-ballots-election-week/',\n 'https://www.cbsnews.com/news/russian-hackers-2016-election-democratic-congressional-campaign-committee-60-minutes-2020-08-23/',\n 'https://www.cbsnews.com/news/russian-hackers-2016-election-democratic-congressional-campaign-committee-60-minutes-2020-08-23/',\n 'https://www.cbsnews.com/news/russian-hackers-2016-election-democratic-congressional-campaign-committee-60-minutes-2020-08-23/',\n 'https://www.cbsnews.com/news/russian-hackers-2016-election-democratic-congressional-campaign-committee-60-minutes-2020-08-23/',\n 'https://www.cbsnews.com/news/russian-hackers-2016-election-democratic-congressional-campaign-committee-60-minutes-2020-08-23/',\n 'https://www.cbsnews.com/news/hungary-paying-citizens-to-have-babies-60-minutes-2020-07-19/',\n 'https://www.cbsnews.com/news/hungary-paying-citizens-to-have-babies-60-minutes-2020-07-19/',\n 'https://www.cbsnews.com/news/hungary-paying-citizens-to-have-babies-60-minutes-2020-07-19/',\n 'https://www.cbsnews.com/news/hungary-paying-citizens-to-have-babies-60-minutes-2020-07-19/',\n 'https://www.cbsnews.com/news/hungary-paying-citizens-to-have-babies-60-minutes-2020-07-19/',\n 'https://www.cbsnews.com/news/60-minutes-the-history-and-future-of-confederate-monuments-2020-07-12/',\n 'https://www.cbsnews.com/news/60-minutes-the-history-and-future-of-confederate-monuments-2020-07-12/',\n 'https://www.cbsnews.com/news/60-minutes-the-history-and-future-of-confederate-monuments-2020-07-12/',\n 'https://www.cbsnews.com/news/60-minutes-the-history-and-future-of-confederate-monuments-2020-07-12/',\n 'https://www.cbsnews.com/news/60-minutes-the-history-and-future-of-confederate-monuments-2020-07-12/',\n 'https://www.cbsnews.com/news/election-voting-2019-20-coronavirus-pandemic-60-minutes-2020-06-28/',\n 'https://www.cbsnews.com/news/election-voting-2019-20-coronavirus-pandemic-60-minutes-2020-06-28/',\n 'https://www.cbsnews.com/news/election-voting-2019-20-coronavirus-pandemic-60-minutes-2020-06-28/',\n 'https://www.cbsnews.com/news/election-voting-2019-20-coronavirus-pandemic-60-minutes-2020-06-28/',\n 'https://www.cbsnews.com/news/election-voting-2019-20-coronavirus-pandemic-60-minutes-2020-06-28/',\n 'https://www.cbsnews.com/news/coronavirus-antibody-testing-inaccurate-data-60-minutes-2020-06-28/',\n 'https://www.cbsnews.com/news/coronavirus-antibody-testing-inaccurate-data-60-minutes-2020-06-28/',\n 'https://www.cbsnews.com/news/coronavirus-antibody-testing-inaccurate-data-60-minutes-2020-06-28/',\n 'https://www.cbsnews.com/news/coronavirus-antibody-testing-inaccurate-data-60-minutes-2020-06-28/',\n 'https://www.cbsnews.com/news/coronavirus-antibody-testing-inaccurate-data-60-minutes-2020-06-28/',\n 'https://www.cbsnews.com/news/trump-administration-coronavirus-vaccine-researcher-covid-19-cure-60-minutes/',\n 'https://www.cbsnews.com/news/trump-administration-coronavirus-vaccine-researcher-covid-19-cure-60-minutes/',\n 'https://www.cbsnews.com/news/trump-administration-coronavirus-vaccine-researcher-covid-19-cure-60-minutes/',\n 'https://www.cbsnews.com/news/trump-administration-coronavirus-vaccine-researcher-covid-19-cure-60-minutes/',\n 'https://www.cbsnews.com/news/trump-administration-coronavirus-vaccine-researcher-covid-19-cure-60-minutes/',\n 'https://www.cbsnews.com/news/the-opioid-epidemic-who-is-to-blame-60-minutes-2020-06-21/',\n 'https://www.cbsnews.com/news/the-opioid-epidemic-who-is-to-blame-60-minutes-2020-06-21/',\n 'https://www.cbsnews.com/news/the-opioid-epidemic-who-is-to-blame-60-minutes-2020-06-21/',\n 'https://www.cbsnews.com/news/the-opioid-epidemic-who-is-to-blame-60-minutes-2020-06-21/',\n 'https://www.cbsnews.com/news/the-opioid-epidemic-who-is-to-blame-60-minutes-2020-06-21/',\n 'https://www.cbsnews.com/news/adam-sandler-the-rare-comedian-who-says-his-childhood-was-happy-60-minutes-2020-08-23/',\n 'https://www.cbsnews.com/news/driverless-trucks-could-disrupt-the-trucking-industry-as-soon-as-2021-60-minutes-2020-08-23/',\n 'https://www.cbsnews.com/news/russian-hackers-2016-election-democratic-congressional-campaign-committee-60-minutes-2020-08-23/',\n 'https://www.cbsnews.com/news/inside-the-corruption-allegations-plaguing-malta-60-minutes-2020-08-16/',\n 'https://www.cbsnews.com/news/elder-fernandez-fort-hood-soldier-body-found-hanging-tree/',\n 'https://www.cbsnews.com/news/protest-continue-kenosha-wisconsin-jacob-blake-shooting/',\n 'https://www.cbsnews.com/news/hurricane-laura-winds-storm-surge-damage-texas-louisiana/',\n 'https://www.cbsnews.com/news/jacob-blake-shooting-rusten-sheskey-kenosha-police-officer/',\n 'https://www.cbsnews.com/news/yevgeny-vindman-whistleblower-complaint-retaliation-pentagon/',\n 'https://www.cbsnews.com/news/stimulus-check-catch-up-money-withheld-irs/',\n 'https://www.cbsnews.com/news/kyle-rittenhouse-kenosha-shooting-protest-suspect-arrested-illinois/',\n 'https://www.cbsnews.com/news/jacob-blake-shooting-rusten-sheskey-kenosha-police-officer/',\n 'https://www.cbsnews.com/news/yevgeny-vindman-whistleblower-complaint-retaliation-pentagon/',\n 'https://www.cbsnews.com/news/hurricane-laura-winds-storm-surge-damage-texas-louisiana/',\n 'https://www.cbsnews.com/news/minneapolis-unrest-mistaken-reports-police-shooting-black-man-who-actually-shot-himself/',\n 'https://www.cbsnews.com/news/cbs-news-internship-program/',\n 'https://www.cbsnews.com/news/cbs-news-associates-program/',\n 'https://www.cbsnews.com/news/body-mass-index-bmi-measuring-weight-health-risks/',\n 'https://www.cbsnews.com/news/republican-national-convention-night-3-watch-live/',\n 'https://www.cbsnews.com/news/nba-playoff-games-postponed-today-players-boycott-bucks-jacob-blake-2020-08-26/',\n 'https://www.cbsnews.com/news/jacob-blake-shooting-rusten-sheskey-kenosha-police-officer/',\n 'https://www.cbsnews.com/news/hurricane-laura-winds-storm-surge-damage-texas-louisiana/',\n 'https://www.cbsnews.com/news/republican-national-convention-night-3-watch-live/',\n 'https://www.cbsnews.com/news/fbi-10-most-wanted-fugitives-captured-daughters-2008-killings/',\n 'https://www.cbsnews.com/news/minneapolis-unrest-mistaken-reports-police-shooting-black-man-who-actually-shot-himself/',\n 'https://www.cbsnews.com/news/jacob-blake-shooting-protests-kenosha-stay-peaceful/',\n 'https://www.cbsnews.com/news/jacob-blake-shooting-rusten-sheskey-kenosha-police-officer/',\n 'https://www.cbsnews.com/news/christchurch-new-zealand-mosque-shooter-sentenced-to-life-without-parole-for-killing-51/',\n 'https://www.cbsnews.com/news/lezmond-mitchell-execution-only-native-american-man-on-death-row-executed-for-2001-murders/',\n 'https://www.cbsnews.com/news/hurricane-laura-winds-storm-surge-damage-texas-louisiana/',\n 'https://www.cbsnews.com/news/cbs-news-2020-battleground-tracker-5-things-to-know/',\n 'https://www.cbsnews.com/news/republican-national-convention-night-3-watch-live/',\n 'https://www.cbsnews.com/news/republicans-economy-coronavirus-opinion-poll-cbs-news-battleground-tracker/',\n 'https://www.cbsnews.com/news/democratic-national-convention-takeaways-moments/',\n 'https://www.cbsnews.com/news/2020-election-mail-in-voting-ballots-results/',\n 'https://www.cbsnews.com/news/voting-rights-americans-cast-ballot-ease/',\n 'https://www.cbsnews.com/news/joe-biden-kamala-harris-democratic-convention-opinion-poll-08-16-2020/',\n 'https://www.cbsnews.com/news/why-mail-in-ballot-rejected-voting-counts/',\n 'https://www.cbsnews.com/news/what-happens-if-the-president-doesnt-accept-the-election-results/',\n 'https://www.cbsnews.com/news/election-day-mail-in-voting-ballots-election-week/',\n 'https://www.cbsnews.com/news/merit-systems-protection-board-appeals-backlog-60-minutes-2020-06-14/',\n 'https://www.cbsnews.com/news/merit-systems-protection-board-appeals-backlog-60-minutes-2020-06-14/',\n 'https://www.cbsnews.com/news/merit-systems-protection-board-appeals-backlog-60-minutes-2020-06-14/',\n 'https://www.cbsnews.com/news/merit-systems-protection-board-appeals-backlog-60-minutes-2020-06-14/',\n 'https://www.cbsnews.com/news/merit-systems-protection-board-appeals-backlog-60-minutes-2020-06-14/',\n 'https://www.cbsnews.com/news/icymi-60-minutes-george-floyd-protests-coronavirus-pandemic-reopen-oklahoma-failure-to-protect-2020-06-08/',\n 'https://www.cbsnews.com/news/icymi-60-minutes-george-floyd-protests-coronavirus-pandemic-reopen-oklahoma-failure-to-protect-2020-06-08/',\n 'https://www.cbsnews.com/news/icymi-60-minutes-george-floyd-protests-coronavirus-pandemic-reopen-oklahoma-failure-to-protect-2020-06-08/',\n 'https://www.cbsnews.com/news/icymi-60-minutes-george-floyd-protests-coronavirus-pandemic-reopen-oklahoma-failure-to-protect-2020-06-08/',\n 'https://www.cbsnews.com/news/icymi-60-minutes-george-floyd-protests-coronavirus-pandemic-reopen-oklahoma-failure-to-protect-2020-06-08/',\n 'https://www.cbsnews.com/news/san-antonio-coronavirus-reopening-60-minutes-2020-06-07/',\n 'https://www.cbsnews.com/news/san-antonio-coronavirus-reopening-60-minutes-2020-06-07/',\n 'https://www.cbsnews.com/news/san-antonio-coronavirus-reopening-60-minutes-2020-06-07/',\n 'https://www.cbsnews.com/news/san-antonio-coronavirus-reopening-60-minutes-2020-06-07/',\n 'https://www.cbsnews.com/news/san-antonio-coronavirus-reopening-60-minutes-2020-06-07/',\n 'https://www.cbsnews.com/news/naacp-sherrilyn-ifill-george-floyd-donald-trump-response-60-minutes-2020-06-07/',\n 'https://www.cbsnews.com/news/naacp-sherrilyn-ifill-george-floyd-donald-trump-response-60-minutes-2020-06-07/',\n 'https://www.cbsnews.com/news/naacp-sherrilyn-ifill-george-floyd-donald-trump-response-60-minutes-2020-06-07/',\n 'https://www.cbsnews.com/news/naacp-sherrilyn-ifill-george-floyd-donald-trump-response-60-minutes-2020-06-07/',\n 'https://www.cbsnews.com/news/naacp-sherrilyn-ifill-george-floyd-donald-trump-response-60-minutes-2020-06-07/',\n 'https://www.cbsnews.com/news/adam-sandler-the-rare-comedian-who-says-his-childhood-was-happy-60-minutes-2020-08-23/',\n 'https://www.cbsnews.com/news/driverless-trucks-could-disrupt-the-trucking-industry-as-soon-as-2021-60-minutes-2020-08-23/',\n 'https://www.cbsnews.com/news/russian-hackers-2016-election-democratic-congressional-campaign-committee-60-minutes-2020-08-23/',\n 'https://www.cbsnews.com/news/inside-the-corruption-allegations-plaguing-malta-60-minutes-2020-08-16/',\n 'https://www.cbsnews.com/news/elder-fernandez-fort-hood-soldier-body-found-hanging-tree/',\n 'https://www.cbsnews.com/news/protest-continue-kenosha-wisconsin-jacob-blake-shooting/',\n 'https://www.cbsnews.com/news/hurricane-laura-winds-storm-surge-damage-texas-louisiana/',\n 'https://www.cbsnews.com/news/jacob-blake-shooting-rusten-sheskey-kenosha-police-officer/',\n 'https://www.cbsnews.com/news/yevgeny-vindman-whistleblower-complaint-retaliation-pentagon/',\n 'https://www.cbsnews.com/news/stimulus-check-catch-up-money-withheld-irs/',\n 'https://www.cbsnews.com/news/kyle-rittenhouse-kenosha-shooting-protest-suspect-arrested-illinois/',\n 'https://www.cbsnews.com/news/jacob-blake-shooting-rusten-sheskey-kenosha-police-officer/',\n 'https://www.cbsnews.com/news/yevgeny-vindman-whistleblower-complaint-retaliation-pentagon/',\n 'https://www.cbsnews.com/news/hurricane-laura-winds-storm-surge-damage-texas-louisiana/',\n 'https://www.cbsnews.com/news/minneapolis-unrest-mistaken-reports-police-shooting-black-man-who-actually-shot-himself/',\n 'https://www.cbsnews.com/news/cbs-news-internship-program/',\n 'https://www.cbsnews.com/news/cbs-news-associates-program/',\n 'https://www.cbsnews.com/news/body-mass-index-bmi-measuring-weight-health-risks/',\n 'https://www.cbsnews.com/news/republican-national-convention-night-3-watch-live/',\n 'https://www.cbsnews.com/news/nba-playoff-games-postponed-today-players-boycott-bucks-jacob-blake-2020-08-26/',\n 'https://www.cbsnews.com/news/jacob-blake-shooting-rusten-sheskey-kenosha-police-officer/',\n 'https://www.cbsnews.com/news/hurricane-laura-winds-storm-surge-damage-texas-louisiana/',\n 'https://www.cbsnews.com/news/republican-national-convention-night-3-watch-live/',\n 'https://www.cbsnews.com/news/fbi-10-most-wanted-fugitives-captured-daughters-2008-killings/',\n 'https://www.cbsnews.com/news/minneapolis-unrest-mistaken-reports-police-shooting-black-man-who-actually-shot-himself/',\n 'https://www.cbsnews.com/news/jacob-blake-shooting-protests-kenosha-stay-peaceful/',\n 'https://www.cbsnews.com/news/jacob-blake-shooting-rusten-sheskey-kenosha-police-officer/',\n 'https://www.cbsnews.com/news/christchurch-new-zealand-mosque-shooter-sentenced-to-life-without-parole-for-killing-51/',\n 'https://www.cbsnews.com/news/lezmond-mitchell-execution-only-native-american-man-on-death-row-executed-for-2001-murders/',\n 'https://www.cbsnews.com/news/hurricane-laura-winds-storm-surge-damage-texas-louisiana/',\n 'https://www.cbsnews.com/news/cbs-news-2020-battleground-tracker-5-things-to-know/',\n 'https://www.cbsnews.com/news/republican-national-convention-night-3-watch-live/',\n 'https://www.cbsnews.com/news/republicans-economy-coronavirus-opinion-poll-cbs-news-battleground-tracker/',\n 'https://www.cbsnews.com/news/democratic-national-convention-takeaways-moments/',\n 'https://www.cbsnews.com/news/2020-election-mail-in-voting-ballots-results/',\n 'https://www.cbsnews.com/news/voting-rights-americans-cast-ballot-ease/',\n 'https://www.cbsnews.com/news/joe-biden-kamala-harris-democratic-convention-opinion-poll-08-16-2020/',\n 'https://www.cbsnews.com/news/why-mail-in-ballot-rejected-voting-counts/',\n 'https://www.cbsnews.com/news/what-happens-if-the-president-doesnt-accept-the-election-results/',\n 'https://www.cbsnews.com/news/election-day-mail-in-voting-ballots-election-week/',\n 'https://www.cbsnews.com/news/russian-hackers-2016-election-democratic-congressional-campaign-committee-60-minutes-2020-08-23/',\n 'https://www.cbsnews.com/news/russian-hackers-2016-election-democratic-congressional-campaign-committee-60-minutes-2020-08-23/',\n 'https://www.cbsnews.com/news/russian-hackers-2016-election-democratic-congressional-campaign-committee-60-minutes-2020-08-23/',\n 'https://www.cbsnews.com/news/russian-hackers-2016-election-democratic-congressional-campaign-committee-60-minutes-2020-08-23/',\n 'https://www.cbsnews.com/news/russian-hackers-2016-election-democratic-congressional-campaign-committee-60-minutes-2020-08-23/',\n 'https://www.cbsnews.com/news/hungary-paying-citizens-to-have-babies-60-minutes-2020-07-19/',\n 'https://www.cbsnews.com/news/hungary-paying-citizens-to-have-babies-60-minutes-2020-07-19/',\n 'https://www.cbsnews.com/news/hungary-paying-citizens-to-have-babies-60-minutes-2020-07-19/',\n 'https://www.cbsnews.com/news/hungary-paying-citizens-to-have-babies-60-minutes-2020-07-19/',\n 'https://www.cbsnews.com/news/hungary-paying-citizens-to-have-babies-60-minutes-2020-07-19/',\n 'https://www.cbsnews.com/news/60-minutes-the-history-and-future-of-confederate-monuments-2020-07-12/',\n 'https://www.cbsnews.com/news/60-minutes-the-history-and-future-of-confederate-monuments-2020-07-12/',\n 'https://www.cbsnews.com/news/60-minutes-the-history-and-future-of-confederate-monuments-2020-07-12/',\n 'https://www.cbsnews.com/news/60-minutes-the-history-and-future-of-confederate-monuments-2020-07-12/',\n 'https://www.cbsnews.com/news/60-minutes-the-history-and-future-of-confederate-monuments-2020-07-12/',\n 'https://www.cbsnews.com/news/election-voting-2019-20-coronavirus-pandemic-60-minutes-2020-06-28/',\n 'https://www.cbsnews.com/news/election-voting-2019-20-coronavirus-pandemic-60-minutes-2020-06-28/',\n 'https://www.cbsnews.com/news/election-voting-2019-20-coronavirus-pandemic-60-minutes-2020-06-28/',\n 'https://www.cbsnews.com/news/election-voting-2019-20-coronavirus-pandemic-60-minutes-2020-06-28/',\n 'https://www.cbsnews.com/news/election-voting-2019-20-coronavirus-pandemic-60-minutes-2020-06-28/',\n 'https://www.cbsnews.com/news/coronavirus-antibody-testing-inaccurate-data-60-minutes-2020-06-28/',\n 'https://www.cbsnews.com/news/coronavirus-antibody-testing-inaccurate-data-60-minutes-2020-06-28/',\n 'https://www.cbsnews.com/news/coronavirus-antibody-testing-inaccurate-data-60-minutes-2020-06-28/',\n 'https://www.cbsnews.com/news/coronavirus-antibody-testing-inaccurate-data-60-minutes-2020-06-28/',\n 'https://www.cbsnews.com/news/coronavirus-antibody-testing-inaccurate-data-60-minutes-2020-06-28/',\n 'https://www.cbsnews.com/news/trump-administration-coronavirus-vaccine-researcher-covid-19-cure-60-minutes/',\n 'https://www.cbsnews.com/news/trump-administration-coronavirus-vaccine-researcher-covid-19-cure-60-minutes/',\n 'https://www.cbsnews.com/news/trump-administration-coronavirus-vaccine-researcher-covid-19-cure-60-minutes/',\n 'https://www.cbsnews.com/news/trump-administration-coronavirus-vaccine-researcher-covid-19-cure-60-minutes/',\n 'https://www.cbsnews.com/news/trump-administration-coronavirus-vaccine-researcher-covid-19-cure-60-minutes/',\n 'https://www.cbsnews.com/news/the-opioid-epidemic-who-is-to-blame-60-minutes-2020-06-21/',\n 'https://www.cbsnews.com/news/the-opioid-epidemic-who-is-to-blame-60-minutes-2020-06-21/',\n 'https://www.cbsnews.com/news/the-opioid-epidemic-who-is-to-blame-60-minutes-2020-06-21/',\n 'https://www.cbsnews.com/news/the-opioid-epidemic-who-is-to-blame-60-minutes-2020-06-21/',\n 'https://www.cbsnews.com/news/the-opioid-epidemic-who-is-to-blame-60-minutes-2020-06-21/',\n 'https://www.cbsnews.com/news/adam-sandler-the-rare-comedian-who-says-his-childhood-was-happy-60-minutes-2020-08-23/',\n 'https://www.cbsnews.com/news/driverless-trucks-could-disrupt-the-trucking-industry-as-soon-as-2021-60-minutes-2020-08-23/',\n 'https://www.cbsnews.com/news/russian-hackers-2016-election-democratic-congressional-campaign-committee-60-minutes-2020-08-23/',\n 'https://www.cbsnews.com/news/inside-the-corruption-allegations-plaguing-malta-60-minutes-2020-08-16/',\n 'https://www.cbsnews.com/news/elder-fernandez-fort-hood-soldier-body-found-hanging-tree/',\n 'https://www.cbsnews.com/news/protest-continue-kenosha-wisconsin-jacob-blake-shooting/',\n 'https://www.cbsnews.com/news/hurricane-laura-winds-storm-surge-damage-texas-louisiana/',\n 'https://www.cbsnews.com/news/jacob-blake-shooting-rusten-sheskey-kenosha-police-officer/',\n 'https://www.cbsnews.com/news/yevgeny-vindman-whistleblower-complaint-retaliation-pentagon/',\n 'https://www.cbsnews.com/news/stimulus-check-catch-up-money-withheld-irs/',\n 'https://www.cbsnews.com/news/kyle-rittenhouse-kenosha-shooting-protest-suspect-arrested-illinois/',\n 'https://www.cbsnews.com/news/jacob-blake-shooting-rusten-sheskey-kenosha-police-officer/',\n 'https://www.cbsnews.com/news/yevgeny-vindman-whistleblower-complaint-retaliation-pentagon/',\n 'https://www.cbsnews.com/news/hurricane-laura-winds-storm-surge-damage-texas-louisiana/',\n 'https://www.cbsnews.com/news/minneapolis-unrest-mistaken-reports-police-shooting-black-man-who-actually-shot-himself/',\n 'https://www.cbsnews.com/news/cbs-news-internship-program/',\n 'https://www.cbsnews.com/news/cbs-news-associates-program/']"
     },
     "metadata": {},
     "execution_count": 63
    }
   ],
   "source": [
    "liste"
   ]
  },
  {
   "cell_type": "markdown",
   "metadata": {},
   "source": [
    "####  ----------------------------------------------------------------------------------------------------------------------------------------------------------------------------------------------------------------------------------------------------------------------------"
   ]
  },
  {
   "cell_type": "markdown",
   "metadata": {},
   "source": [
    "## 2.CBS News"
   ]
  },
  {
   "cell_type": "code",
   "execution_count": 31,
   "metadata": {
    "tags": [
     "outputPrepend"
    ]
   },
   "outputs": [
    {
     "output_type": "stream",
     "name": "stdout",
     "text": "s/jacob-blake-shooting-protests-kenosha-stay-peaceful/', 'https://www.cbsnews.com/news/jacob-blake-shooting-rusten-sheskey-kenosha-police-officer/', 'https://www.cbsnews.com/news/christchurch-new-zealand-mosque-shooter-sentenced-to-life-without-parole-for-killing-51/', 'https://www.cbsnews.com/news/lezmond-mitchell-execution-only-native-american-man-on-death-row-executed-for-2001-murders/', 'https://www.cbsnews.com/news/hurricane-laura-winds-storm-surge-damage-texas-louisiana/', 'https://www.cbsnews.com/news/cbs-news-2020-battleground-tracker-5-things-to-know/', 'https://www.cbsnews.com/news/republican-national-convention-night-3-watch-live/', 'https://www.cbsnews.com/news/republicans-economy-coronavirus-opinion-poll-cbs-news-battleground-tracker/', 'https://www.cbsnews.com/news/democratic-national-convention-takeaways-moments/', 'https://www.cbsnews.com/news/2020-election-mail-in-voting-ballots-results/', 'https://www.cbsnews.com/news/voting-rights-americans-cast-ballot-ease/', 'https://www.cbsnews.com/news/joe-biden-kamala-harris-democratic-convention-opinion-poll-08-16-2020/', 'https://www.cbsnews.com/news/why-mail-in-ballot-rejected-voting-counts/', 'https://www.cbsnews.com/news/what-happens-if-the-president-doesnt-accept-the-election-results/', 'https://www.cbsnews.com/news/election-day-mail-in-voting-ballots-election-week/', 'https://www.cbsnews.com/news/russian-hackers-2016-election-democratic-congressional-campaign-committee-60-minutes-2020-08-23/', 'https://www.cbsnews.com/news/russian-hackers-2016-election-democratic-congressional-campaign-committee-60-minutes-2020-08-23/', 'https://www.cbsnews.com/news/russian-hackers-2016-election-democratic-congressional-campaign-committee-60-minutes-2020-08-23/', 'https://www.cbsnews.com/news/russian-hackers-2016-election-democratic-congressional-campaign-committee-60-minutes-2020-08-23/', 'https://www.cbsnews.com/news/russian-hackers-2016-election-democratic-congressional-campaign-committee-60-minutes-2020-08-23/', 'https://www.cbsnews.com/news/hungary-paying-citizens-to-have-babies-60-minutes-2020-07-19/', 'https://www.cbsnews.com/news/hungary-paying-citizens-to-have-babies-60-minutes-2020-07-19/', 'https://www.cbsnews.com/news/hungary-paying-citizens-to-have-babies-60-minutes-2020-07-19/', 'https://www.cbsnews.com/news/hungary-paying-citizens-to-have-babies-60-minutes-2020-07-19/', 'https://www.cbsnews.com/news/hungary-paying-citizens-to-have-babies-60-minutes-2020-07-19/', 'https://www.cbsnews.com/news/60-minutes-the-history-and-future-of-confederate-monuments-2020-07-12/', 'https://www.cbsnews.com/news/60-minutes-the-history-and-future-of-confederate-monuments-2020-07-12/', 'https://www.cbsnews.com/news/60-minutes-the-history-and-future-of-confederate-monuments-2020-07-12/', 'https://www.cbsnews.com/news/60-minutes-the-history-and-future-of-confederate-monuments-2020-07-12/', 'https://www.cbsnews.com/news/60-minutes-the-history-and-future-of-confederate-monuments-2020-07-12/', 'https://www.cbsnews.com/news/election-voting-2019-20-coronavirus-pandemic-60-minutes-2020-06-28/', 'https://www.cbsnews.com/news/election-voting-2019-20-coronavirus-pandemic-60-minutes-2020-06-28/', 'https://www.cbsnews.com/news/election-voting-2019-20-coronavirus-pandemic-60-minutes-2020-06-28/', 'https://www.cbsnews.com/news/election-voting-2019-20-coronavirus-pandemic-60-minutes-2020-06-28/', 'https://www.cbsnews.com/news/election-voting-2019-20-coronavirus-pandemic-60-minutes-2020-06-28/', 'https://www.cbsnews.com/news/coronavirus-antibody-testing-inaccurate-data-60-minutes-2020-06-28/', 'https://www.cbsnews.com/news/coronavirus-antibody-testing-inaccurate-data-60-minutes-2020-06-28/', 'https://www.cbsnews.com/news/coronavirus-antibody-testing-inaccurate-data-60-minutes-2020-06-28/', 'https://www.cbsnews.com/news/coronavirus-antibody-testing-inaccurate-data-60-minutes-2020-06-28/', 'https://www.cbsnews.com/news/coronavirus-antibody-testing-inaccurate-data-60-minutes-2020-06-28/', 'https://www.cbsnews.com/news/trump-administration-coronavirus-vaccine-researcher-covid-19-cure-60-minutes/', 'https://www.cbsnews.com/news/trump-administration-coronavirus-vaccine-researcher-covid-19-cure-60-minutes/', 'https://www.cbsnews.com/news/trump-administration-coronavirus-vaccine-researcher-covid-19-cure-60-minutes/', 'https://www.cbsnews.com/news/trump-administration-coronavirus-vaccine-researcher-covid-19-cure-60-minutes/', 'https://www.cbsnews.com/news/trump-administration-coronavirus-vaccine-researcher-covid-19-cure-60-minutes/', 'https://www.cbsnews.com/news/the-opioid-epidemic-who-is-to-blame-60-minutes-2020-06-21/', 'https://www.cbsnews.com/news/the-opioid-epidemic-who-is-to-blame-60-minutes-2020-06-21/', 'https://www.cbsnews.com/news/the-opioid-epidemic-who-is-to-blame-60-minutes-2020-06-21/', 'https://www.cbsnews.com/news/the-opioid-epidemic-who-is-to-blame-60-minutes-2020-06-21/', 'https://www.cbsnews.com/news/the-opioid-epidemic-who-is-to-blame-60-minutes-2020-06-21/', 'https://www.cbsnews.com/news/adam-sandler-the-rare-comedian-who-says-his-childhood-was-happy-60-minutes-2020-08-23/', 'https://www.cbsnews.com/news/driverless-trucks-could-disrupt-the-trucking-industry-as-soon-as-2021-60-minutes-2020-08-23/', 'https://www.cbsnews.com/news/russian-hackers-2016-election-democratic-congressional-campaign-committee-60-minutes-2020-08-23/', 'https://www.cbsnews.com/news/inside-the-corruption-allegations-plaguing-malta-60-minutes-2020-08-16/', 'https://www.cbsnews.com/news/elder-fernandez-fort-hood-soldier-body-found-hanging-tree/', 'https://www.cbsnews.com/news/protest-continue-kenosha-wisconsin-jacob-blake-shooting/', 'https://www.cbsnews.com/news/hurricane-laura-winds-storm-surge-damage-texas-louisiana/', 'https://www.cbsnews.com/news/jacob-blake-shooting-rusten-sheskey-kenosha-police-officer/', 'https://www.cbsnews.com/news/yevgeny-vindman-whistleblower-complaint-retaliation-pentagon/', 'https://www.cbsnews.com/news/stimulus-check-catch-up-money-withheld-irs/', 'https://www.cbsnews.com/news/kyle-rittenhouse-kenosha-shooting-protest-suspect-arrested-illinois/', 'https://www.cbsnews.com/news/jacob-blake-shooting-rusten-sheskey-kenosha-police-officer/', 'https://www.cbsnews.com/news/yevgeny-vindman-whistleblower-complaint-retaliation-pentagon/', 'https://www.cbsnews.com/news/hurricane-laura-winds-storm-surge-damage-texas-louisiana/', 'https://www.cbsnews.com/news/minneapolis-unrest-mistaken-reports-police-shooting-black-man-who-actually-shot-himself/', 'https://www.cbsnews.com/news/cbs-news-internship-program/', 'https://www.cbsnews.com/news/cbs-news-associates-program/', 'https://www.cbsnews.com/news/body-mass-index-bmi-measuring-weight-health-risks/', 'https://www.cbsnews.com/news/republican-national-convention-night-3-watch-live/', 'https://www.cbsnews.com/news/nba-playoff-games-postponed-today-players-boycott-bucks-jacob-blake-2020-08-26/', 'https://www.cbsnews.com/news/jacob-blake-shooting-rusten-sheskey-kenosha-police-officer/', 'https://www.cbsnews.com/news/hurricane-laura-winds-storm-surge-damage-texas-louisiana/', 'https://www.cbsnews.com/news/republican-national-convention-night-3-watch-live/', 'https://www.cbsnews.com/news/fbi-10-most-wanted-fugitives-captured-daughters-2008-killings/', 'https://www.cbsnews.com/news/minneapolis-unrest-mistaken-reports-police-shooting-black-man-who-actually-shot-himself/', 'https://www.cbsnews.com/news/jacob-blake-shooting-protests-kenosha-stay-peaceful/', 'https://www.cbsnews.com/news/jacob-blake-shooting-rusten-sheskey-kenosha-police-officer/', 'https://www.cbsnews.com/news/christchurch-new-zealand-mosque-shooter-sentenced-to-life-without-parole-for-killing-51/', 'https://www.cbsnews.com/news/lezmond-mitchell-execution-only-native-american-man-on-death-row-executed-for-2001-murders/', 'https://www.cbsnews.com/news/hurricane-laura-winds-storm-surge-damage-texas-louisiana/', 'https://www.cbsnews.com/news/cbs-news-2020-battleground-tracker-5-things-to-know/', 'https://www.cbsnews.com/news/republican-national-convention-night-3-watch-live/', 'https://www.cbsnews.com/news/republicans-economy-coronavirus-opinion-poll-cbs-news-battleground-tracker/', 'https://www.cbsnews.com/news/democratic-national-convention-takeaways-moments/', 'https://www.cbsnews.com/news/2020-election-mail-in-voting-ballots-results/', 'https://www.cbsnews.com/news/voting-rights-americans-cast-ballot-ease/', 'https://www.cbsnews.com/news/joe-biden-kamala-harris-democratic-convention-opinion-poll-08-16-2020/', 'https://www.cbsnews.com/news/why-mail-in-ballot-rejected-voting-counts/', 'https://www.cbsnews.com/news/what-happens-if-the-president-doesnt-accept-the-election-results/', 'https://www.cbsnews.com/news/election-day-mail-in-voting-ballots-election-week/', 'https://www.cbsnews.com/news/merit-systems-protection-board-appeals-backlog-60-minutes-2020-06-14/', 'https://www.cbsnews.com/news/merit-systems-protection-board-appeals-backlog-60-minutes-2020-06-14/', 'https://www.cbsnews.com/news/merit-systems-protection-board-appeals-backlog-60-minutes-2020-06-14/', 'https://www.cbsnews.com/news/merit-systems-protection-board-appeals-backlog-60-minutes-2020-06-14/', 'https://www.cbsnews.com/news/merit-systems-protection-board-appeals-backlog-60-minutes-2020-06-14/', 'https://www.cbsnews.com/news/icymi-60-minutes-george-floyd-protests-coronavirus-pandemic-reopen-oklahoma-failure-to-protect-2020-06-08/', 'https://www.cbsnews.com/news/icymi-60-minutes-george-floyd-protests-coronavirus-pandemic-reopen-oklahoma-failure-to-protect-2020-06-08/', 'https://www.cbsnews.com/news/icymi-60-minutes-george-floyd-protests-coronavirus-pandemic-reopen-oklahoma-failure-to-protect-2020-06-08/', 'https://www.cbsnews.com/news/icymi-60-minutes-george-floyd-protests-coronavirus-pandemic-reopen-oklahoma-failure-to-protect-2020-06-08/', 'https://www.cbsnews.com/news/icymi-60-minutes-george-floyd-protests-coronavirus-pandemic-reopen-oklahoma-failure-to-protect-2020-06-08/', 'https://www.cbsnews.com/news/san-antonio-coronavirus-reopening-60-minutes-2020-06-07/', 'https://www.cbsnews.com/news/san-antonio-coronavirus-reopening-60-minutes-2020-06-07/', 'https://www.cbsnews.com/news/san-antonio-coronavirus-reopening-60-minutes-2020-06-07/', 'https://www.cbsnews.com/news/san-antonio-coronavirus-reopening-60-minutes-2020-06-07/', 'https://www.cbsnews.com/news/san-antonio-coronavirus-reopening-60-minutes-2020-06-07/', 'https://www.cbsnews.com/news/naacp-sherrilyn-ifill-george-floyd-donald-trump-response-60-minutes-2020-06-07/', 'https://www.cbsnews.com/news/naacp-sherrilyn-ifill-george-floyd-donald-trump-response-60-minutes-2020-06-07/', 'https://www.cbsnews.com/news/naacp-sherrilyn-ifill-george-floyd-donald-trump-response-60-minutes-2020-06-07/', 'https://www.cbsnews.com/news/naacp-sherrilyn-ifill-george-floyd-donald-trump-response-60-minutes-2020-06-07/', 'https://www.cbsnews.com/news/naacp-sherrilyn-ifill-george-floyd-donald-trump-response-60-minutes-2020-06-07/', 'https://www.cbsnews.com/news/adam-sandler-the-rare-comedian-who-says-his-childhood-was-happy-60-minutes-2020-08-23/', 'https://www.cbsnews.com/news/driverless-trucks-could-disrupt-the-trucking-industry-as-soon-as-2021-60-minutes-2020-08-23/', 'https://www.cbsnews.com/news/russian-hackers-2016-election-democratic-congressional-campaign-committee-60-minutes-2020-08-23/', 'https://www.cbsnews.com/news/inside-the-corruption-allegations-plaguing-malta-60-minutes-2020-08-16/', 'https://www.cbsnews.com/news/elder-fernandez-fort-hood-soldier-body-found-hanging-tree/', 'https://www.cbsnews.com/news/protest-continue-kenosha-wisconsin-jacob-blake-shooting/', 'https://www.cbsnews.com/news/hurricane-laura-winds-storm-surge-damage-texas-louisiana/', 'https://www.cbsnews.com/news/jacob-blake-shooting-rusten-sheskey-kenosha-police-officer/', 'https://www.cbsnews.com/news/yevgeny-vindman-whistleblower-complaint-retaliation-pentagon/', 'https://www.cbsnews.com/news/stimulus-check-catch-up-money-withheld-irs/', 'https://www.cbsnews.com/news/kyle-rittenhouse-kenosha-shooting-protest-suspect-arrested-illinois/', 'https://www.cbsnews.com/news/jacob-blake-shooting-rusten-sheskey-kenosha-police-officer/', 'https://www.cbsnews.com/news/yevgeny-vindman-whistleblower-complaint-retaliation-pentagon/', 'https://www.cbsnews.com/news/hurricane-laura-winds-storm-surge-damage-texas-louisiana/', 'https://www.cbsnews.com/news/minneapolis-unrest-mistaken-reports-police-shooting-black-man-who-actually-shot-himself/', 'https://www.cbsnews.com/news/cbs-news-internship-program/', 'https://www.cbsnews.com/news/cbs-news-associates-program/', 'https://www.cbsnews.com/news/body-mass-index-bmi-measuring-weight-health-risks/', 'https://www.cbsnews.com/news/republican-national-convention-night-3-watch-live/', 'https://www.cbsnews.com/news/nba-playoff-games-postponed-today-players-boycott-bucks-jacob-blake-2020-08-26/', 'https://www.cbsnews.com/news/jacob-blake-shooting-rusten-sheskey-kenosha-police-officer/', 'https://www.cbsnews.com/news/hurricane-laura-winds-storm-surge-damage-texas-louisiana/', 'https://www.cbsnews.com/news/republican-national-convention-night-3-watch-live/', 'https://www.cbsnews.com/news/fbi-10-most-wanted-fugitives-captured-daughters-2008-killings/', 'https://www.cbsnews.com/news/minneapolis-unrest-mistaken-reports-police-shooting-black-man-who-actually-shot-himself/', 'https://www.cbsnews.com/news/jacob-blake-shooting-protests-kenosha-stay-peaceful/', 'https://www.cbsnews.com/news/jacob-blake-shooting-rusten-sheskey-kenosha-police-officer/', 'https://www.cbsnews.com/news/christchurch-new-zealand-mosque-shooter-sentenced-to-life-without-parole-for-killing-51/', 'https://www.cbsnews.com/news/lezmond-mitchell-execution-only-native-american-man-on-death-row-executed-for-2001-murders/', 'https://www.cbsnews.com/news/hurricane-laura-winds-storm-surge-damage-texas-louisiana/', 'https://www.cbsnews.com/news/cbs-news-2020-battleground-tracker-5-things-to-know/', 'https://www.cbsnews.com/news/republican-national-convention-night-3-watch-live/', 'https://www.cbsnews.com/news/republicans-economy-coronavirus-opinion-poll-cbs-news-battleground-tracker/', 'https://www.cbsnews.com/news/democratic-national-convention-takeaways-moments/', 'https://www.cbsnews.com/news/2020-election-mail-in-voting-ballots-results/', 'https://www.cbsnews.com/news/voting-rights-americans-cast-ballot-ease/', 'https://www.cbsnews.com/news/joe-biden-kamala-harris-democratic-convention-opinion-poll-08-16-2020/', 'https://www.cbsnews.com/news/why-mail-in-ballot-rejected-voting-counts/', 'https://www.cbsnews.com/news/what-happens-if-the-president-doesnt-accept-the-election-results/', 'https://www.cbsnews.com/news/election-day-mail-in-voting-ballots-election-week/', 'https://www.cbsnews.com/news/russian-hackers-2016-election-democratic-congressional-campaign-committee-60-minutes-2020-08-23/', 'https://www.cbsnews.com/news/russian-hackers-2016-election-democratic-congressional-campaign-committee-60-minutes-2020-08-23/', 'https://www.cbsnews.com/news/russian-hackers-2016-election-democratic-congressional-campaign-committee-60-minutes-2020-08-23/', 'https://www.cbsnews.com/news/russian-hackers-2016-election-democratic-congressional-campaign-committee-60-minutes-2020-08-23/', 'https://www.cbsnews.com/news/russian-hackers-2016-election-democratic-congressional-campaign-committee-60-minutes-2020-08-23/', 'https://www.cbsnews.com/news/hungary-paying-citizens-to-have-babies-60-minutes-2020-07-19/', 'https://www.cbsnews.com/news/hungary-paying-citizens-to-have-babies-60-minutes-2020-07-19/', 'https://www.cbsnews.com/news/hungary-paying-citizens-to-have-babies-60-minutes-2020-07-19/', 'https://www.cbsnews.com/news/hungary-paying-citizens-to-have-babies-60-minutes-2020-07-19/', 'https://www.cbsnews.com/news/hungary-paying-citizens-to-have-babies-60-minutes-2020-07-19/', 'https://www.cbsnews.com/news/60-minutes-the-history-and-future-of-confederate-monuments-2020-07-12/', 'https://www.cbsnews.com/news/60-minutes-the-history-and-future-of-confederate-monuments-2020-07-12/', 'https://www.cbsnews.com/news/60-minutes-the-history-and-future-of-confederate-monuments-2020-07-12/', 'https://www.cbsnews.com/news/60-minutes-the-history-and-future-of-confederate-monuments-2020-07-12/', 'https://www.cbsnews.com/news/60-minutes-the-history-and-future-of-confederate-monuments-2020-07-12/', 'https://www.cbsnews.com/news/election-voting-2019-20-coronavirus-pandemic-60-minutes-2020-06-28/', 'https://www.cbsnews.com/news/election-voting-2019-20-coronavirus-pandemic-60-minutes-2020-06-28/', 'https://www.cbsnews.com/news/election-voting-2019-20-coronavirus-pandemic-60-minutes-2020-06-28/', 'https://www.cbsnews.com/news/election-voting-2019-20-coronavirus-pandemic-60-minutes-2020-06-28/', 'https://www.cbsnews.com/news/election-voting-2019-20-coronavirus-pandemic-60-minutes-2020-06-28/', 'https://www.cbsnews.com/news/coronavirus-antibody-testing-inaccurate-data-60-minutes-2020-06-28/', 'https://www.cbsnews.com/news/coronavirus-antibody-testing-inaccurate-data-60-minutes-2020-06-28/', 'https://www.cbsnews.com/news/coronavirus-antibody-testing-inaccurate-data-60-minutes-2020-06-28/', 'https://www.cbsnews.com/news/coronavirus-antibody-testing-inaccurate-data-60-minutes-2020-06-28/', 'https://www.cbsnews.com/news/coronavirus-antibody-testing-inaccurate-data-60-minutes-2020-06-28/', 'https://www.cbsnews.com/news/trump-administration-coronavirus-vaccine-researcher-covid-19-cure-60-minutes/', 'https://www.cbsnews.com/news/trump-administration-coronavirus-vaccine-researcher-covid-19-cure-60-minutes/', 'https://www.cbsnews.com/news/trump-administration-coronavirus-vaccine-researcher-covid-19-cure-60-minutes/', 'https://www.cbsnews.com/news/trump-administration-coronavirus-vaccine-researcher-covid-19-cure-60-minutes/', 'https://www.cbsnews.com/news/trump-administration-coronavirus-vaccine-researcher-covid-19-cure-60-minutes/', 'https://www.cbsnews.com/news/the-opioid-epidemic-who-is-to-blame-60-minutes-2020-06-21/', 'https://www.cbsnews.com/news/the-opioid-epidemic-who-is-to-blame-60-minutes-2020-06-21/', 'https://www.cbsnews.com/news/the-opioid-epidemic-who-is-to-blame-60-minutes-2020-06-21/', 'https://www.cbsnews.com/news/the-opioid-epidemic-who-is-to-blame-60-minutes-2020-06-21/', 'https://www.cbsnews.com/news/the-opioid-epidemic-who-is-to-blame-60-minutes-2020-06-21/', 'https://www.cbsnews.com/news/adam-sandler-the-rare-comedian-who-says-his-childhood-was-happy-60-minutes-2020-08-23/', 'https://www.cbsnews.com/news/driverless-trucks-could-disrupt-the-trucking-industry-as-soon-as-2021-60-minutes-2020-08-23/', 'https://www.cbsnews.com/news/russian-hackers-2016-election-democratic-congressional-campaign-committee-60-minutes-2020-08-23/', 'https://www.cbsnews.com/news/inside-the-corruption-allegations-plaguing-malta-60-minutes-2020-08-16/', 'https://www.cbsnews.com/news/elder-fernandez-fort-hood-soldier-body-found-hanging-tree/', 'https://www.cbsnews.com/news/protest-continue-kenosha-wisconsin-jacob-blake-shooting/', 'https://www.cbsnews.com/news/hurricane-laura-winds-storm-surge-damage-texas-louisiana/', 'https://www.cbsnews.com/news/jacob-blake-shooting-rusten-sheskey-kenosha-police-officer/', 'https://www.cbsnews.com/news/yevgeny-vindman-whistleblower-complaint-retaliation-pentagon/', 'https://www.cbsnews.com/news/stimulus-check-catch-up-money-withheld-irs/', 'https://www.cbsnews.com/news/kyle-rittenhouse-kenosha-shooting-protest-suspect-arrested-illinois/', 'https://www.cbsnews.com/news/jacob-blake-shooting-rusten-sheskey-kenosha-police-officer/', 'https://www.cbsnews.com/news/yevgeny-vindman-whistleblower-complaint-retaliation-pentagon/', 'https://www.cbsnews.com/news/hurricane-laura-winds-storm-surge-damage-texas-louisiana/', 'https://www.cbsnews.com/news/minneapolis-unrest-mistaken-reports-police-shooting-black-man-who-actually-shot-himself/', 'https://www.cbsnews.com/news/cbs-news-internship-program/', 'https://www.cbsnews.com/news/cbs-news-associates-program/']\n"
    }
   ],
   "source": [
    "url=\"https://www.cbsnews.com/\"\n",
    "options =webdriver.ChromeOptions()\n",
    "options.headless=False\n",
    "prefs={\"profile.default_content_setting_values.notifications\" :2}\n",
    "options.add_experimental_option(\"prefs\",prefs)\n",
    "driver = webdriver.Chrome('C:/chromedriver/chromedriver.exe')\n",
    "\n",
    "driver.get(url)\n",
    "time.sleep(5)\n",
    "\n",
    "# click loop button\n",
    "button = driver.find_elements_by_xpath('/html/body/header/div/nav/ul/li[7]/a')[0]\n",
    "button.click()\n",
    "driver.find_element_by_xpath('//*[@id=\"site-nav__search-field\"]').send_keys('Trump',Keys.ENTER)\n",
    "\n",
    "time.sleep(10)\n",
    "element_to_hover_over = driver.find_element_by_xpath('//*[@id=\"mantle_skin\"]/div[2]/div/div/div/div/div[1]/div[1]/ul/li[2]/a')\n",
    "hover = ActionChains(driver).move_to_element(element_to_hover_over)\n",
    "hover.perform()\n",
    "\n",
    "dateRange =\"60 Minutes\"\n",
    "\n",
    "if (dateRange==\"60 Minutes\"):  \n",
    "    time.sleep(10)\n",
    "    button = driver.find_elements_by_xpath('/html/body/div[4]/div[2]/div[2]/div/div/div/div/div[1]/div[1]/ul/li[2]/div/ul/li[2]/a')[0]\n",
    "    button.click()\n",
    "\n",
    "if ( dateRange== \"48 Hours\" ):  \n",
    "    time.sleep(10)\n",
    "    button = driver.find_elements_by_xpath('/html/body/div[4]/div[2]/div[2]/div/div/div/div/div[1]/div[1]/ul/li[2]/div/ul/li[3]/a')[0]\n",
    "    button.click()\n",
    "\n",
    "if ( dateRange==\"CBS This Morning\" ):\n",
    "    time.sleep(10)\n",
    "    button = driver.find_elements_by_xpath('/html/body/div[4]/div[2]/div[2]/div/div/div/div/div[1]/div[1]/ul/li[2]/div/ul/li[4]/a')[0]\n",
    "    button.click()\n",
    "\n",
    "if ( dateRange==\"CBS This Morning\" ):\n",
    "    time.sleep(10)\n",
    "    button = driver.find_elements_by_xpath('/html/body/div[4]/div[2]/div[2]/div/div/div/div/div[1]/div[1]/ul/li[2]/div/ul/li[5]/a')[0]\n",
    "    button.click()\n",
    "\n",
    "if (dateRange==\"Sunday Morning\"):\n",
    "    time.sleep(10)\n",
    "    button = driver.find_elements_by_xpath('/html/body/div[4]/div[2]/div[2]/div/div/div/div/div[1]/div[1]/ul/li[2]/div/ul/li[6]/a')[0]\n",
    "    button.click()\n",
    "\n",
    "i=10\n",
    "liste=[]\n",
    "while i<= 30 :\n",
    "    elems = driver.find_elements_by_xpath(\"//a[@href]\")\n",
    "    for elem in elems:\n",
    "        if (search(\"www.cbsnews.com/news/\", elem.get_attribute(\"href\"))):\n",
    "            liste.append(elem.get_attribute(\"href\"))\n",
    "\n",
    "    # Click next page\n",
    "    driver.find_element_by_xpath('/html/body/div[4]/div[2]/div[2]/div/div/div/div/div[1]/div[3]/a/div').click()\n",
    "    i+=10\n",
    "print(liste)    "
   ]
  },
  {
   "cell_type": "markdown",
   "metadata": {},
   "source": [
    "# 3. Bbc"
   ]
  },
  {
   "cell_type": "code",
   "execution_count": 8,
   "metadata": {
    "tags": []
   },
   "outputs": [
    {
     "output_type": "stream",
     "name": "stdout",
     "text": "AAAAAAAAAAAAAAAAAAAAAAAAAAAAAAAAAAAAAAAAAAAAAAAAAAAAAAAAAAAAAAAAAAAAAAAAAAAAAAAAAAAAAAAAAAAAAAAAAAAAAAAAAAAAAAAAAAAAAAAA\nAAAAAAAAAAAAAAAAAAAAAAAAAAAAAAAAAAAAAAAAAAAAAAAAAAAAAAAAAAAAAAAAAAAAAAAAAAAAAAAAAAAAAAAAAAAAAAAAAAAAAAAAAAAAAAAAAAAAAAAA\nAAAAAAAAAAAAAAAAAAAAAAAAAAAAAAAAAAAAAAAAAAAAAAAAAAAAAAAAAAAAAAAAAAAAAAAAAAAAAAAAAAAAAAAAAAAAAAAAAAAAAAAAAAAAAAAAAAAAAAAA\nAAAAAAAAAAAAAAAAAAAAAAAAAAAAAAAAAAAAAAAAAAAAAAAAAAAAAAAAAAAAAAAAAAAAAAAAAAAAAAAAAAAAAAAAAAAAAAAAAAAAAAAAAAAAAAAAAAAAAAAA\nAAAAAAAAAAAAAAAAAAAAAAAAAAAAAAAAAAAAAAAAAAAAAAAAAAAAAAAAAAAAAAAAAAAAAAAAAAAAAAAAAAAAAAAAAAAAAAAAAAAAAAAAAAAAAAAAAAAAAAAA\nAAAAAAAAAAAAAAAAAAAAAAAAAAAAAAAAAAAAAAAAAAAAAAAAAAAAAAAAAAAAAAAAAAAAAAAAAAAAAAAAAAAAAAAAAAAAAAAAAAAAAAAAAAAAAAAAAAAAAAAA\n"
    }
   ],
   "source": [
    "url=\"https://www.bbc.com/\"\n",
    "options =webdriver.ChromeOptions()\n",
    "options.headless=False\n",
    "prefs={\"profile.default_content_setting_values.notifications\" :2}\n",
    "options.add_experimental_option(\"prefs\",prefs)\n",
    "driver = webdriver.Chrome('C:/chromedriver/chromedriver.exe')\n",
    "\n",
    "driver.get(url)\n",
    "time.sleep(5)\n",
    "\n",
    "# click loop button\n",
    "driver.find_element_by_xpath('//*[@id=\"orb-search-q\"]').send_keys('Trump',Keys.ENTER)\n",
    "\n",
    "i = 0\n",
    "while i <=5 :\n",
    "    time.sleep\n",
    "    driver.find_element_by_xpath('//*[@id=\"main-content\"]/div[4]/div/div/nav/div[3]/div/a/div').click()\n",
    "    print('AAAAAAAAAAAAAAAAAAAAAAAAAAAAAAAAAAAAAAAAAAAAAAAAAAAAAAAAAAAAAAAAAAAAAAAAAAAAAAAAAAAAAAAAAAAAAAAAAAAAAAAAAAAAAAAAAAAAAAAA')\n",
    "    i+=1"
   ]
  },
  {
   "cell_type": "markdown",
   "metadata": {},
   "source": [
    "# 4. Fox News"
   ]
  },
  {
   "cell_type": "code",
   "execution_count": 61,
   "metadata": {},
   "outputs": [
    {
     "output_type": "error",
     "ename": "TypeError",
     "evalue": "'WebElement' object does not support indexing",
     "traceback": [
      "\u001b[1;31m---------------------------------------------------------------------------\u001b[0m",
      "\u001b[1;31mTypeError\u001b[0m                                 Traceback (most recent call last)",
      "\u001b[1;32m<ipython-input-61-588c44b80600>\u001b[0m in \u001b[0;36m<module>\u001b[1;34m\u001b[0m\n\u001b[0;32m     11\u001b[0m \u001b[1;33m\u001b[0m\u001b[0m\n\u001b[0;32m     12\u001b[0m \u001b[1;31m# click loop button\u001b[0m\u001b[1;33m\u001b[0m\u001b[1;33m\u001b[0m\u001b[1;33m\u001b[0m\u001b[0m\n\u001b[1;32m---> 13\u001b[1;33m \u001b[0mbutton\u001b[0m\u001b[1;33m=\u001b[0m\u001b[0mdriver\u001b[0m\u001b[1;33m.\u001b[0m\u001b[0mfind_element_by_xpath\u001b[0m\u001b[1;33m(\u001b[0m\u001b[1;34m'/html/body/div[1]/header/div[2]/div/div[2]/div[1]/a'\u001b[0m\u001b[1;33m)\u001b[0m\u001b[1;33m[\u001b[0m\u001b[1;36m0\u001b[0m\u001b[1;33m]\u001b[0m\u001b[1;33m\u001b[0m\u001b[1;33m\u001b[0m\u001b[0m\n\u001b[0m\u001b[0;32m     14\u001b[0m \u001b[0mbutton\u001b[0m\u001b[1;33m.\u001b[0m\u001b[0mclick\u001b[0m\u001b[1;33m(\u001b[0m\u001b[1;33m)\u001b[0m\u001b[1;33m\u001b[0m\u001b[1;33m\u001b[0m\u001b[0m\n\u001b[0;32m     15\u001b[0m \u001b[1;33m\u001b[0m\u001b[0m\n",
      "\u001b[1;31mTypeError\u001b[0m: 'WebElement' object does not support indexing"
     ]
    }
   ],
   "source": [
    "url=\"https://www.foxnews.com/\"\n",
    "options =webdriver.ChromeOptions()\n",
    "options.headless=False\n",
    "prefs={\"profile.default_content_setting_values.notifications\" :2}\n",
    "options.add_experimental_option(\"prefs\",prefs)\n",
    "driver = webdriver.Chrome('C:/chromedriver/chromedriver.exe')\n",
    "\n",
    "driver.get(url)\n",
    "\n",
    "\n",
    "\n",
    "# click loop button\n",
    "button=driver.find_element_by_xpath('/html/body/div[1]/header/div[2]/div/div[2]/div[1]/a')[0]\n",
    "button.click()\n",
    "\n",
    "\n",
    "time.sleep(30)\n",
    "driver.find_element_by_xpath('//*[@id=\"wrapper\"]/header/div[4]/div[1]/div/div/form/fieldset/input[1]').send_keys('Trump',Keys.ENTER)\n",
    "# Load more button\n",
    "i = 0\n",
    "while i <=5 :\n",
    "    driver.find_element_by_xpath('//*[@id=\"wrapper\"]/div[2]/div[2]/div/div[3]/div[2]')[0]\n",
    "    button.click()\n",
    "    i+=1\n"
   ]
  },
  {
   "cell_type": "code",
   "execution_count": null,
   "metadata": {},
   "outputs": [],
   "source": []
  },
  {
   "cell_type": "code",
   "execution_count": null,
   "metadata": {},
   "outputs": [],
   "source": []
  },
  {
   "cell_type": "code",
   "execution_count": null,
   "metadata": {},
   "outputs": [],
   "source": []
  },
  {
   "cell_type": "code",
   "execution_count": null,
   "metadata": {},
   "outputs": [],
   "source": []
  },
  {
   "cell_type": "code",
   "execution_count": null,
   "metadata": {},
   "outputs": [],
   "source": []
  },
  {
   "cell_type": "code",
   "execution_count": null,
   "metadata": {},
   "outputs": [],
   "source": []
  },
  {
   "cell_type": "code",
   "execution_count": null,
   "metadata": {},
   "outputs": [],
   "source": []
  },
  {
   "cell_type": "code",
   "execution_count": null,
   "metadata": {},
   "outputs": [],
   "source": []
  },
  {
   "cell_type": "markdown",
   "metadata": {},
   "source": [
    "# <b> Intégration </b>"
   ]
  },
  {
   "cell_type": "code",
   "execution_count": 33,
   "metadata": {
    "tags": [
     "outputPrepend"
    ]
   },
   "outputs": [
    {
     "output_type": "stream",
     "name": "stdout",
     "text": "s/jacob-blake-shooting-protests-kenosha-stay-peaceful/', 'https://www.cbsnews.com/news/jacob-blake-shooting-rusten-sheskey-kenosha-police-officer/', 'https://www.cbsnews.com/news/christchurch-new-zealand-mosque-shooter-sentenced-to-life-without-parole-for-killing-51/', 'https://www.cbsnews.com/news/lezmond-mitchell-execution-only-native-american-man-on-death-row-executed-for-2001-murders/', 'https://www.cbsnews.com/news/hurricane-laura-winds-storm-surge-damage-texas-louisiana/', 'https://www.cbsnews.com/news/cbs-news-2020-battleground-tracker-5-things-to-know/', 'https://www.cbsnews.com/news/republican-national-convention-night-3-watch-live/', 'https://www.cbsnews.com/news/republicans-economy-coronavirus-opinion-poll-cbs-news-battleground-tracker/', 'https://www.cbsnews.com/news/democratic-national-convention-takeaways-moments/', 'https://www.cbsnews.com/news/2020-election-mail-in-voting-ballots-results/', 'https://www.cbsnews.com/news/voting-rights-americans-cast-ballot-ease/', 'https://www.cbsnews.com/news/joe-biden-kamala-harris-democratic-convention-opinion-poll-08-16-2020/', 'https://www.cbsnews.com/news/why-mail-in-ballot-rejected-voting-counts/', 'https://www.cbsnews.com/news/what-happens-if-the-president-doesnt-accept-the-election-results/', 'https://www.cbsnews.com/news/election-day-mail-in-voting-ballots-election-week/', 'https://www.cbsnews.com/news/russian-hackers-2016-election-democratic-congressional-campaign-committee-60-minutes-2020-08-23/', 'https://www.cbsnews.com/news/russian-hackers-2016-election-democratic-congressional-campaign-committee-60-minutes-2020-08-23/', 'https://www.cbsnews.com/news/russian-hackers-2016-election-democratic-congressional-campaign-committee-60-minutes-2020-08-23/', 'https://www.cbsnews.com/news/russian-hackers-2016-election-democratic-congressional-campaign-committee-60-minutes-2020-08-23/', 'https://www.cbsnews.com/news/russian-hackers-2016-election-democratic-congressional-campaign-committee-60-minutes-2020-08-23/', 'https://www.cbsnews.com/news/hungary-paying-citizens-to-have-babies-60-minutes-2020-07-19/', 'https://www.cbsnews.com/news/hungary-paying-citizens-to-have-babies-60-minutes-2020-07-19/', 'https://www.cbsnews.com/news/hungary-paying-citizens-to-have-babies-60-minutes-2020-07-19/', 'https://www.cbsnews.com/news/hungary-paying-citizens-to-have-babies-60-minutes-2020-07-19/', 'https://www.cbsnews.com/news/hungary-paying-citizens-to-have-babies-60-minutes-2020-07-19/', 'https://www.cbsnews.com/news/60-minutes-the-history-and-future-of-confederate-monuments-2020-07-12/', 'https://www.cbsnews.com/news/60-minutes-the-history-and-future-of-confederate-monuments-2020-07-12/', 'https://www.cbsnews.com/news/60-minutes-the-history-and-future-of-confederate-monuments-2020-07-12/', 'https://www.cbsnews.com/news/60-minutes-the-history-and-future-of-confederate-monuments-2020-07-12/', 'https://www.cbsnews.com/news/60-minutes-the-history-and-future-of-confederate-monuments-2020-07-12/', 'https://www.cbsnews.com/news/election-voting-2019-20-coronavirus-pandemic-60-minutes-2020-06-28/', 'https://www.cbsnews.com/news/election-voting-2019-20-coronavirus-pandemic-60-minutes-2020-06-28/', 'https://www.cbsnews.com/news/election-voting-2019-20-coronavirus-pandemic-60-minutes-2020-06-28/', 'https://www.cbsnews.com/news/election-voting-2019-20-coronavirus-pandemic-60-minutes-2020-06-28/', 'https://www.cbsnews.com/news/election-voting-2019-20-coronavirus-pandemic-60-minutes-2020-06-28/', 'https://www.cbsnews.com/news/coronavirus-antibody-testing-inaccurate-data-60-minutes-2020-06-28/', 'https://www.cbsnews.com/news/coronavirus-antibody-testing-inaccurate-data-60-minutes-2020-06-28/', 'https://www.cbsnews.com/news/coronavirus-antibody-testing-inaccurate-data-60-minutes-2020-06-28/', 'https://www.cbsnews.com/news/coronavirus-antibody-testing-inaccurate-data-60-minutes-2020-06-28/', 'https://www.cbsnews.com/news/coronavirus-antibody-testing-inaccurate-data-60-minutes-2020-06-28/', 'https://www.cbsnews.com/news/trump-administration-coronavirus-vaccine-researcher-covid-19-cure-60-minutes/', 'https://www.cbsnews.com/news/trump-administration-coronavirus-vaccine-researcher-covid-19-cure-60-minutes/', 'https://www.cbsnews.com/news/trump-administration-coronavirus-vaccine-researcher-covid-19-cure-60-minutes/', 'https://www.cbsnews.com/news/trump-administration-coronavirus-vaccine-researcher-covid-19-cure-60-minutes/', 'https://www.cbsnews.com/news/trump-administration-coronavirus-vaccine-researcher-covid-19-cure-60-minutes/', 'https://www.cbsnews.com/news/the-opioid-epidemic-who-is-to-blame-60-minutes-2020-06-21/', 'https://www.cbsnews.com/news/the-opioid-epidemic-who-is-to-blame-60-minutes-2020-06-21/', 'https://www.cbsnews.com/news/the-opioid-epidemic-who-is-to-blame-60-minutes-2020-06-21/', 'https://www.cbsnews.com/news/the-opioid-epidemic-who-is-to-blame-60-minutes-2020-06-21/', 'https://www.cbsnews.com/news/the-opioid-epidemic-who-is-to-blame-60-minutes-2020-06-21/', 'https://www.cbsnews.com/news/adam-sandler-the-rare-comedian-who-says-his-childhood-was-happy-60-minutes-2020-08-23/', 'https://www.cbsnews.com/news/driverless-trucks-could-disrupt-the-trucking-industry-as-soon-as-2021-60-minutes-2020-08-23/', 'https://www.cbsnews.com/news/russian-hackers-2016-election-democratic-congressional-campaign-committee-60-minutes-2020-08-23/', 'https://www.cbsnews.com/news/inside-the-corruption-allegations-plaguing-malta-60-minutes-2020-08-16/', 'https://www.cbsnews.com/news/elder-fernandez-fort-hood-soldier-body-found-hanging-tree/', 'https://www.cbsnews.com/news/protest-continue-kenosha-wisconsin-jacob-blake-shooting/', 'https://www.cbsnews.com/news/hurricane-laura-winds-storm-surge-damage-texas-louisiana/', 'https://www.cbsnews.com/news/jacob-blake-shooting-rusten-sheskey-kenosha-police-officer/', 'https://www.cbsnews.com/news/yevgeny-vindman-whistleblower-complaint-retaliation-pentagon/', 'https://www.cbsnews.com/news/stimulus-check-catch-up-money-withheld-irs/', 'https://www.cbsnews.com/news/kyle-rittenhouse-kenosha-shooting-protest-suspect-arrested-illinois/', 'https://www.cbsnews.com/news/jacob-blake-shooting-rusten-sheskey-kenosha-police-officer/', 'https://www.cbsnews.com/news/yevgeny-vindman-whistleblower-complaint-retaliation-pentagon/', 'https://www.cbsnews.com/news/hurricane-laura-winds-storm-surge-damage-texas-louisiana/', 'https://www.cbsnews.com/news/minneapolis-unrest-mistaken-reports-police-shooting-black-man-who-actually-shot-himself/', 'https://www.cbsnews.com/news/cbs-news-internship-program/', 'https://www.cbsnews.com/news/cbs-news-associates-program/', 'https://www.cbsnews.com/news/body-mass-index-bmi-measuring-weight-health-risks/', 'https://www.cbsnews.com/news/republican-national-convention-night-3-watch-live/', 'https://www.cbsnews.com/news/nba-playoff-games-postponed-today-players-boycott-bucks-jacob-blake-2020-08-26/', 'https://www.cbsnews.com/news/jacob-blake-shooting-rusten-sheskey-kenosha-police-officer/', 'https://www.cbsnews.com/news/hurricane-laura-winds-storm-surge-damage-texas-louisiana/', 'https://www.cbsnews.com/news/republican-national-convention-night-3-watch-live/', 'https://www.cbsnews.com/news/fbi-10-most-wanted-fugitives-captured-daughters-2008-killings/', 'https://www.cbsnews.com/news/minneapolis-unrest-mistaken-reports-police-shooting-black-man-who-actually-shot-himself/', 'https://www.cbsnews.com/news/jacob-blake-shooting-protests-kenosha-stay-peaceful/', 'https://www.cbsnews.com/news/jacob-blake-shooting-rusten-sheskey-kenosha-police-officer/', 'https://www.cbsnews.com/news/christchurch-new-zealand-mosque-shooter-sentenced-to-life-without-parole-for-killing-51/', 'https://www.cbsnews.com/news/lezmond-mitchell-execution-only-native-american-man-on-death-row-executed-for-2001-murders/', 'https://www.cbsnews.com/news/hurricane-laura-winds-storm-surge-damage-texas-louisiana/', 'https://www.cbsnews.com/news/cbs-news-2020-battleground-tracker-5-things-to-know/', 'https://www.cbsnews.com/news/republican-national-convention-night-3-watch-live/', 'https://www.cbsnews.com/news/republicans-economy-coronavirus-opinion-poll-cbs-news-battleground-tracker/', 'https://www.cbsnews.com/news/democratic-national-convention-takeaways-moments/', 'https://www.cbsnews.com/news/2020-election-mail-in-voting-ballots-results/', 'https://www.cbsnews.com/news/voting-rights-americans-cast-ballot-ease/', 'https://www.cbsnews.com/news/joe-biden-kamala-harris-democratic-convention-opinion-poll-08-16-2020/', 'https://www.cbsnews.com/news/why-mail-in-ballot-rejected-voting-counts/', 'https://www.cbsnews.com/news/what-happens-if-the-president-doesnt-accept-the-election-results/', 'https://www.cbsnews.com/news/election-day-mail-in-voting-ballots-election-week/', 'https://www.cbsnews.com/news/merit-systems-protection-board-appeals-backlog-60-minutes-2020-06-14/', 'https://www.cbsnews.com/news/merit-systems-protection-board-appeals-backlog-60-minutes-2020-06-14/', 'https://www.cbsnews.com/news/merit-systems-protection-board-appeals-backlog-60-minutes-2020-06-14/', 'https://www.cbsnews.com/news/merit-systems-protection-board-appeals-backlog-60-minutes-2020-06-14/', 'https://www.cbsnews.com/news/merit-systems-protection-board-appeals-backlog-60-minutes-2020-06-14/', 'https://www.cbsnews.com/news/icymi-60-minutes-george-floyd-protests-coronavirus-pandemic-reopen-oklahoma-failure-to-protect-2020-06-08/', 'https://www.cbsnews.com/news/icymi-60-minutes-george-floyd-protests-coronavirus-pandemic-reopen-oklahoma-failure-to-protect-2020-06-08/', 'https://www.cbsnews.com/news/icymi-60-minutes-george-floyd-protests-coronavirus-pandemic-reopen-oklahoma-failure-to-protect-2020-06-08/', 'https://www.cbsnews.com/news/icymi-60-minutes-george-floyd-protests-coronavirus-pandemic-reopen-oklahoma-failure-to-protect-2020-06-08/', 'https://www.cbsnews.com/news/icymi-60-minutes-george-floyd-protests-coronavirus-pandemic-reopen-oklahoma-failure-to-protect-2020-06-08/', 'https://www.cbsnews.com/news/san-antonio-coronavirus-reopening-60-minutes-2020-06-07/', 'https://www.cbsnews.com/news/san-antonio-coronavirus-reopening-60-minutes-2020-06-07/', 'https://www.cbsnews.com/news/san-antonio-coronavirus-reopening-60-minutes-2020-06-07/', 'https://www.cbsnews.com/news/san-antonio-coronavirus-reopening-60-minutes-2020-06-07/', 'https://www.cbsnews.com/news/san-antonio-coronavirus-reopening-60-minutes-2020-06-07/', 'https://www.cbsnews.com/news/naacp-sherrilyn-ifill-george-floyd-donald-trump-response-60-minutes-2020-06-07/', 'https://www.cbsnews.com/news/naacp-sherrilyn-ifill-george-floyd-donald-trump-response-60-minutes-2020-06-07/', 'https://www.cbsnews.com/news/naacp-sherrilyn-ifill-george-floyd-donald-trump-response-60-minutes-2020-06-07/', 'https://www.cbsnews.com/news/naacp-sherrilyn-ifill-george-floyd-donald-trump-response-60-minutes-2020-06-07/', 'https://www.cbsnews.com/news/naacp-sherrilyn-ifill-george-floyd-donald-trump-response-60-minutes-2020-06-07/', 'https://www.cbsnews.com/news/adam-sandler-the-rare-comedian-who-says-his-childhood-was-happy-60-minutes-2020-08-23/', 'https://www.cbsnews.com/news/driverless-trucks-could-disrupt-the-trucking-industry-as-soon-as-2021-60-minutes-2020-08-23/', 'https://www.cbsnews.com/news/russian-hackers-2016-election-democratic-congressional-campaign-committee-60-minutes-2020-08-23/', 'https://www.cbsnews.com/news/inside-the-corruption-allegations-plaguing-malta-60-minutes-2020-08-16/', 'https://www.cbsnews.com/news/elder-fernandez-fort-hood-soldier-body-found-hanging-tree/', 'https://www.cbsnews.com/news/protest-continue-kenosha-wisconsin-jacob-blake-shooting/', 'https://www.cbsnews.com/news/hurricane-laura-winds-storm-surge-damage-texas-louisiana/', 'https://www.cbsnews.com/news/jacob-blake-shooting-rusten-sheskey-kenosha-police-officer/', 'https://www.cbsnews.com/news/yevgeny-vindman-whistleblower-complaint-retaliation-pentagon/', 'https://www.cbsnews.com/news/stimulus-check-catch-up-money-withheld-irs/', 'https://www.cbsnews.com/news/kyle-rittenhouse-kenosha-shooting-protest-suspect-arrested-illinois/', 'https://www.cbsnews.com/news/jacob-blake-shooting-rusten-sheskey-kenosha-police-officer/', 'https://www.cbsnews.com/news/yevgeny-vindman-whistleblower-complaint-retaliation-pentagon/', 'https://www.cbsnews.com/news/hurricane-laura-winds-storm-surge-damage-texas-louisiana/', 'https://www.cbsnews.com/news/minneapolis-unrest-mistaken-reports-police-shooting-black-man-who-actually-shot-himself/', 'https://www.cbsnews.com/news/cbs-news-internship-program/', 'https://www.cbsnews.com/news/cbs-news-associates-program/', 'https://www.cbsnews.com/news/body-mass-index-bmi-measuring-weight-health-risks/', 'https://www.cbsnews.com/news/republican-national-convention-night-3-watch-live/', 'https://www.cbsnews.com/news/nba-playoff-games-postponed-today-players-boycott-bucks-jacob-blake-2020-08-26/', 'https://www.cbsnews.com/news/jacob-blake-shooting-rusten-sheskey-kenosha-police-officer/', 'https://www.cbsnews.com/news/hurricane-laura-winds-storm-surge-damage-texas-louisiana/', 'https://www.cbsnews.com/news/republican-national-convention-night-3-watch-live/', 'https://www.cbsnews.com/news/fbi-10-most-wanted-fugitives-captured-daughters-2008-killings/', 'https://www.cbsnews.com/news/minneapolis-unrest-mistaken-reports-police-shooting-black-man-who-actually-shot-himself/', 'https://www.cbsnews.com/news/jacob-blake-shooting-protests-kenosha-stay-peaceful/', 'https://www.cbsnews.com/news/jacob-blake-shooting-rusten-sheskey-kenosha-police-officer/', 'https://www.cbsnews.com/news/christchurch-new-zealand-mosque-shooter-sentenced-to-life-without-parole-for-killing-51/', 'https://www.cbsnews.com/news/lezmond-mitchell-execution-only-native-american-man-on-death-row-executed-for-2001-murders/', 'https://www.cbsnews.com/news/hurricane-laura-winds-storm-surge-damage-texas-louisiana/', 'https://www.cbsnews.com/news/cbs-news-2020-battleground-tracker-5-things-to-know/', 'https://www.cbsnews.com/news/republican-national-convention-night-3-watch-live/', 'https://www.cbsnews.com/news/republicans-economy-coronavirus-opinion-poll-cbs-news-battleground-tracker/', 'https://www.cbsnews.com/news/democratic-national-convention-takeaways-moments/', 'https://www.cbsnews.com/news/2020-election-mail-in-voting-ballots-results/', 'https://www.cbsnews.com/news/voting-rights-americans-cast-ballot-ease/', 'https://www.cbsnews.com/news/joe-biden-kamala-harris-democratic-convention-opinion-poll-08-16-2020/', 'https://www.cbsnews.com/news/why-mail-in-ballot-rejected-voting-counts/', 'https://www.cbsnews.com/news/what-happens-if-the-president-doesnt-accept-the-election-results/', 'https://www.cbsnews.com/news/election-day-mail-in-voting-ballots-election-week/', 'https://www.cbsnews.com/news/russian-hackers-2016-election-democratic-congressional-campaign-committee-60-minutes-2020-08-23/', 'https://www.cbsnews.com/news/russian-hackers-2016-election-democratic-congressional-campaign-committee-60-minutes-2020-08-23/', 'https://www.cbsnews.com/news/russian-hackers-2016-election-democratic-congressional-campaign-committee-60-minutes-2020-08-23/', 'https://www.cbsnews.com/news/russian-hackers-2016-election-democratic-congressional-campaign-committee-60-minutes-2020-08-23/', 'https://www.cbsnews.com/news/russian-hackers-2016-election-democratic-congressional-campaign-committee-60-minutes-2020-08-23/', 'https://www.cbsnews.com/news/hungary-paying-citizens-to-have-babies-60-minutes-2020-07-19/', 'https://www.cbsnews.com/news/hungary-paying-citizens-to-have-babies-60-minutes-2020-07-19/', 'https://www.cbsnews.com/news/hungary-paying-citizens-to-have-babies-60-minutes-2020-07-19/', 'https://www.cbsnews.com/news/hungary-paying-citizens-to-have-babies-60-minutes-2020-07-19/', 'https://www.cbsnews.com/news/hungary-paying-citizens-to-have-babies-60-minutes-2020-07-19/', 'https://www.cbsnews.com/news/60-minutes-the-history-and-future-of-confederate-monuments-2020-07-12/', 'https://www.cbsnews.com/news/60-minutes-the-history-and-future-of-confederate-monuments-2020-07-12/', 'https://www.cbsnews.com/news/60-minutes-the-history-and-future-of-confederate-monuments-2020-07-12/', 'https://www.cbsnews.com/news/60-minutes-the-history-and-future-of-confederate-monuments-2020-07-12/', 'https://www.cbsnews.com/news/60-minutes-the-history-and-future-of-confederate-monuments-2020-07-12/', 'https://www.cbsnews.com/news/election-voting-2019-20-coronavirus-pandemic-60-minutes-2020-06-28/', 'https://www.cbsnews.com/news/election-voting-2019-20-coronavirus-pandemic-60-minutes-2020-06-28/', 'https://www.cbsnews.com/news/election-voting-2019-20-coronavirus-pandemic-60-minutes-2020-06-28/', 'https://www.cbsnews.com/news/election-voting-2019-20-coronavirus-pandemic-60-minutes-2020-06-28/', 'https://www.cbsnews.com/news/election-voting-2019-20-coronavirus-pandemic-60-minutes-2020-06-28/', 'https://www.cbsnews.com/news/coronavirus-antibody-testing-inaccurate-data-60-minutes-2020-06-28/', 'https://www.cbsnews.com/news/coronavirus-antibody-testing-inaccurate-data-60-minutes-2020-06-28/', 'https://www.cbsnews.com/news/coronavirus-antibody-testing-inaccurate-data-60-minutes-2020-06-28/', 'https://www.cbsnews.com/news/coronavirus-antibody-testing-inaccurate-data-60-minutes-2020-06-28/', 'https://www.cbsnews.com/news/coronavirus-antibody-testing-inaccurate-data-60-minutes-2020-06-28/', 'https://www.cbsnews.com/news/trump-administration-coronavirus-vaccine-researcher-covid-19-cure-60-minutes/', 'https://www.cbsnews.com/news/trump-administration-coronavirus-vaccine-researcher-covid-19-cure-60-minutes/', 'https://www.cbsnews.com/news/trump-administration-coronavirus-vaccine-researcher-covid-19-cure-60-minutes/', 'https://www.cbsnews.com/news/trump-administration-coronavirus-vaccine-researcher-covid-19-cure-60-minutes/', 'https://www.cbsnews.com/news/trump-administration-coronavirus-vaccine-researcher-covid-19-cure-60-minutes/', 'https://www.cbsnews.com/news/the-opioid-epidemic-who-is-to-blame-60-minutes-2020-06-21/', 'https://www.cbsnews.com/news/the-opioid-epidemic-who-is-to-blame-60-minutes-2020-06-21/', 'https://www.cbsnews.com/news/the-opioid-epidemic-who-is-to-blame-60-minutes-2020-06-21/', 'https://www.cbsnews.com/news/the-opioid-epidemic-who-is-to-blame-60-minutes-2020-06-21/', 'https://www.cbsnews.com/news/the-opioid-epidemic-who-is-to-blame-60-minutes-2020-06-21/', 'https://www.cbsnews.com/news/adam-sandler-the-rare-comedian-who-says-his-childhood-was-happy-60-minutes-2020-08-23/', 'https://www.cbsnews.com/news/driverless-trucks-could-disrupt-the-trucking-industry-as-soon-as-2021-60-minutes-2020-08-23/', 'https://www.cbsnews.com/news/russian-hackers-2016-election-democratic-congressional-campaign-committee-60-minutes-2020-08-23/', 'https://www.cbsnews.com/news/inside-the-corruption-allegations-plaguing-malta-60-minutes-2020-08-16/', 'https://www.cbsnews.com/news/elder-fernandez-fort-hood-soldier-body-found-hanging-tree/', 'https://www.cbsnews.com/news/protest-continue-kenosha-wisconsin-jacob-blake-shooting/', 'https://www.cbsnews.com/news/hurricane-laura-winds-storm-surge-damage-texas-louisiana/', 'https://www.cbsnews.com/news/jacob-blake-shooting-rusten-sheskey-kenosha-police-officer/', 'https://www.cbsnews.com/news/yevgeny-vindman-whistleblower-complaint-retaliation-pentagon/', 'https://www.cbsnews.com/news/stimulus-check-catch-up-money-withheld-irs/', 'https://www.cbsnews.com/news/kyle-rittenhouse-kenosha-shooting-protest-suspect-arrested-illinois/', 'https://www.cbsnews.com/news/jacob-blake-shooting-rusten-sheskey-kenosha-police-officer/', 'https://www.cbsnews.com/news/yevgeny-vindman-whistleblower-complaint-retaliation-pentagon/', 'https://www.cbsnews.com/news/hurricane-laura-winds-storm-surge-damage-texas-louisiana/', 'https://www.cbsnews.com/news/minneapolis-unrest-mistaken-reports-police-shooting-black-man-who-actually-shot-himself/', 'https://www.cbsnews.com/news/cbs-news-internship-program/', 'https://www.cbsnews.com/news/cbs-news-associates-program/']\n"
    }
   ],
   "source": [
    "print(liste)"
   ]
  },
  {
   "cell_type": "code",
   "execution_count": 40,
   "metadata": {},
   "outputs": [],
   "source": [
    "def write_infile_webpage(url,liste=[]):\n",
    "    # write data in a file\n",
    "    a=\"[\"+url+\"]\"\n",
    "    with open(\"articleURL.ini\", \"a\") as file1:\n",
    "        file1.write(\"\\n\")\n",
    "        file1.write(a)\n",
    "        file1.write(\"\\n\")\n",
    "        file1.write('liste = '+str(liste)) \n",
    "        file1.write(\"\\n\")"
   ]
  },
  {
   "cell_type": "code",
   "execution_count": 41,
   "metadata": {},
   "outputs": [],
   "source": [
    "write_infile_webpage('CBS News',liste)"
   ]
  },
  {
   "cell_type": "code",
   "execution_count": null,
   "metadata": {},
   "outputs": [],
   "source": []
  }
 ]
}