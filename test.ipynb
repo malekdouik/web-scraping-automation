{
 "metadata": {
  "language_info": {
   "codemirror_mode": {
    "name": "ipython",
    "version": 3
   },
   "file_extension": ".py",
   "mimetype": "text/x-python",
   "name": "python",
   "nbconvert_exporter": "python",
   "pygments_lexer": "ipython3",
   "version": "3.7.1-final"
  },
  "orig_nbformat": 2,
  "kernelspec": {
   "name": "python3",
   "display_name": "Python 3"
  }
 },
 "nbformat": 4,
 "nbformat_minor": 2,
 "cells": [
  {
   "cell_type": "code",
   "execution_count": 3,
   "metadata": {
    "tags": []
   },
   "outputs": [
    {
     "output_type": "stream",
     "name": "stdout",
     "text": "Buyers:  ['Singer Taylor Swift has donated £23,000 to a London-based student struggling to raise the funds to take up a maths course at the University of Warwick.']\n"
    }
   ],
   "source": [
    "from lxml import html\n",
    "import requests\n",
    "\n",
    "page = requests.get('https://www.bbc.com/news/uk-53857694')\n",
    "tree = html.fromstring(page.content)\n",
    "#This will create a list of buyers:\n",
    "buyers = tree.xpath('//*[@id=\"page\"]/div[1]/div[2]/div/div[1]/div[1]/div[2]/p[1]/text()')\n",
    "\n",
    "\n",
    "print('Buyers: ', buyers)"
   ]
  },
  {
   "cell_type": "code",
   "execution_count": 48,
   "metadata": {
    "tags": []
   },
   "outputs": [
    {
     "output_type": "stream",
     "name": "stdout",
     "text": "Note: you may need to restart the kernel to use updated packages.\nWARNING: Requirement 'PyQt4‑4.11.4‑cp36‑cp36m‑win_amd64.whl' looks like a filename, but the file does not exist\nERROR: PyQt4‑4.11.4‑cp36‑cp36m‑win_amd64.whl is not a valid wheel filename.\n"
    }
   ],
   "source": [
    "pip install PyQt4‑4.11.4‑cp36‑cp36m‑win_amd64.whl "
   ]
  },
  {
   "cell_type": "code",
   "execution_count": 47,
   "metadata": {},
   "outputs": [],
   "source": [
    "import sys\n",
    "from PyQt4.QtGui import QApplication\n",
    "from PyQt4.QtCore import QUrl\n",
    "from PyQt4.QtWebKit import QWebPage\n",
    "import bs4 as bs\n",
    "import urllib.request"
   ]
  },
  {
   "cell_type": "code",
   "execution_count": 41,
   "metadata": {
    "tags": []
   },
   "outputs": [
    {
     "output_type": "stream",
     "name": "stdout",
     "text": "* Serving Flask app \"__main__\" (lazy loading)\n * Environment: production\n   WARNING: This is a development server. Do not use it in a production deployment.\n   Use a production WSGI server instead.\n * Debug mode: off\n * Running on http://127.0.0.1:5000/ (Press CTRL+C to quit)\n127.0.0.1 - - [21/Aug/2020 16:44:57] \"\u001b[37mGET / HTTP/1.1\u001b[0m\" 200 -\n127.0.0.1 - - [21/Aug/2020 16:45:09] \"\u001b[31m\u001b[1mPOST /predict HTTP/1.1\u001b[0m\" 400 -\na\nAAAAAAAAAAAAAAAAAAAAAAAAAAAAAAAAAAAAAAAAAAAAAAAAAAAAAAAAA\nzebiiiiiiiiiiiiiiiiiiiiiiiiiiiiiiiiiiiiiiiiiiiiiiii\n"
    }
   ],
   "source": [
    "import flask\n",
    "from flask import Flask,render_template,request,request, jsonify\n",
    "\n",
    "app = flask.Flask(__name__)\n",
    "@app.route('/')\n",
    "def home():\n",
    "    return render_template('testButton.html')\n",
    "\n",
    "@app.route('/predict',methods=['POST'])\n",
    "def predict():\n",
    "    lien = request.form['lien']\n",
    "    num = request.form['num']\n",
    "\n",
    "    print(lien)\n",
    "    print('AAAAAAAAAAAAAAAAAAAAAAAAAAAAAAAAAAAAAAAAAAAAAAAAAAAAAAAAA')\n",
    "    baliz=[]\n",
    "    for i in range(1,int(num)):\n",
    "        baliz.append( request.form['baliz1'] )\n",
    "    \n",
    "    print('BBBBBBBBBBBBBBBBBBBBBBBBBBBBBBBBBBBBBBBBBBBBBBBBBBBBBBBBBB')\n",
    "    nom_class=[]\n",
    "    for i in range(num):\n",
    "        nom_class.append(request.form['class_name'+str(i)])   \n",
    "\n",
    "    print('CCCCCCCCCCCCCCCCCCCCCCCCCCCCCCCCCCCCCCCCCCCCCCCCCCCCCC')\n",
    "    print(lien)\n",
    "    print(num)\n",
    "    print(baliz)\n",
    "    print(nom_class)\n",
    "    \n",
    "    print('DDDDDDDDDDDDDDDDDDDDDDDDDDDDDDDDDDDDDDDDDDDDDDDDDDDDDDD')\n",
    "\n",
    "    return render_template('testButton.html')\n",
    "\n",
    "if __name__ == '__main__':\n",
    "    app.run() "
   ]
  },
  {
   "cell_type": "code",
   "execution_count": 37,
   "metadata": {
    "tags": []
   },
   "outputs": [],
   "source": [
    "a=4\n",
    "liste=[]\n",
    "\n",
    "for i in range(1,a):\n",
    "    liste.append(\"Azerty\"+str(i))"
   ]
  },
  {
   "cell_type": "code",
   "execution_count": 38,
   "metadata": {},
   "outputs": [
    {
     "output_type": "execute_result",
     "data": {
      "text/plain": "['Azerty1', 'Azerty2', 'Azerty3']"
     },
     "metadata": {},
     "execution_count": 38
    }
   ],
   "source": [
    "liste"
   ]
  },
  {
   "cell_type": "code",
   "execution_count": null,
   "metadata": {},
   "outputs": [],
   "source": []
  },
  {
   "cell_type": "code",
   "execution_count": null,
   "metadata": {},
   "outputs": [],
   "source": []
  }
 ]
}